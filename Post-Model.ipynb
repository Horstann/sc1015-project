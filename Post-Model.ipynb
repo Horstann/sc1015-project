{
 "cells": [
  {
   "cell_type": "markdown",
   "metadata": {},
   "source": [
    "# 1. Statistical Inference"
   ]
  },
  {
   "cell_type": "markdown",
   "metadata": {},
   "source": [
    "## Import libraries"
   ]
  },
  {
   "cell_type": "code",
   "execution_count": 1,
   "metadata": {},
   "outputs": [],
   "source": [
    "import pandas as pd\n",
    "import seaborn as sns\n",
    "import numpy as np\n",
    "import plotly.graph_objects as go\n",
    "from IPython.display import display\n",
    "from sklearn.metrics import mean_squared_error as mse\n",
    "from sklearn.linear_model import LinearRegression\n",
    "from sklearn.preprocessing import PolynomialFeatures\n",
    "from sklearn.model_selection import train_test_split\n",
    "sns.set()"
   ]
  },
  {
   "cell_type": "code",
   "execution_count": 2,
   "metadata": {},
   "outputs": [
    {
     "data": {
      "text/html": [
       "<div>\n",
       "<style scoped>\n",
       "    .dataframe tbody tr th:only-of-type {\n",
       "        vertical-align: middle;\n",
       "    }\n",
       "\n",
       "    .dataframe tbody tr th {\n",
       "        vertical-align: top;\n",
       "    }\n",
       "\n",
       "    .dataframe thead th {\n",
       "        text-align: right;\n",
       "    }\n",
       "</style>\n",
       "<table border=\"1\" class=\"dataframe\">\n",
       "  <thead>\n",
       "    <tr style=\"text-align: right;\">\n",
       "      <th></th>\n",
       "      <th>gdp</th>\n",
       "      <th>gnp</th>\n",
       "      <th>real_gdp</th>\n",
       "      <th>real_gdp_per_capita</th>\n",
       "      <th>net_exports</th>\n",
       "      <th>gni</th>\n",
       "      <th>govt_spending</th>\n",
       "      <th>consumer_spending</th>\n",
       "      <th>private_domestic_investment</th>\n",
       "      <th>cpi</th>\n",
       "      <th>consumer_oil_price</th>\n",
       "      <th>ir</th>\n",
       "      <th>unemployment_rate</th>\n",
       "      <th>Close</th>\n",
       "      <th>Volume</th>\n",
       "      <th>ClosePrev</th>\n",
       "      <th>CloseNext</th>\n",
       "    </tr>\n",
       "  </thead>\n",
       "  <tbody>\n",
       "    <tr>\n",
       "      <th>0</th>\n",
       "      <td>308.153</td>\n",
       "      <td>309.760</td>\n",
       "      <td>2340.112</td>\n",
       "      <td>15398.0</td>\n",
       "      <td>-0.740</td>\n",
       "      <td>307.413</td>\n",
       "      <td>600.663</td>\n",
       "      <td>200.505</td>\n",
       "      <td>1.247</td>\n",
       "      <td>24.203</td>\n",
       "      <td>11.267</td>\n",
       "      <td>1.61</td>\n",
       "      <td>4.6</td>\n",
       "      <td>18.180000</td>\n",
       "      <td>2.760741e+07</td>\n",
       "      <td>17.186667</td>\n",
       "      <td>18.570000</td>\n",
       "    </tr>\n",
       "    <tr>\n",
       "      <th>1</th>\n",
       "      <td>319.945</td>\n",
       "      <td>321.554</td>\n",
       "      <td>2384.920</td>\n",
       "      <td>15623.0</td>\n",
       "      <td>-0.154</td>\n",
       "      <td>319.791</td>\n",
       "      <td>643.100</td>\n",
       "      <td>197.946</td>\n",
       "      <td>1.289</td>\n",
       "      <td>24.693</td>\n",
       "      <td>11.500</td>\n",
       "      <td>1.75</td>\n",
       "      <td>4.2</td>\n",
       "      <td>18.570000</td>\n",
       "      <td>2.260370e+07</td>\n",
       "      <td>18.180000</td>\n",
       "      <td>19.816667</td>\n",
       "    </tr>\n",
       "    <tr>\n",
       "      <th>2</th>\n",
       "      <td>336.000</td>\n",
       "      <td>337.537</td>\n",
       "      <td>2417.311</td>\n",
       "      <td>15769.0</td>\n",
       "      <td>0.177</td>\n",
       "      <td>336.177</td>\n",
       "      <td>711.537</td>\n",
       "      <td>209.207</td>\n",
       "      <td>1.296</td>\n",
       "      <td>25.697</td>\n",
       "      <td>11.700</td>\n",
       "      <td>1.75</td>\n",
       "      <td>3.5</td>\n",
       "      <td>19.816667</td>\n",
       "      <td>3.068148e+07</td>\n",
       "      <td>18.570000</td>\n",
       "      <td>21.620000</td>\n",
       "    </tr>\n",
       "    <tr>\n",
       "      <th>3</th>\n",
       "      <td>344.090</td>\n",
       "      <td>345.973</td>\n",
       "      <td>2459.196</td>\n",
       "      <td>15979.0</td>\n",
       "      <td>1.943</td>\n",
       "      <td>346.033</td>\n",
       "      <td>806.376</td>\n",
       "      <td>204.942</td>\n",
       "      <td>1.332</td>\n",
       "      <td>25.947</td>\n",
       "      <td>11.933</td>\n",
       "      <td>1.75</td>\n",
       "      <td>3.1</td>\n",
       "      <td>21.620000</td>\n",
       "      <td>3.020555e+07</td>\n",
       "      <td>19.816667</td>\n",
       "      <td>21.636667</td>\n",
       "    </tr>\n",
       "    <tr>\n",
       "      <th>4</th>\n",
       "      <td>351.385</td>\n",
       "      <td>353.381</td>\n",
       "      <td>2509.880</td>\n",
       "      <td>16234.0</td>\n",
       "      <td>3.742</td>\n",
       "      <td>355.127</td>\n",
       "      <td>895.015</td>\n",
       "      <td>207.616</td>\n",
       "      <td>1.385</td>\n",
       "      <td>25.933</td>\n",
       "      <td>11.933</td>\n",
       "      <td>1.75</td>\n",
       "      <td>3.2</td>\n",
       "      <td>21.636667</td>\n",
       "      <td>2.172778e+07</td>\n",
       "      <td>21.620000</td>\n",
       "      <td>22.980000</td>\n",
       "    </tr>\n",
       "    <tr>\n",
       "      <th>...</th>\n",
       "      <td>...</td>\n",
       "      <td>...</td>\n",
       "      <td>...</td>\n",
       "      <td>...</td>\n",
       "      <td>...</td>\n",
       "      <td>...</td>\n",
       "      <td>...</td>\n",
       "      <td>...</td>\n",
       "      <td>...</td>\n",
       "      <td>...</td>\n",
       "      <td>...</td>\n",
       "      <td>...</td>\n",
       "      <td>...</td>\n",
       "      <td>...</td>\n",
       "      <td>...</td>\n",
       "      <td>...</td>\n",
       "      <td>...</td>\n",
       "    </tr>\n",
       "    <tr>\n",
       "      <th>279</th>\n",
       "      <td>19477.444</td>\n",
       "      <td>19649.442</td>\n",
       "      <td>17258.205</td>\n",
       "      <td>52031.0</td>\n",
       "      <td>-538.876</td>\n",
       "      <td>18938.568</td>\n",
       "      <td>3378.132</td>\n",
       "      <td>12989.729</td>\n",
       "      <td>519.850</td>\n",
       "      <td>256.418</td>\n",
       "      <td>219.570</td>\n",
       "      <td>0.25</td>\n",
       "      <td>13.0</td>\n",
       "      <td>2921.443333</td>\n",
       "      <td>5.985144e+10</td>\n",
       "      <td>3136.440000</td>\n",
       "      <td>3019.010000</td>\n",
       "    </tr>\n",
       "    <tr>\n",
       "      <th>280</th>\n",
       "      <td>21138.574</td>\n",
       "      <td>21365.412</td>\n",
       "      <td>18560.774</td>\n",
       "      <td>55933.0</td>\n",
       "      <td>-725.723</td>\n",
       "      <td>20412.851</td>\n",
       "      <td>3360.238</td>\n",
       "      <td>14293.832</td>\n",
       "      <td>539.864</td>\n",
       "      <td>259.438</td>\n",
       "      <td>232.403</td>\n",
       "      <td>0.25</td>\n",
       "      <td>8.8</td>\n",
       "      <td>3019.010000</td>\n",
       "      <td>6.714349e+10</td>\n",
       "      <td>2921.443333</td>\n",
       "      <td>3378.143333</td>\n",
       "    </tr>\n",
       "    <tr>\n",
       "      <th>281</th>\n",
       "      <td>21477.597</td>\n",
       "      <td>21728.223</td>\n",
       "      <td>18767.778</td>\n",
       "      <td>56533.0</td>\n",
       "      <td>-798.431</td>\n",
       "      <td>20679.166</td>\n",
       "      <td>3356.030</td>\n",
       "      <td>14467.611</td>\n",
       "      <td>561.269</td>\n",
       "      <td>260.879</td>\n",
       "      <td>234.862</td>\n",
       "      <td>0.25</td>\n",
       "      <td>6.8</td>\n",
       "      <td>3378.143333</td>\n",
       "      <td>5.204018e+10</td>\n",
       "      <td>3019.010000</td>\n",
       "      <td>3549.220000</td>\n",
       "    </tr>\n",
       "    <tr>\n",
       "      <th>282</th>\n",
       "      <td>22038.226</td>\n",
       "      <td>22273.060</td>\n",
       "      <td>19055.655</td>\n",
       "      <td>57405.0</td>\n",
       "      <td>-872.540</td>\n",
       "      <td>21165.686</td>\n",
       "      <td>3390.921</td>\n",
       "      <td>15005.444</td>\n",
       "      <td>576.340</td>\n",
       "      <td>263.525</td>\n",
       "      <td>274.983</td>\n",
       "      <td>0.25</td>\n",
       "      <td>6.2</td>\n",
       "      <td>3549.220000</td>\n",
       "      <td>5.152288e+10</td>\n",
       "      <td>3378.143333</td>\n",
       "      <td>3832.760000</td>\n",
       "    </tr>\n",
       "    <tr>\n",
       "      <th>283</th>\n",
       "      <td>22740.959</td>\n",
       "      <td>22971.357</td>\n",
       "      <td>19368.310</td>\n",
       "      <td>58335.0</td>\n",
       "      <td>-881.689</td>\n",
       "      <td>21859.270</td>\n",
       "      <td>3373.765</td>\n",
       "      <td>15681.699</td>\n",
       "      <td>594.504</td>\n",
       "      <td>268.760</td>\n",
       "      <td>289.754</td>\n",
       "      <td>0.25</td>\n",
       "      <td>5.9</td>\n",
       "      <td>3832.760000</td>\n",
       "      <td>5.277860e+10</td>\n",
       "      <td>3549.220000</td>\n",
       "      <td>4227.593333</td>\n",
       "    </tr>\n",
       "  </tbody>\n",
       "</table>\n",
       "<p>284 rows × 17 columns</p>\n",
       "</div>"
      ],
      "text/plain": [
       "           gdp        gnp   real_gdp  real_gdp_per_capita  net_exports  \\\n",
       "0      308.153    309.760   2340.112              15398.0       -0.740   \n",
       "1      319.945    321.554   2384.920              15623.0       -0.154   \n",
       "2      336.000    337.537   2417.311              15769.0        0.177   \n",
       "3      344.090    345.973   2459.196              15979.0        1.943   \n",
       "4      351.385    353.381   2509.880              16234.0        3.742   \n",
       "..         ...        ...        ...                  ...          ...   \n",
       "279  19477.444  19649.442  17258.205              52031.0     -538.876   \n",
       "280  21138.574  21365.412  18560.774              55933.0     -725.723   \n",
       "281  21477.597  21728.223  18767.778              56533.0     -798.431   \n",
       "282  22038.226  22273.060  19055.655              57405.0     -872.540   \n",
       "283  22740.959  22971.357  19368.310              58335.0     -881.689   \n",
       "\n",
       "           gni  govt_spending  consumer_spending  private_domestic_investment  \\\n",
       "0      307.413        600.663            200.505                        1.247   \n",
       "1      319.791        643.100            197.946                        1.289   \n",
       "2      336.177        711.537            209.207                        1.296   \n",
       "3      346.033        806.376            204.942                        1.332   \n",
       "4      355.127        895.015            207.616                        1.385   \n",
       "..         ...            ...                ...                          ...   \n",
       "279  18938.568       3378.132          12989.729                      519.850   \n",
       "280  20412.851       3360.238          14293.832                      539.864   \n",
       "281  20679.166       3356.030          14467.611                      561.269   \n",
       "282  21165.686       3390.921          15005.444                      576.340   \n",
       "283  21859.270       3373.765          15681.699                      594.504   \n",
       "\n",
       "         cpi  consumer_oil_price    ir  unemployment_rate        Close  \\\n",
       "0     24.203              11.267  1.61                4.6    18.180000   \n",
       "1     24.693              11.500  1.75                4.2    18.570000   \n",
       "2     25.697              11.700  1.75                3.5    19.816667   \n",
       "3     25.947              11.933  1.75                3.1    21.620000   \n",
       "4     25.933              11.933  1.75                3.2    21.636667   \n",
       "..       ...                 ...   ...                ...          ...   \n",
       "279  256.418             219.570  0.25               13.0  2921.443333   \n",
       "280  259.438             232.403  0.25                8.8  3019.010000   \n",
       "281  260.879             234.862  0.25                6.8  3378.143333   \n",
       "282  263.525             274.983  0.25                6.2  3549.220000   \n",
       "283  268.760             289.754  0.25                5.9  3832.760000   \n",
       "\n",
       "           Volume    ClosePrev    CloseNext  \n",
       "0    2.760741e+07    17.186667    18.570000  \n",
       "1    2.260370e+07    18.180000    19.816667  \n",
       "2    3.068148e+07    18.570000    21.620000  \n",
       "3    3.020555e+07    19.816667    21.636667  \n",
       "4    2.172778e+07    21.620000    22.980000  \n",
       "..            ...          ...          ...  \n",
       "279  5.985144e+10  3136.440000  3019.010000  \n",
       "280  6.714349e+10  2921.443333  3378.143333  \n",
       "281  5.204018e+10  3019.010000  3549.220000  \n",
       "282  5.152288e+10  3378.143333  3832.760000  \n",
       "283  5.277860e+10  3549.220000  4227.593333  \n",
       "\n",
       "[284 rows x 17 columns]"
      ]
     },
     "execution_count": 2,
     "metadata": {},
     "output_type": "execute_result"
    }
   ],
   "source": [
    "df_full = pd.read_csv(\"outputs/df_full.csv\")\n",
    "df_full.drop('Unnamed: 0', inplace=True, axis=1)\n",
    "df_full"
   ]
  },
  {
   "cell_type": "markdown",
   "metadata": {},
   "source": [
    "## Import Results from LSTM Model"
   ]
  },
  {
   "cell_type": "code",
   "execution_count": 3,
   "metadata": {},
   "outputs": [
    {
     "data": {
      "text/html": [
       "<div>\n",
       "<style scoped>\n",
       "    .dataframe tbody tr th:only-of-type {\n",
       "        vertical-align: middle;\n",
       "    }\n",
       "\n",
       "    .dataframe tbody tr th {\n",
       "        vertical-align: top;\n",
       "    }\n",
       "\n",
       "    .dataframe thead th {\n",
       "        text-align: right;\n",
       "    }\n",
       "</style>\n",
       "<table border=\"1\" class=\"dataframe\">\n",
       "  <thead>\n",
       "    <tr style=\"text-align: right;\">\n",
       "      <th></th>\n",
       "      <th>MSE</th>\n",
       "    </tr>\n",
       "  </thead>\n",
       "  <tbody>\n",
       "    <tr>\n",
       "      <th>count</th>\n",
       "      <td>20.000000</td>\n",
       "    </tr>\n",
       "    <tr>\n",
       "      <th>mean</th>\n",
       "      <td>78305.750298</td>\n",
       "    </tr>\n",
       "    <tr>\n",
       "      <th>std</th>\n",
       "      <td>200200.272392</td>\n",
       "    </tr>\n",
       "    <tr>\n",
       "      <th>min</th>\n",
       "      <td>7912.070815</td>\n",
       "    </tr>\n",
       "    <tr>\n",
       "      <th>25%</th>\n",
       "      <td>11466.811390</td>\n",
       "    </tr>\n",
       "    <tr>\n",
       "      <th>50%</th>\n",
       "      <td>13556.713018</td>\n",
       "    </tr>\n",
       "    <tr>\n",
       "      <th>75%</th>\n",
       "      <td>15937.655031</td>\n",
       "    </tr>\n",
       "    <tr>\n",
       "      <th>max</th>\n",
       "      <td>663816.384904</td>\n",
       "    </tr>\n",
       "  </tbody>\n",
       "</table>\n",
       "</div>"
      ],
      "text/plain": [
       "                 MSE\n",
       "count      20.000000\n",
       "mean    78305.750298\n",
       "std    200200.272392\n",
       "min      7912.070815\n",
       "25%     11466.811390\n",
       "50%     13556.713018\n",
       "75%     15937.655031\n",
       "max    663816.384904"
      ]
     },
     "metadata": {},
     "output_type": "display_data"
    }
   ],
   "source": [
    "res_df = pd.read_csv(\"outputs/res_df.csv\")\n",
    "res_df.drop('Unnamed: 0', inplace=True, axis=1)\n",
    "display(res_df.describe())"
   ]
  },
  {
   "cell_type": "markdown",
   "metadata": {},
   "source": [
    "## Remove Outliers"
   ]
  },
  {
   "cell_type": "code",
   "execution_count": 15,
   "metadata": {},
   "outputs": [
    {
     "name": "stdout",
     "output_type": "stream",
     "text": [
      "Remaining values after removing outliers:\n"
     ]
    },
    {
     "data": {
      "text/html": [
       "<div>\n",
       "<style scoped>\n",
       "    .dataframe tbody tr th:only-of-type {\n",
       "        vertical-align: middle;\n",
       "    }\n",
       "\n",
       "    .dataframe tbody tr th {\n",
       "        vertical-align: top;\n",
       "    }\n",
       "\n",
       "    .dataframe thead th {\n",
       "        text-align: right;\n",
       "    }\n",
       "</style>\n",
       "<table border=\"1\" class=\"dataframe\">\n",
       "  <thead>\n",
       "    <tr style=\"text-align: right;\">\n",
       "      <th></th>\n",
       "      <th>MSE</th>\n",
       "    </tr>\n",
       "  </thead>\n",
       "  <tbody>\n",
       "    <tr>\n",
       "      <th>0</th>\n",
       "      <td>13784.256021</td>\n",
       "    </tr>\n",
       "    <tr>\n",
       "      <th>2</th>\n",
       "      <td>15787.038724</td>\n",
       "    </tr>\n",
       "    <tr>\n",
       "      <th>3</th>\n",
       "      <td>10290.518741</td>\n",
       "    </tr>\n",
       "    <tr>\n",
       "      <th>4</th>\n",
       "      <td>13896.817178</td>\n",
       "    </tr>\n",
       "    <tr>\n",
       "      <th>6</th>\n",
       "      <td>9242.089766</td>\n",
       "    </tr>\n",
       "    <tr>\n",
       "      <th>7</th>\n",
       "      <td>11858.908939</td>\n",
       "    </tr>\n",
       "    <tr>\n",
       "      <th>8</th>\n",
       "      <td>12752.546323</td>\n",
       "    </tr>\n",
       "    <tr>\n",
       "      <th>9</th>\n",
       "      <td>13776.037066</td>\n",
       "    </tr>\n",
       "    <tr>\n",
       "      <th>10</th>\n",
       "      <td>13333.109139</td>\n",
       "    </tr>\n",
       "    <tr>\n",
       "      <th>12</th>\n",
       "      <td>16389.503952</td>\n",
       "    </tr>\n",
       "    <tr>\n",
       "      <th>13</th>\n",
       "      <td>17438.499120</td>\n",
       "    </tr>\n",
       "    <tr>\n",
       "      <th>14</th>\n",
       "      <td>13337.388969</td>\n",
       "    </tr>\n",
       "    <tr>\n",
       "      <th>15</th>\n",
       "      <td>7912.070815</td>\n",
       "    </tr>\n",
       "    <tr>\n",
       "      <th>16</th>\n",
       "      <td>9423.751059</td>\n",
       "    </tr>\n",
       "    <tr>\n",
       "      <th>17</th>\n",
       "      <td>14081.548217</td>\n",
       "    </tr>\n",
       "    <tr>\n",
       "      <th>18</th>\n",
       "      <td>13000.003537</td>\n",
       "    </tr>\n",
       "    <tr>\n",
       "      <th>19</th>\n",
       "      <td>9315.675885</td>\n",
       "    </tr>\n",
       "  </tbody>\n",
       "</table>\n",
       "</div>"
      ],
      "text/plain": [
       "             MSE\n",
       "0   13784.256021\n",
       "2   15787.038724\n",
       "3   10290.518741\n",
       "4   13896.817178\n",
       "6    9242.089766\n",
       "7   11858.908939\n",
       "8   12752.546323\n",
       "9   13776.037066\n",
       "10  13333.109139\n",
       "12  16389.503952\n",
       "13  17438.499120\n",
       "14  13337.388969\n",
       "15   7912.070815\n",
       "16   9423.751059\n",
       "17  14081.548217\n",
       "18  13000.003537\n",
       "19   9315.675885"
      ]
     },
     "metadata": {},
     "output_type": "display_data"
    },
    {
     "data": {
      "text/html": [
       "<div>\n",
       "<style scoped>\n",
       "    .dataframe tbody tr th:only-of-type {\n",
       "        vertical-align: middle;\n",
       "    }\n",
       "\n",
       "    .dataframe tbody tr th {\n",
       "        vertical-align: top;\n",
       "    }\n",
       "\n",
       "    .dataframe thead th {\n",
       "        text-align: right;\n",
       "    }\n",
       "</style>\n",
       "<table border=\"1\" class=\"dataframe\">\n",
       "  <thead>\n",
       "    <tr style=\"text-align: right;\">\n",
       "      <th></th>\n",
       "      <th>MSE</th>\n",
       "    </tr>\n",
       "  </thead>\n",
       "  <tbody>\n",
       "    <tr>\n",
       "      <th>count</th>\n",
       "      <td>17.000000</td>\n",
       "    </tr>\n",
       "    <tr>\n",
       "      <th>mean</th>\n",
       "      <td>12683.515497</td>\n",
       "    </tr>\n",
       "    <tr>\n",
       "      <th>std</th>\n",
       "      <td>2689.647638</td>\n",
       "    </tr>\n",
       "    <tr>\n",
       "      <th>min</th>\n",
       "      <td>7912.070815</td>\n",
       "    </tr>\n",
       "    <tr>\n",
       "      <th>25%</th>\n",
       "      <td>10290.518741</td>\n",
       "    </tr>\n",
       "    <tr>\n",
       "      <th>50%</th>\n",
       "      <td>13333.109139</td>\n",
       "    </tr>\n",
       "    <tr>\n",
       "      <th>75%</th>\n",
       "      <td>13896.817178</td>\n",
       "    </tr>\n",
       "    <tr>\n",
       "      <th>max</th>\n",
       "      <td>17438.499120</td>\n",
       "    </tr>\n",
       "  </tbody>\n",
       "</table>\n",
       "</div>"
      ],
      "text/plain": [
       "                MSE\n",
       "count     17.000000\n",
       "mean   12683.515497\n",
       "std     2689.647638\n",
       "min     7912.070815\n",
       "25%    10290.518741\n",
       "50%    13333.109139\n",
       "75%    13896.817178\n",
       "max    17438.499120"
      ]
     },
     "metadata": {},
     "output_type": "display_data"
    }
   ],
   "source": [
    "# Remove outliers\n",
    "Q3 = res_df.describe().loc['75%'].at['MSE']\n",
    "Q1 = res_df.describe().loc['25%'].at['MSE']\n",
    "IQR = Q3-Q1\n",
    "res_df = res_df[(res_df['MSE']>=Q1-1.5*IQR) & (res_df['MSE']<=Q3+1.5*IQR)]\n",
    "print(\"Remaining values after removing outliers:\")\n",
    "display(res_df)\n",
    "display(res_df.describe())\n",
    "\n",
    "res0 = res_df.describe().loc['50%'].at['MSE']\n",
    "# res_df.to_csv('results/lstm_results.csv')"
   ]
  },
  {
   "cell_type": "markdown",
   "metadata": {},
   "source": [
    "## Import Results from Regression Model"
   ]
  },
  {
   "cell_type": "code",
   "execution_count": 5,
   "metadata": {},
   "outputs": [
    {
     "name": "stdout",
     "output_type": "stream",
     "text": [
      "Values before removing outliers:\n"
     ]
    },
    {
     "data": {
      "text/html": [
       "<div>\n",
       "<style scoped>\n",
       "    .dataframe tbody tr th:only-of-type {\n",
       "        vertical-align: middle;\n",
       "    }\n",
       "\n",
       "    .dataframe tbody tr th {\n",
       "        vertical-align: top;\n",
       "    }\n",
       "\n",
       "    .dataframe thead th {\n",
       "        text-align: right;\n",
       "    }\n",
       "</style>\n",
       "<table border=\"1\" class=\"dataframe\">\n",
       "  <thead>\n",
       "    <tr style=\"text-align: right;\">\n",
       "      <th></th>\n",
       "      <th>R^2</th>\n",
       "      <th>MSE train</th>\n",
       "      <th>MSE test</th>\n",
       "    </tr>\n",
       "    <tr>\n",
       "      <th>random_state</th>\n",
       "      <th></th>\n",
       "      <th></th>\n",
       "      <th></th>\n",
       "    </tr>\n",
       "  </thead>\n",
       "  <tbody>\n",
       "    <tr>\n",
       "      <th>0</th>\n",
       "      <td>0.996022</td>\n",
       "      <td>2769.926266</td>\n",
       "      <td>5601.987580</td>\n",
       "    </tr>\n",
       "    <tr>\n",
       "      <th>1</th>\n",
       "      <td>0.995072</td>\n",
       "      <td>3294.501151</td>\n",
       "      <td>4527.341277</td>\n",
       "    </tr>\n",
       "    <tr>\n",
       "      <th>2</th>\n",
       "      <td>0.995329</td>\n",
       "      <td>3260.694419</td>\n",
       "      <td>3478.071381</td>\n",
       "    </tr>\n",
       "    <tr>\n",
       "      <th>3</th>\n",
       "      <td>0.995441</td>\n",
       "      <td>3377.506674</td>\n",
       "      <td>3109.400642</td>\n",
       "    </tr>\n",
       "    <tr>\n",
       "      <th>4</th>\n",
       "      <td>0.994611</td>\n",
       "      <td>3526.101231</td>\n",
       "      <td>5141.723797</td>\n",
       "    </tr>\n",
       "    <tr>\n",
       "      <th>...</th>\n",
       "      <td>...</td>\n",
       "      <td>...</td>\n",
       "      <td>...</td>\n",
       "    </tr>\n",
       "    <tr>\n",
       "      <th>996</th>\n",
       "      <td>0.995473</td>\n",
       "      <td>3218.404259</td>\n",
       "      <td>3812.822810</td>\n",
       "    </tr>\n",
       "    <tr>\n",
       "      <th>997</th>\n",
       "      <td>0.996039</td>\n",
       "      <td>2908.112518</td>\n",
       "      <td>8199.956137</td>\n",
       "    </tr>\n",
       "    <tr>\n",
       "      <th>998</th>\n",
       "      <td>0.995831</td>\n",
       "      <td>3152.769411</td>\n",
       "      <td>4209.897918</td>\n",
       "    </tr>\n",
       "    <tr>\n",
       "      <th>999</th>\n",
       "      <td>0.995834</td>\n",
       "      <td>3259.715763</td>\n",
       "      <td>3636.316085</td>\n",
       "    </tr>\n",
       "    <tr>\n",
       "      <th>1000</th>\n",
       "      <td>0.995202</td>\n",
       "      <td>3025.418981</td>\n",
       "      <td>7534.335239</td>\n",
       "    </tr>\n",
       "  </tbody>\n",
       "</table>\n",
       "<p>1001 rows × 3 columns</p>\n",
       "</div>"
      ],
      "text/plain": [
       "                   R^2    MSE train     MSE test\n",
       "random_state                                    \n",
       "0             0.996022  2769.926266  5601.987580\n",
       "1             0.995072  3294.501151  4527.341277\n",
       "2             0.995329  3260.694419  3478.071381\n",
       "3             0.995441  3377.506674  3109.400642\n",
       "4             0.994611  3526.101231  5141.723797\n",
       "...                ...          ...          ...\n",
       "996           0.995473  3218.404259  3812.822810\n",
       "997           0.996039  2908.112518  8199.956137\n",
       "998           0.995831  3152.769411  4209.897918\n",
       "999           0.995834  3259.715763  3636.316085\n",
       "1000          0.995202  3025.418981  7534.335239\n",
       "\n",
       "[1001 rows x 3 columns]"
      ]
     },
     "metadata": {},
     "output_type": "display_data"
    },
    {
     "data": {
      "text/html": [
       "<div>\n",
       "<style scoped>\n",
       "    .dataframe tbody tr th:only-of-type {\n",
       "        vertical-align: middle;\n",
       "    }\n",
       "\n",
       "    .dataframe tbody tr th {\n",
       "        vertical-align: top;\n",
       "    }\n",
       "\n",
       "    .dataframe thead th {\n",
       "        text-align: right;\n",
       "    }\n",
       "</style>\n",
       "<table border=\"1\" class=\"dataframe\">\n",
       "  <thead>\n",
       "    <tr style=\"text-align: right;\">\n",
       "      <th></th>\n",
       "      <th>R^2</th>\n",
       "      <th>MSE train</th>\n",
       "      <th>MSE test</th>\n",
       "    </tr>\n",
       "  </thead>\n",
       "  <tbody>\n",
       "    <tr>\n",
       "      <th>count</th>\n",
       "      <td>1001.000000</td>\n",
       "      <td>1001.000000</td>\n",
       "      <td>1001.000000</td>\n",
       "    </tr>\n",
       "    <tr>\n",
       "      <th>mean</th>\n",
       "      <td>0.995617</td>\n",
       "      <td>3027.751487</td>\n",
       "      <td>6866.822803</td>\n",
       "    </tr>\n",
       "    <tr>\n",
       "      <th>std</th>\n",
       "      <td>0.000390</td>\n",
       "      <td>266.979482</td>\n",
       "      <td>9527.849522</td>\n",
       "    </tr>\n",
       "    <tr>\n",
       "      <th>min</th>\n",
       "      <td>0.994224</td>\n",
       "      <td>2216.784908</td>\n",
       "      <td>1856.656870</td>\n",
       "    </tr>\n",
       "    <tr>\n",
       "      <th>25%</th>\n",
       "      <td>0.995369</td>\n",
       "      <td>2849.322603</td>\n",
       "      <td>4308.950830</td>\n",
       "    </tr>\n",
       "    <tr>\n",
       "      <th>50%</th>\n",
       "      <td>0.995619</td>\n",
       "      <td>3036.449672</td>\n",
       "      <td>5293.613809</td>\n",
       "    </tr>\n",
       "    <tr>\n",
       "      <th>75%</th>\n",
       "      <td>0.995894</td>\n",
       "      <td>3224.041344</td>\n",
       "      <td>6880.869654</td>\n",
       "    </tr>\n",
       "    <tr>\n",
       "      <th>max</th>\n",
       "      <td>0.996724</td>\n",
       "      <td>3816.484236</td>\n",
       "      <td>210460.027045</td>\n",
       "    </tr>\n",
       "  </tbody>\n",
       "</table>\n",
       "</div>"
      ],
      "text/plain": [
       "               R^2    MSE train       MSE test\n",
       "count  1001.000000  1001.000000    1001.000000\n",
       "mean      0.995617  3027.751487    6866.822803\n",
       "std       0.000390   266.979482    9527.849522\n",
       "min       0.994224  2216.784908    1856.656870\n",
       "25%       0.995369  2849.322603    4308.950830\n",
       "50%       0.995619  3036.449672    5293.613809\n",
       "75%       0.995894  3224.041344    6880.869654\n",
       "max       0.996724  3816.484236  210460.027045"
      ]
     },
     "metadata": {},
     "output_type": "display_data"
    },
    {
     "name": "stdout",
     "output_type": "stream",
     "text": [
      "Remaining values after removing outliers:\n"
     ]
    },
    {
     "data": {
      "text/html": [
       "<div>\n",
       "<style scoped>\n",
       "    .dataframe tbody tr th:only-of-type {\n",
       "        vertical-align: middle;\n",
       "    }\n",
       "\n",
       "    .dataframe tbody tr th {\n",
       "        vertical-align: top;\n",
       "    }\n",
       "\n",
       "    .dataframe thead th {\n",
       "        text-align: right;\n",
       "    }\n",
       "</style>\n",
       "<table border=\"1\" class=\"dataframe\">\n",
       "  <thead>\n",
       "    <tr style=\"text-align: right;\">\n",
       "      <th></th>\n",
       "      <th>R^2</th>\n",
       "      <th>MSE train</th>\n",
       "      <th>MSE test</th>\n",
       "    </tr>\n",
       "    <tr>\n",
       "      <th>random_state</th>\n",
       "      <th></th>\n",
       "      <th></th>\n",
       "      <th></th>\n",
       "    </tr>\n",
       "  </thead>\n",
       "  <tbody>\n",
       "    <tr>\n",
       "      <th>0</th>\n",
       "      <td>0.996022</td>\n",
       "      <td>2769.926266</td>\n",
       "      <td>5601.987580</td>\n",
       "    </tr>\n",
       "    <tr>\n",
       "      <th>1</th>\n",
       "      <td>0.995072</td>\n",
       "      <td>3294.501151</td>\n",
       "      <td>4527.341277</td>\n",
       "    </tr>\n",
       "    <tr>\n",
       "      <th>2</th>\n",
       "      <td>0.995329</td>\n",
       "      <td>3260.694419</td>\n",
       "      <td>3478.071381</td>\n",
       "    </tr>\n",
       "    <tr>\n",
       "      <th>3</th>\n",
       "      <td>0.995441</td>\n",
       "      <td>3377.506674</td>\n",
       "      <td>3109.400642</td>\n",
       "    </tr>\n",
       "    <tr>\n",
       "      <th>4</th>\n",
       "      <td>0.994611</td>\n",
       "      <td>3526.101231</td>\n",
       "      <td>5141.723797</td>\n",
       "    </tr>\n",
       "    <tr>\n",
       "      <th>...</th>\n",
       "      <td>...</td>\n",
       "      <td>...</td>\n",
       "      <td>...</td>\n",
       "    </tr>\n",
       "    <tr>\n",
       "      <th>996</th>\n",
       "      <td>0.995473</td>\n",
       "      <td>3218.404259</td>\n",
       "      <td>3812.822810</td>\n",
       "    </tr>\n",
       "    <tr>\n",
       "      <th>997</th>\n",
       "      <td>0.996039</td>\n",
       "      <td>2908.112518</td>\n",
       "      <td>8199.956137</td>\n",
       "    </tr>\n",
       "    <tr>\n",
       "      <th>998</th>\n",
       "      <td>0.995831</td>\n",
       "      <td>3152.769411</td>\n",
       "      <td>4209.897918</td>\n",
       "    </tr>\n",
       "    <tr>\n",
       "      <th>999</th>\n",
       "      <td>0.995834</td>\n",
       "      <td>3259.715763</td>\n",
       "      <td>3636.316085</td>\n",
       "    </tr>\n",
       "    <tr>\n",
       "      <th>1000</th>\n",
       "      <td>0.995202</td>\n",
       "      <td>3025.418981</td>\n",
       "      <td>7534.335239</td>\n",
       "    </tr>\n",
       "  </tbody>\n",
       "</table>\n",
       "<p>925 rows × 3 columns</p>\n",
       "</div>"
      ],
      "text/plain": [
       "                   R^2    MSE train     MSE test\n",
       "random_state                                    \n",
       "0             0.996022  2769.926266  5601.987580\n",
       "1             0.995072  3294.501151  4527.341277\n",
       "2             0.995329  3260.694419  3478.071381\n",
       "3             0.995441  3377.506674  3109.400642\n",
       "4             0.994611  3526.101231  5141.723797\n",
       "...                ...          ...          ...\n",
       "996           0.995473  3218.404259  3812.822810\n",
       "997           0.996039  2908.112518  8199.956137\n",
       "998           0.995831  3152.769411  4209.897918\n",
       "999           0.995834  3259.715763  3636.316085\n",
       "1000          0.995202  3025.418981  7534.335239\n",
       "\n",
       "[925 rows x 3 columns]"
      ]
     },
     "metadata": {},
     "output_type": "display_data"
    },
    {
     "data": {
      "text/html": [
       "<div>\n",
       "<style scoped>\n",
       "    .dataframe tbody tr th:only-of-type {\n",
       "        vertical-align: middle;\n",
       "    }\n",
       "\n",
       "    .dataframe tbody tr th {\n",
       "        vertical-align: top;\n",
       "    }\n",
       "\n",
       "    .dataframe thead th {\n",
       "        text-align: right;\n",
       "    }\n",
       "</style>\n",
       "<table border=\"1\" class=\"dataframe\">\n",
       "  <thead>\n",
       "    <tr style=\"text-align: right;\">\n",
       "      <th></th>\n",
       "      <th>R^2</th>\n",
       "      <th>MSE train</th>\n",
       "      <th>MSE test</th>\n",
       "    </tr>\n",
       "  </thead>\n",
       "  <tbody>\n",
       "    <tr>\n",
       "      <th>count</th>\n",
       "      <td>925.000000</td>\n",
       "      <td>925.000000</td>\n",
       "      <td>925.000000</td>\n",
       "    </tr>\n",
       "    <tr>\n",
       "      <th>mean</th>\n",
       "      <td>0.995626</td>\n",
       "      <td>3049.707013</td>\n",
       "      <td>5449.483991</td>\n",
       "    </tr>\n",
       "    <tr>\n",
       "      <th>std</th>\n",
       "      <td>0.000370</td>\n",
       "      <td>249.369933</td>\n",
       "      <td>1718.635184</td>\n",
       "    </tr>\n",
       "    <tr>\n",
       "      <th>min</th>\n",
       "      <td>0.994609</td>\n",
       "      <td>2372.924735</td>\n",
       "      <td>1950.452411</td>\n",
       "    </tr>\n",
       "    <tr>\n",
       "      <th>25%</th>\n",
       "      <td>0.995384</td>\n",
       "      <td>2871.914814</td>\n",
       "      <td>4225.930251</td>\n",
       "    </tr>\n",
       "    <tr>\n",
       "      <th>50%</th>\n",
       "      <td>0.995627</td>\n",
       "      <td>3052.072597</td>\n",
       "      <td>5141.795051</td>\n",
       "    </tr>\n",
       "    <tr>\n",
       "      <th>75%</th>\n",
       "      <td>0.995898</td>\n",
       "      <td>3235.809881</td>\n",
       "      <td>6346.456432</td>\n",
       "    </tr>\n",
       "    <tr>\n",
       "      <th>max</th>\n",
       "      <td>0.996612</td>\n",
       "      <td>3775.167902</td>\n",
       "      <td>10517.531853</td>\n",
       "    </tr>\n",
       "  </tbody>\n",
       "</table>\n",
       "</div>"
      ],
      "text/plain": [
       "              R^2    MSE train      MSE test\n",
       "count  925.000000   925.000000    925.000000\n",
       "mean     0.995626  3049.707013   5449.483991\n",
       "std      0.000370   249.369933   1718.635184\n",
       "min      0.994609  2372.924735   1950.452411\n",
       "25%      0.995384  2871.914814   4225.930251\n",
       "50%      0.995627  3052.072597   5141.795051\n",
       "75%      0.995898  3235.809881   6346.456432\n",
       "max      0.996612  3775.167902  10517.531853"
      ]
     },
     "metadata": {},
     "output_type": "display_data"
    }
   ],
   "source": [
    "res_df2 = pd.read_csv(\"outputs/res_df2.csv\")\n",
    "res_df2.drop('Unnamed: 0', inplace=True, axis=1)\n",
    "\n",
    "res_df2.index.name = 'random_state'\n",
    "print(\"Values before removing outliers:\")\n",
    "display(res_df2)\n",
    "display(res_df2.describe())\n",
    "\n",
    "q1_var = res_df2.describe().loc['25%'].at['R^2']\n",
    "q3_var = res_df2.describe().loc['75%'].at['R^2']\n",
    "iqr_var = q3_var - q1_var\n",
    "\n",
    "q1_MSE = res_df2.describe().loc['25%'].at['MSE train']\n",
    "q3_MSE = res_df2.describe().loc['75%'].at['MSE train']\n",
    "iqr_MSE = q3_MSE - q1_MSE\n",
    "\n",
    "q1_test = res_df2.describe().loc['25%'].at['MSE test']\n",
    "q3_test = res_df2.describe().loc['75%'].at['MSE test']\n",
    "iqr_test = q3_test - q1_test\n",
    "\n",
    "state = res_df2[(res_df2['R^2'] >= q1_var-1.5*iqr_var) & (res_df2['R^2'] <= q3_var+1.5*iqr_var)\n",
    "               & (res_df2['MSE train'] >= q1_MSE-1.5*iqr_MSE) & (res_df2['MSE train'] <= q3_MSE+1.5*iqr_MSE)\n",
    "              & (res_df2['MSE test'] >= q1_test-1.5*iqr_test) & (res_df2['MSE test'] <= q3_test+1.5*iqr_test)].index.tolist()\n",
    "res_df2 = res_df2.iloc[state]\n",
    "print(\"Remaining values after removing outliers:\")\n",
    "display(res_df2)\n",
    "display(res_df2.describe())\n",
    "\n",
    "# res_df2.to_csv('results/regression_results.csv')"
   ]
  },
  {
   "cell_type": "markdown",
   "metadata": {},
   "source": [
    "## Visualize Regressian Median Test Results (with error bars) "
   ]
  },
  {
   "cell_type": "code",
   "execution_count": 12,
   "metadata": {},
   "outputs": [
    {
     "name": "stdout",
     "output_type": "stream",
     "text": [
      "random_state = 752\n",
      "Explained Variance: 0.9956271650633203\n",
      "Train Set MSE: 3099.5660910675297\n",
      "Test Set MSE: 4463.190716360958\n"
     ]
    },
    {
     "data": {
      "application/vnd.plotly.v1+json": {
       "config": {
        "plotlyServerURL": "https://plot.ly"
       },
       "data": [
        {
         "name": "Actual Price",
         "type": "scatter",
         "x": [
          0,
          1,
          2,
          3,
          4,
          5,
          6,
          7,
          8,
          9,
          10,
          11,
          12,
          13,
          14,
          15,
          16,
          17,
          18,
          19,
          20,
          21,
          22,
          23,
          24,
          25,
          26,
          27,
          28,
          29,
          30,
          31,
          32,
          33,
          34,
          35,
          36,
          37,
          38,
          39,
          40,
          41,
          42,
          43,
          44,
          45,
          46,
          47,
          48,
          49,
          50,
          51,
          52,
          53,
          54,
          55,
          56,
          57,
          58,
          59,
          60,
          61,
          62,
          63,
          64,
          65,
          66,
          67,
          68,
          69,
          70,
          71,
          72,
          73,
          74,
          75,
          76,
          77,
          78,
          79,
          80,
          81,
          82,
          83,
          84,
          85,
          86,
          87,
          88,
          89,
          90,
          91,
          92,
          93,
          94,
          95,
          96,
          97,
          98,
          99,
          100,
          101,
          102,
          103,
          104,
          105,
          106,
          107,
          108,
          109,
          110,
          111,
          112,
          113,
          114,
          115,
          116,
          117,
          118,
          119,
          120,
          121,
          122,
          123,
          124,
          125,
          126,
          127,
          128,
          129,
          130,
          131,
          132,
          133,
          134,
          135,
          136,
          137,
          138,
          139,
          140,
          141,
          142,
          143,
          144,
          145,
          146,
          147,
          148,
          149,
          150,
          151,
          152,
          153,
          154,
          155,
          156,
          157,
          158,
          159,
          160,
          161,
          162,
          163,
          164,
          165,
          166,
          167,
          168,
          169,
          170,
          171,
          172,
          173,
          174,
          175,
          176,
          177,
          178,
          179,
          180,
          181,
          182,
          183,
          184,
          185,
          186,
          187,
          188,
          189,
          190,
          191,
          192,
          193,
          194,
          195,
          196,
          197,
          198,
          199,
          200,
          201,
          202,
          203,
          204,
          205,
          206,
          207,
          208,
          209,
          210,
          211,
          212,
          213,
          214,
          215,
          216,
          217,
          218,
          219,
          220,
          221,
          222,
          223,
          224,
          225,
          226,
          227,
          228,
          229,
          230,
          231,
          232,
          233,
          234,
          235,
          236,
          237,
          238,
          239,
          240,
          241,
          242,
          243,
          244,
          245,
          246,
          247,
          248,
          249,
          250,
          251,
          252,
          253,
          254,
          255,
          256,
          257,
          258,
          259,
          260,
          261,
          262,
          263,
          264,
          265,
          266,
          267,
          268,
          269,
          270,
          271,
          272,
          273,
          274,
          275,
          276,
          277,
          278,
          279,
          280,
          281,
          282,
          283
         ],
         "y": [
          18.57,
          19.816666666666663,
          21.62,
          21.636666666666667,
          22.98,
          23.19666666666667,
          23.923333333333336,
          24.046666666666667,
          24.99,
          25.58333333333333,
          25.856666666666666,
          24.433333333333334,
          23.80666666666667,
          24.703333333333333,
          26.39,
          28.886666666666667,
          31.006666666666664,
          33.96666666666667,
          36.656666666666666,
          38.96666666666667,
          43.45666666666667,
          44.44333333333333,
          45.88,
          46.85,
          47.41666666666666,
          45.77666666666666,
          44.03,
          46.84666666666666,
          45.18333333333334,
          40.92333333333334,
          41.546666666666674,
          44.25666666666667,
          48.333333333333336,
          53.00666666666666,
          55.43333333333334,
          58.24666666666667,
          58.99666666666667,
          58.56333333333333,
          55.69,
          55.70666666666667,
          55.330000000000005,
          55.68,
          63.42666666666667,
          65.50333333333333,
          67.18666666666667,
          70.49666666666667,
          69.45,
          59.873333333333335,
          57.873333333333335,
          60.626666666666665,
          65.68666666666667,
          69.99,
          71.11,
          74.08666666666666,
          77.94,
          80.50666666666666,
          83.06333333333333,
          84.67666666666666,
          87.05,
          87.21666666666665,
          87.46,
          92.15333333333336,
          91.11,
          87.31,
          79.08666666666666,
          80.32666666666667,
          87.86333333333334,
          91.24333333333334,
          95.03333333333336,
          94.59,
          90.6,
          98.57333333333334,
          99.75666666666666,
          105.21333333333332,
          100.88333333333333,
          101.62,
          93.48666666666668,
          94.33,
          88.05,
          76.92999999999999,
          81.29,
          87.53333333333335,
          97.64666666666666,
          100.76,
          97.65,
          96.77,
          105.90333333333332,
          108.11333333333334,
          109.67666666666666,
          115.43333333333334,
          113.07666666666668,
          105.39333333333332,
          106.96666666666664,
          100.6,
          95.59,
          87.86333333333334,
          71.66666666666667,
          70.81,
          80.64333333333333,
          91.21333333333332,
          86.5,
          90.15666666666668,
          101.11333333333332,
          102.03333333333336,
          103.86333333333332,
          104.15333333333332,
          100.09,
          98.34666666666668,
          97.38333333333333,
          94.09,
          88.5,
          96.53333333333336,
          102.17,
          94.65333333333336,
          99.26666666666668,
          101.25,
          107.48333333333332,
          105.30666666666666,
          109.96999999999998,
          110.59,
          123.17,
          134.58333333333334,
          132.27333333333334,
          132.20333333333335,
          123.29666666666668,
          123.59666666666664,
          115.15666666666668,
          112.64333333333332,
          115.67333333333332,
          137.63,
          148.77333333333334,
          164.82,
          164.34333333333333,
          164.96,
          159.88333333333333,
          154.59333333333333,
          161.14666666666668,
          165.63666666666668,
          180.49,
          187.07666666666668,
          187.21,
          201.09,
          225.86666666666667,
          244.57,
          240.1233333333333,
          245.1233333333333,
          283.32666666666665,
          294.15333333333336,
          323.43,
          243.0566666666667,
          261.26,
          265.66333333333336,
          268.4833333333333,
          276.7966666666667,
          293.7333333333333,
          316.0466666666667,
          348.89333333333326,
          346.5833333333333,
          333.63666666666666,
          350.01666666666665,
          328.25333333333333,
          318.81333333333333,
          362.0733333333333,
          378.7766666666666,
          390.3666666666666,
          394.92,
          408.39,
          412.8133333333333,
          418.68,
          428.58,
          444.61,
          446.97,
          456.8733333333333,
          465.3566666666666,
          464.84,
          450.56,
          465.4866666666667,
          461.77,
          486.17333333333335,
          530.9533333333334,
          569.4499999999999,
          600.9333333333333,
          640.65,
          664.64,
          659.7566666666667,
          734.3433333333332,
          778.0333333333333,
          844.9200000000001,
          933.6866666666666,
          946.8166666666666,
          1043.79,
          1112.1366666666663,
          1031.6533333333334,
          1163.8433333333337,
          1268.1133333333337,
          1336.5766666666666,
          1310.6133333333337,
          1407.0833333333333,
          1419.82,
          1442.5566666666666,
          1461.6733333333334,
          1354.8733333333332,
          1254.75,
          1243.3566666666666,
          1128.3266666666666,
          1114.99,
          1128.11,
          1044.6266666666668,
          880.9900000000001,
          900.63,
          848.3433333333332,
          951.67,
          998.0966666666668,
          1073.61,
          1134.0933333333337,
          1122.9399999999998,
          1106.8466666666666,
          1171.98,
          1188.486666666667,
          1179.8933333333332,
          1227.7733333333333,
          1234.9266666666665,
          1285.1833333333334,
          1283.6333333333332,
          1305.4399999999998,
          1398.9533333333336,
          1421.97,
          1505.4466666666667,
          1485.3366666666668,
          1499.6266666666668,
          1343.96,
          1355.3233333333335,
          1238.8566666666666,
          922.7466666666666,
          786.2800000000001,
          903.7566666666668,
          1021.7266666666666,
          1082.3066666666666,
          1115.93,
          1102.2700000000002,
          1097.3766666666668,
          1207.15,
          1313.0566666666666,
          1343.15,
          1214.1966666666667,
          1252.62,
          1362.1866666666667,
          1356.8,
          1408.8566666666666,
          1418.176666666667,
          1527.3266666666666,
          1611.53,
          1666.75,
          1803.57,
          1838.1266666666668,
          1922.5833333333333,
          1968.7766666666664,
          2048.17,
          2055.793333333333,
          2085.3366666666666,
          1998.6833333333332,
          2067.903333333333,
          1977.4033333333332,
          2087.0400000000004,
          2170.94,
          2187.93,
          2335.0766666666664,
          2406.47,
          2487.103333333333,
          2632.15,
          2726.17,
          2690.563333333333,
          2877.263333333334,
          2659.5866666666666,
          2774.33,
          2879.883333333333,
          2961.193333333333,
          3136.44,
          2921.443333333333,
          3019.01,
          3378.143333333333,
          3549.22,
          3832.76,
          4227.593333333333
         ]
        },
        {
         "error_y": {
          "array": [
           [
            -73.0448842932525
           ],
           [
            -96.35894940655226
           ],
           [
            5.375597383227664
           ],
           [
            100.26541087511782
           ],
           [
            -87.56262510672991
           ],
           [
            -113.06859448933187
           ],
           [
            80.11165920878443
           ],
           [
            -3.2008614795011
           ],
           [
            -23.46358998238614
           ],
           [
            164.12827638167118
           ],
           [
            139.3536869620266
           ],
           [
            -84.06291812399888
           ],
           [
            -21.955877774418468
           ],
           [
            -142.97329583307487
           ],
           [
            17.27548162573413
           ],
           [
            -25.821095281221574
           ],
           [
            6.842821641692481
           ],
           [
            -92.87979911998809
           ],
           [
            -13.637899219003032
           ],
           [
            31.857483816822764
           ],
           [
            -37.2385172106234
           ],
           [
            -27.31689498901774
           ],
           [
            -11.726985063276373
           ],
           [
            -21.36630188089532
           ],
           [
            -27.30898985548174
           ],
           [
            -4.4089563369795925
           ],
           [
            -55.04619731345923
           ],
           [
            62.118290806297125
           ],
           [
            5.7130722473903575
           ],
           [
            -11.170942037868201
           ],
           [
            28.540013219609108
           ],
           [
            12.323285515803683
           ],
           [
            5.409697241579963
           ],
           [
            -79.14684320925437
           ],
           [
            -77.94968527569586
           ],
           [
            201.59629895978742
           ],
           [
            -51.20012697570337
           ],
           [
            -181.33507710920344
           ],
           [
            21.082821744531316
           ],
           [
            -45.37558916846149
           ],
           [
            -7.75442669792405
           ],
           [
            -6.4777859481951765
           ],
           [
            5.797757446568141
           ],
           [
            47.06997709411803
           ],
           [
            104.71312553512371
           ],
           [
            10.005818973355467
           ],
           [
            50.8970186495182
           ],
           [
            -7.561934634072415
           ],
           [
            -4.079377935031175
           ],
           [
            -137.8573102892019
           ],
           [
            8.697319109195632
           ],
           [
            1.7709292439153614
           ],
           [
            -59.158712463951815
           ],
           [
            6.992860460664815
           ],
           [
            -9.211203827566248
           ],
           [
            -80.7026469438074
           ],
           [
            90.54851701088069
           ],
           [
            16.941141004335577
           ],
           [
            32.26681324120452
           ],
           [
            -29.86042580704361
           ],
           [
            -6.487103271411058
           ],
           [
            4.205574101179501
           ],
           [
            -7.332120515174452
           ],
           [
            5.669752102269541
           ],
           [
            1.0993645743566844
           ],
           [
            79.67136916974272
           ],
           [
            -14.79966167663315
           ],
           [
            -18.09010780302293
           ],
           [
            22.494485023238028
           ],
           [
            23.032131192052745
           ],
           [
            115.05318981287837
           ]
          ],
          "symmetric": false,
          "type": "data",
          "visible": true
         },
         "mode": "markers",
         "name": "Predicted Price (TEST)",
         "type": "scatter",
         "x": [
          187,
          275,
          29,
          254,
          234,
          240,
          198,
          142,
          70,
          270,
          267,
          210,
          219,
          192,
          89,
          212,
          83,
          193,
          63,
          100,
          186,
          96,
          26,
          76,
          95,
          22,
          178,
          131,
          21,
          161,
          102,
          32,
          81,
          184,
          246,
          281,
          202,
          204,
          179,
          177,
          4,
          7,
          44,
          182,
          258,
          41,
          146,
          60,
          115,
          244,
          166,
          190,
          262,
          264,
          8,
          203,
          256,
          215,
          104,
          235,
          28,
          40,
          52,
          18,
          56,
          173,
          183,
          68,
          101,
          120,
          259
         ],
         "y": [
          917.9648842932526,
          2976.2422827398855,
          35.547735950105675,
          1737.861255791549,
          873.84262510673,
          1210.4452611559987,
          1339.7083407912155,
          229.06752814616777,
          114.06358998238613,
          2562.041723618329,
          2267.116313037973,
          932.4062514573321,
          1201.8492111077517,
          1174.6266291664083,
          98.1578517075992,
          1023.9177619478884,
          93.91717835830752,
          1256.7231324533218,
          100.94789921900303,
          54.642516183177236,
          815.2718505439567,
          98.98356165568441,
          55.756985063276375,
          114.852968547562,
          115.17232318881508,
          50.288956336979595,
          541.2195306467926,
          102.70170919370287,
          38.73026108594297,
          329.98427537120153,
          72.57332011372421,
          36.01004781752965,
          82.12363609175338,
          738.903509875921,
          1440.1363519423626,
          3347.6237010402124,
          1305.9501269757034,
          1309.66174377587,
          509.87051158880206,
          507.14558916846147,
          30.73442669792405,
          30.524452614861843,
          61.388909220098526,
          593.580022905882,
          1951.0802077982094,
          45.67418102664453,
          232.42964801714845,
          95.02193463407241,
          105.32937793503118,
          1352.0539769558686,
          399.69268089080435,
          1042.0190707560846,
          2036.562045797285,
          2163.9471395393352,
          34.201203827566246,
          1324.059313610474,
          1878.2281496557857,
          1105.9988589956642,
          71.5965200921288,
          933.6170924737104,
          51.670436604744395,
          51.124425898820505,
          78.44212051517445,
          30.986914564397125,
          81.96396875897665,
          385.6852974969239,
          679.4396616766331,
          113.12344113635629,
          67.66218164342865,
          100.13786880794726,
          1970.2834768537882
         ]
        }
       ],
       "layout": {
        "template": {
         "data": {
          "bar": [
           {
            "error_x": {
             "color": "#2a3f5f"
            },
            "error_y": {
             "color": "#2a3f5f"
            },
            "marker": {
             "line": {
              "color": "#E5ECF6",
              "width": 0.5
             },
             "pattern": {
              "fillmode": "overlay",
              "size": 10,
              "solidity": 0.2
             }
            },
            "type": "bar"
           }
          ],
          "barpolar": [
           {
            "marker": {
             "line": {
              "color": "#E5ECF6",
              "width": 0.5
             },
             "pattern": {
              "fillmode": "overlay",
              "size": 10,
              "solidity": 0.2
             }
            },
            "type": "barpolar"
           }
          ],
          "carpet": [
           {
            "aaxis": {
             "endlinecolor": "#2a3f5f",
             "gridcolor": "white",
             "linecolor": "white",
             "minorgridcolor": "white",
             "startlinecolor": "#2a3f5f"
            },
            "baxis": {
             "endlinecolor": "#2a3f5f",
             "gridcolor": "white",
             "linecolor": "white",
             "minorgridcolor": "white",
             "startlinecolor": "#2a3f5f"
            },
            "type": "carpet"
           }
          ],
          "choropleth": [
           {
            "colorbar": {
             "outlinewidth": 0,
             "ticks": ""
            },
            "type": "choropleth"
           }
          ],
          "contour": [
           {
            "colorbar": {
             "outlinewidth": 0,
             "ticks": ""
            },
            "colorscale": [
             [
              0,
              "#0d0887"
             ],
             [
              0.1111111111111111,
              "#46039f"
             ],
             [
              0.2222222222222222,
              "#7201a8"
             ],
             [
              0.3333333333333333,
              "#9c179e"
             ],
             [
              0.4444444444444444,
              "#bd3786"
             ],
             [
              0.5555555555555556,
              "#d8576b"
             ],
             [
              0.6666666666666666,
              "#ed7953"
             ],
             [
              0.7777777777777778,
              "#fb9f3a"
             ],
             [
              0.8888888888888888,
              "#fdca26"
             ],
             [
              1,
              "#f0f921"
             ]
            ],
            "type": "contour"
           }
          ],
          "contourcarpet": [
           {
            "colorbar": {
             "outlinewidth": 0,
             "ticks": ""
            },
            "type": "contourcarpet"
           }
          ],
          "heatmap": [
           {
            "colorbar": {
             "outlinewidth": 0,
             "ticks": ""
            },
            "colorscale": [
             [
              0,
              "#0d0887"
             ],
             [
              0.1111111111111111,
              "#46039f"
             ],
             [
              0.2222222222222222,
              "#7201a8"
             ],
             [
              0.3333333333333333,
              "#9c179e"
             ],
             [
              0.4444444444444444,
              "#bd3786"
             ],
             [
              0.5555555555555556,
              "#d8576b"
             ],
             [
              0.6666666666666666,
              "#ed7953"
             ],
             [
              0.7777777777777778,
              "#fb9f3a"
             ],
             [
              0.8888888888888888,
              "#fdca26"
             ],
             [
              1,
              "#f0f921"
             ]
            ],
            "type": "heatmap"
           }
          ],
          "heatmapgl": [
           {
            "colorbar": {
             "outlinewidth": 0,
             "ticks": ""
            },
            "colorscale": [
             [
              0,
              "#0d0887"
             ],
             [
              0.1111111111111111,
              "#46039f"
             ],
             [
              0.2222222222222222,
              "#7201a8"
             ],
             [
              0.3333333333333333,
              "#9c179e"
             ],
             [
              0.4444444444444444,
              "#bd3786"
             ],
             [
              0.5555555555555556,
              "#d8576b"
             ],
             [
              0.6666666666666666,
              "#ed7953"
             ],
             [
              0.7777777777777778,
              "#fb9f3a"
             ],
             [
              0.8888888888888888,
              "#fdca26"
             ],
             [
              1,
              "#f0f921"
             ]
            ],
            "type": "heatmapgl"
           }
          ],
          "histogram": [
           {
            "marker": {
             "pattern": {
              "fillmode": "overlay",
              "size": 10,
              "solidity": 0.2
             }
            },
            "type": "histogram"
           }
          ],
          "histogram2d": [
           {
            "colorbar": {
             "outlinewidth": 0,
             "ticks": ""
            },
            "colorscale": [
             [
              0,
              "#0d0887"
             ],
             [
              0.1111111111111111,
              "#46039f"
             ],
             [
              0.2222222222222222,
              "#7201a8"
             ],
             [
              0.3333333333333333,
              "#9c179e"
             ],
             [
              0.4444444444444444,
              "#bd3786"
             ],
             [
              0.5555555555555556,
              "#d8576b"
             ],
             [
              0.6666666666666666,
              "#ed7953"
             ],
             [
              0.7777777777777778,
              "#fb9f3a"
             ],
             [
              0.8888888888888888,
              "#fdca26"
             ],
             [
              1,
              "#f0f921"
             ]
            ],
            "type": "histogram2d"
           }
          ],
          "histogram2dcontour": [
           {
            "colorbar": {
             "outlinewidth": 0,
             "ticks": ""
            },
            "colorscale": [
             [
              0,
              "#0d0887"
             ],
             [
              0.1111111111111111,
              "#46039f"
             ],
             [
              0.2222222222222222,
              "#7201a8"
             ],
             [
              0.3333333333333333,
              "#9c179e"
             ],
             [
              0.4444444444444444,
              "#bd3786"
             ],
             [
              0.5555555555555556,
              "#d8576b"
             ],
             [
              0.6666666666666666,
              "#ed7953"
             ],
             [
              0.7777777777777778,
              "#fb9f3a"
             ],
             [
              0.8888888888888888,
              "#fdca26"
             ],
             [
              1,
              "#f0f921"
             ]
            ],
            "type": "histogram2dcontour"
           }
          ],
          "mesh3d": [
           {
            "colorbar": {
             "outlinewidth": 0,
             "ticks": ""
            },
            "type": "mesh3d"
           }
          ],
          "parcoords": [
           {
            "line": {
             "colorbar": {
              "outlinewidth": 0,
              "ticks": ""
             }
            },
            "type": "parcoords"
           }
          ],
          "pie": [
           {
            "automargin": true,
            "type": "pie"
           }
          ],
          "scatter": [
           {
            "marker": {
             "colorbar": {
              "outlinewidth": 0,
              "ticks": ""
             }
            },
            "type": "scatter"
           }
          ],
          "scatter3d": [
           {
            "line": {
             "colorbar": {
              "outlinewidth": 0,
              "ticks": ""
             }
            },
            "marker": {
             "colorbar": {
              "outlinewidth": 0,
              "ticks": ""
             }
            },
            "type": "scatter3d"
           }
          ],
          "scattercarpet": [
           {
            "marker": {
             "colorbar": {
              "outlinewidth": 0,
              "ticks": ""
             }
            },
            "type": "scattercarpet"
           }
          ],
          "scattergeo": [
           {
            "marker": {
             "colorbar": {
              "outlinewidth": 0,
              "ticks": ""
             }
            },
            "type": "scattergeo"
           }
          ],
          "scattergl": [
           {
            "marker": {
             "colorbar": {
              "outlinewidth": 0,
              "ticks": ""
             }
            },
            "type": "scattergl"
           }
          ],
          "scattermapbox": [
           {
            "marker": {
             "colorbar": {
              "outlinewidth": 0,
              "ticks": ""
             }
            },
            "type": "scattermapbox"
           }
          ],
          "scatterpolar": [
           {
            "marker": {
             "colorbar": {
              "outlinewidth": 0,
              "ticks": ""
             }
            },
            "type": "scatterpolar"
           }
          ],
          "scatterpolargl": [
           {
            "marker": {
             "colorbar": {
              "outlinewidth": 0,
              "ticks": ""
             }
            },
            "type": "scatterpolargl"
           }
          ],
          "scatterternary": [
           {
            "marker": {
             "colorbar": {
              "outlinewidth": 0,
              "ticks": ""
             }
            },
            "type": "scatterternary"
           }
          ],
          "surface": [
           {
            "colorbar": {
             "outlinewidth": 0,
             "ticks": ""
            },
            "colorscale": [
             [
              0,
              "#0d0887"
             ],
             [
              0.1111111111111111,
              "#46039f"
             ],
             [
              0.2222222222222222,
              "#7201a8"
             ],
             [
              0.3333333333333333,
              "#9c179e"
             ],
             [
              0.4444444444444444,
              "#bd3786"
             ],
             [
              0.5555555555555556,
              "#d8576b"
             ],
             [
              0.6666666666666666,
              "#ed7953"
             ],
             [
              0.7777777777777778,
              "#fb9f3a"
             ],
             [
              0.8888888888888888,
              "#fdca26"
             ],
             [
              1,
              "#f0f921"
             ]
            ],
            "type": "surface"
           }
          ],
          "table": [
           {
            "cells": {
             "fill": {
              "color": "#EBF0F8"
             },
             "line": {
              "color": "white"
             }
            },
            "header": {
             "fill": {
              "color": "#C8D4E3"
             },
             "line": {
              "color": "white"
             }
            },
            "type": "table"
           }
          ]
         },
         "layout": {
          "annotationdefaults": {
           "arrowcolor": "#2a3f5f",
           "arrowhead": 0,
           "arrowwidth": 1
          },
          "autotypenumbers": "strict",
          "coloraxis": {
           "colorbar": {
            "outlinewidth": 0,
            "ticks": ""
           }
          },
          "colorscale": {
           "diverging": [
            [
             0,
             "#8e0152"
            ],
            [
             0.1,
             "#c51b7d"
            ],
            [
             0.2,
             "#de77ae"
            ],
            [
             0.3,
             "#f1b6da"
            ],
            [
             0.4,
             "#fde0ef"
            ],
            [
             0.5,
             "#f7f7f7"
            ],
            [
             0.6,
             "#e6f5d0"
            ],
            [
             0.7,
             "#b8e186"
            ],
            [
             0.8,
             "#7fbc41"
            ],
            [
             0.9,
             "#4d9221"
            ],
            [
             1,
             "#276419"
            ]
           ],
           "sequential": [
            [
             0,
             "#0d0887"
            ],
            [
             0.1111111111111111,
             "#46039f"
            ],
            [
             0.2222222222222222,
             "#7201a8"
            ],
            [
             0.3333333333333333,
             "#9c179e"
            ],
            [
             0.4444444444444444,
             "#bd3786"
            ],
            [
             0.5555555555555556,
             "#d8576b"
            ],
            [
             0.6666666666666666,
             "#ed7953"
            ],
            [
             0.7777777777777778,
             "#fb9f3a"
            ],
            [
             0.8888888888888888,
             "#fdca26"
            ],
            [
             1,
             "#f0f921"
            ]
           ],
           "sequentialminus": [
            [
             0,
             "#0d0887"
            ],
            [
             0.1111111111111111,
             "#46039f"
            ],
            [
             0.2222222222222222,
             "#7201a8"
            ],
            [
             0.3333333333333333,
             "#9c179e"
            ],
            [
             0.4444444444444444,
             "#bd3786"
            ],
            [
             0.5555555555555556,
             "#d8576b"
            ],
            [
             0.6666666666666666,
             "#ed7953"
            ],
            [
             0.7777777777777778,
             "#fb9f3a"
            ],
            [
             0.8888888888888888,
             "#fdca26"
            ],
            [
             1,
             "#f0f921"
            ]
           ]
          },
          "colorway": [
           "#636efa",
           "#EF553B",
           "#00cc96",
           "#ab63fa",
           "#FFA15A",
           "#19d3f3",
           "#FF6692",
           "#B6E880",
           "#FF97FF",
           "#FECB52"
          ],
          "font": {
           "color": "#2a3f5f"
          },
          "geo": {
           "bgcolor": "white",
           "lakecolor": "white",
           "landcolor": "#E5ECF6",
           "showlakes": true,
           "showland": true,
           "subunitcolor": "white"
          },
          "hoverlabel": {
           "align": "left"
          },
          "hovermode": "closest",
          "mapbox": {
           "style": "light"
          },
          "paper_bgcolor": "white",
          "plot_bgcolor": "#E5ECF6",
          "polar": {
           "angularaxis": {
            "gridcolor": "white",
            "linecolor": "white",
            "ticks": ""
           },
           "bgcolor": "#E5ECF6",
           "radialaxis": {
            "gridcolor": "white",
            "linecolor": "white",
            "ticks": ""
           }
          },
          "scene": {
           "xaxis": {
            "backgroundcolor": "#E5ECF6",
            "gridcolor": "white",
            "gridwidth": 2,
            "linecolor": "white",
            "showbackground": true,
            "ticks": "",
            "zerolinecolor": "white"
           },
           "yaxis": {
            "backgroundcolor": "#E5ECF6",
            "gridcolor": "white",
            "gridwidth": 2,
            "linecolor": "white",
            "showbackground": true,
            "ticks": "",
            "zerolinecolor": "white"
           },
           "zaxis": {
            "backgroundcolor": "#E5ECF6",
            "gridcolor": "white",
            "gridwidth": 2,
            "linecolor": "white",
            "showbackground": true,
            "ticks": "",
            "zerolinecolor": "white"
           }
          },
          "shapedefaults": {
           "line": {
            "color": "#2a3f5f"
           }
          },
          "ternary": {
           "aaxis": {
            "gridcolor": "white",
            "linecolor": "white",
            "ticks": ""
           },
           "baxis": {
            "gridcolor": "white",
            "linecolor": "white",
            "ticks": ""
           },
           "bgcolor": "#E5ECF6",
           "caxis": {
            "gridcolor": "white",
            "linecolor": "white",
            "ticks": ""
           }
          },
          "title": {
           "x": 0.05
          },
          "xaxis": {
           "automargin": true,
           "gridcolor": "white",
           "linecolor": "white",
           "ticks": "",
           "title": {
            "standoff": 15
           },
           "zerolinecolor": "white",
           "zerolinewidth": 2
          },
          "yaxis": {
           "automargin": true,
           "gridcolor": "white",
           "linecolor": "white",
           "ticks": "",
           "title": {
            "standoff": 15
           },
           "zerolinecolor": "white",
           "zerolinewidth": 2
          }
         }
        },
        "title": {
         "text": "### <b>Median R^2 (train)</b> Mean Square Error :4463.19 ###"
        },
        "xaxis": {
         "title": {
          "text": "<b>Date</b>"
         }
        },
        "yaxis": {
         "title": {
          "text": "<b>Price</b>"
         }
        }
       }
      },
      "text/html": [
       "<div>                            <div id=\"984eea65-ae37-42bd-a868-8ae94b2a4b4e\" class=\"plotly-graph-div\" style=\"height:525px; width:100%;\"></div>            <script type=\"text/javascript\">                require([\"plotly\"], function(Plotly) {                    window.PLOTLYENV=window.PLOTLYENV || {};                                    if (document.getElementById(\"984eea65-ae37-42bd-a868-8ae94b2a4b4e\")) {                    Plotly.newPlot(                        \"984eea65-ae37-42bd-a868-8ae94b2a4b4e\",                        [{\"name\":\"Actual Price\",\"x\":[0,1,2,3,4,5,6,7,8,9,10,11,12,13,14,15,16,17,18,19,20,21,22,23,24,25,26,27,28,29,30,31,32,33,34,35,36,37,38,39,40,41,42,43,44,45,46,47,48,49,50,51,52,53,54,55,56,57,58,59,60,61,62,63,64,65,66,67,68,69,70,71,72,73,74,75,76,77,78,79,80,81,82,83,84,85,86,87,88,89,90,91,92,93,94,95,96,97,98,99,100,101,102,103,104,105,106,107,108,109,110,111,112,113,114,115,116,117,118,119,120,121,122,123,124,125,126,127,128,129,130,131,132,133,134,135,136,137,138,139,140,141,142,143,144,145,146,147,148,149,150,151,152,153,154,155,156,157,158,159,160,161,162,163,164,165,166,167,168,169,170,171,172,173,174,175,176,177,178,179,180,181,182,183,184,185,186,187,188,189,190,191,192,193,194,195,196,197,198,199,200,201,202,203,204,205,206,207,208,209,210,211,212,213,214,215,216,217,218,219,220,221,222,223,224,225,226,227,228,229,230,231,232,233,234,235,236,237,238,239,240,241,242,243,244,245,246,247,248,249,250,251,252,253,254,255,256,257,258,259,260,261,262,263,264,265,266,267,268,269,270,271,272,273,274,275,276,277,278,279,280,281,282,283],\"y\":[18.57,19.816666666666663,21.62,21.636666666666667,22.98,23.19666666666667,23.923333333333336,24.046666666666667,24.99,25.58333333333333,25.856666666666666,24.433333333333334,23.80666666666667,24.703333333333333,26.39,28.886666666666667,31.006666666666664,33.96666666666667,36.656666666666666,38.96666666666667,43.45666666666667,44.44333333333333,45.88,46.85,47.41666666666666,45.77666666666666,44.03,46.84666666666666,45.18333333333334,40.92333333333334,41.546666666666674,44.25666666666667,48.333333333333336,53.00666666666666,55.43333333333334,58.24666666666667,58.99666666666667,58.56333333333333,55.69,55.70666666666667,55.330000000000005,55.68,63.42666666666667,65.50333333333333,67.18666666666667,70.49666666666667,69.45,59.873333333333335,57.873333333333335,60.626666666666665,65.68666666666667,69.99,71.11,74.08666666666666,77.94,80.50666666666666,83.06333333333333,84.67666666666666,87.05,87.21666666666665,87.46,92.15333333333336,91.11,87.31,79.08666666666666,80.32666666666667,87.86333333333334,91.24333333333334,95.03333333333336,94.59,90.6,98.57333333333334,99.75666666666666,105.21333333333332,100.88333333333333,101.62,93.48666666666668,94.33,88.05,76.92999999999999,81.29,87.53333333333335,97.64666666666666,100.76,97.65,96.77,105.90333333333332,108.11333333333334,109.67666666666666,115.43333333333334,113.07666666666668,105.39333333333332,106.96666666666664,100.6,95.59,87.86333333333334,71.66666666666667,70.81,80.64333333333333,91.21333333333332,86.5,90.15666666666668,101.11333333333332,102.03333333333336,103.86333333333332,104.15333333333332,100.09,98.34666666666668,97.38333333333333,94.09,88.5,96.53333333333336,102.17,94.65333333333336,99.26666666666668,101.25,107.48333333333332,105.30666666666666,109.96999999999998,110.59,123.17,134.58333333333334,132.27333333333334,132.20333333333335,123.29666666666668,123.59666666666664,115.15666666666668,112.64333333333332,115.67333333333332,137.63,148.77333333333334,164.82,164.34333333333333,164.96,159.88333333333333,154.59333333333333,161.14666666666668,165.63666666666668,180.49,187.07666666666668,187.21,201.09,225.86666666666667,244.57,240.1233333333333,245.1233333333333,283.32666666666665,294.15333333333336,323.43,243.0566666666667,261.26,265.66333333333336,268.4833333333333,276.7966666666667,293.7333333333333,316.0466666666667,348.89333333333326,346.5833333333333,333.63666666666666,350.01666666666665,328.25333333333333,318.81333333333333,362.0733333333333,378.7766666666666,390.3666666666666,394.92,408.39,412.8133333333333,418.68,428.58,444.61,446.97,456.8733333333333,465.3566666666666,464.84,450.56,465.4866666666667,461.77,486.17333333333335,530.9533333333334,569.4499999999999,600.9333333333333,640.65,664.64,659.7566666666667,734.3433333333332,778.0333333333333,844.9200000000001,933.6866666666666,946.8166666666666,1043.79,1112.1366666666663,1031.6533333333334,1163.8433333333337,1268.1133333333337,1336.5766666666666,1310.6133333333337,1407.0833333333333,1419.82,1442.5566666666666,1461.6733333333334,1354.8733333333332,1254.75,1243.3566666666666,1128.3266666666666,1114.99,1128.11,1044.6266666666668,880.9900000000001,900.63,848.3433333333332,951.67,998.0966666666668,1073.61,1134.0933333333337,1122.9399999999998,1106.8466666666666,1171.98,1188.486666666667,1179.8933333333332,1227.7733333333333,1234.9266666666665,1285.1833333333334,1283.6333333333332,1305.4399999999998,1398.9533333333336,1421.97,1505.4466666666667,1485.3366666666668,1499.6266666666668,1343.96,1355.3233333333335,1238.8566666666666,922.7466666666666,786.2800000000001,903.7566666666668,1021.7266666666666,1082.3066666666666,1115.93,1102.2700000000002,1097.3766666666668,1207.15,1313.0566666666666,1343.15,1214.1966666666667,1252.62,1362.1866666666667,1356.8,1408.8566666666666,1418.176666666667,1527.3266666666666,1611.53,1666.75,1803.57,1838.1266666666668,1922.5833333333333,1968.7766666666664,2048.17,2055.793333333333,2085.3366666666666,1998.6833333333332,2067.903333333333,1977.4033333333332,2087.0400000000004,2170.94,2187.93,2335.0766666666664,2406.47,2487.103333333333,2632.15,2726.17,2690.563333333333,2877.263333333334,2659.5866666666666,2774.33,2879.883333333333,2961.193333333333,3136.44,2921.443333333333,3019.01,3378.143333333333,3549.22,3832.76,4227.593333333333],\"type\":\"scatter\"},{\"error_y\":{\"array\":[[-73.0448842932525],[-96.35894940655226],[5.375597383227664],[100.26541087511782],[-87.56262510672991],[-113.06859448933187],[80.11165920878443],[-3.2008614795011],[-23.46358998238614],[164.12827638167118],[139.3536869620266],[-84.06291812399888],[-21.955877774418468],[-142.97329583307487],[17.27548162573413],[-25.821095281221574],[6.842821641692481],[-92.87979911998809],[-13.637899219003032],[31.857483816822764],[-37.2385172106234],[-27.31689498901774],[-11.726985063276373],[-21.36630188089532],[-27.30898985548174],[-4.4089563369795925],[-55.04619731345923],[62.118290806297125],[5.7130722473903575],[-11.170942037868201],[28.540013219609108],[12.323285515803683],[5.409697241579963],[-79.14684320925437],[-77.94968527569586],[201.59629895978742],[-51.20012697570337],[-181.33507710920344],[21.082821744531316],[-45.37558916846149],[-7.75442669792405],[-6.4777859481951765],[5.797757446568141],[47.06997709411803],[104.71312553512371],[10.005818973355467],[50.8970186495182],[-7.561934634072415],[-4.079377935031175],[-137.8573102892019],[8.697319109195632],[1.7709292439153614],[-59.158712463951815],[6.992860460664815],[-9.211203827566248],[-80.7026469438074],[90.54851701088069],[16.941141004335577],[32.26681324120452],[-29.86042580704361],[-6.487103271411058],[4.205574101179501],[-7.332120515174452],[5.669752102269541],[1.0993645743566844],[79.67136916974272],[-14.79966167663315],[-18.09010780302293],[22.494485023238028],[23.032131192052745],[115.05318981287837]],\"symmetric\":false,\"type\":\"data\",\"visible\":true},\"mode\":\"markers\",\"name\":\"Predicted Price (TEST)\",\"x\":[187,275,29,254,234,240,198,142,70,270,267,210,219,192,89,212,83,193,63,100,186,96,26,76,95,22,178,131,21,161,102,32,81,184,246,281,202,204,179,177,4,7,44,182,258,41,146,60,115,244,166,190,262,264,8,203,256,215,104,235,28,40,52,18,56,173,183,68,101,120,259],\"y\":[917.9648842932526,2976.2422827398855,35.547735950105675,1737.861255791549,873.84262510673,1210.4452611559987,1339.7083407912155,229.06752814616777,114.06358998238613,2562.041723618329,2267.116313037973,932.4062514573321,1201.8492111077517,1174.6266291664083,98.1578517075992,1023.9177619478884,93.91717835830752,1256.7231324533218,100.94789921900303,54.642516183177236,815.2718505439567,98.98356165568441,55.756985063276375,114.852968547562,115.17232318881508,50.288956336979595,541.2195306467926,102.70170919370287,38.73026108594297,329.98427537120153,72.57332011372421,36.01004781752965,82.12363609175338,738.903509875921,1440.1363519423626,3347.6237010402124,1305.9501269757034,1309.66174377587,509.87051158880206,507.14558916846147,30.73442669792405,30.524452614861843,61.388909220098526,593.580022905882,1951.0802077982094,45.67418102664453,232.42964801714845,95.02193463407241,105.32937793503118,1352.0539769558686,399.69268089080435,1042.0190707560846,2036.562045797285,2163.9471395393352,34.201203827566246,1324.059313610474,1878.2281496557857,1105.9988589956642,71.5965200921288,933.6170924737104,51.670436604744395,51.124425898820505,78.44212051517445,30.986914564397125,81.96396875897665,385.6852974969239,679.4396616766331,113.12344113635629,67.66218164342865,100.13786880794726,1970.2834768537882],\"type\":\"scatter\"}],                        {\"template\":{\"data\":{\"bar\":[{\"error_x\":{\"color\":\"#2a3f5f\"},\"error_y\":{\"color\":\"#2a3f5f\"},\"marker\":{\"line\":{\"color\":\"#E5ECF6\",\"width\":0.5},\"pattern\":{\"fillmode\":\"overlay\",\"size\":10,\"solidity\":0.2}},\"type\":\"bar\"}],\"barpolar\":[{\"marker\":{\"line\":{\"color\":\"#E5ECF6\",\"width\":0.5},\"pattern\":{\"fillmode\":\"overlay\",\"size\":10,\"solidity\":0.2}},\"type\":\"barpolar\"}],\"carpet\":[{\"aaxis\":{\"endlinecolor\":\"#2a3f5f\",\"gridcolor\":\"white\",\"linecolor\":\"white\",\"minorgridcolor\":\"white\",\"startlinecolor\":\"#2a3f5f\"},\"baxis\":{\"endlinecolor\":\"#2a3f5f\",\"gridcolor\":\"white\",\"linecolor\":\"white\",\"minorgridcolor\":\"white\",\"startlinecolor\":\"#2a3f5f\"},\"type\":\"carpet\"}],\"choropleth\":[{\"colorbar\":{\"outlinewidth\":0,\"ticks\":\"\"},\"type\":\"choropleth\"}],\"contour\":[{\"colorbar\":{\"outlinewidth\":0,\"ticks\":\"\"},\"colorscale\":[[0.0,\"#0d0887\"],[0.1111111111111111,\"#46039f\"],[0.2222222222222222,\"#7201a8\"],[0.3333333333333333,\"#9c179e\"],[0.4444444444444444,\"#bd3786\"],[0.5555555555555556,\"#d8576b\"],[0.6666666666666666,\"#ed7953\"],[0.7777777777777778,\"#fb9f3a\"],[0.8888888888888888,\"#fdca26\"],[1.0,\"#f0f921\"]],\"type\":\"contour\"}],\"contourcarpet\":[{\"colorbar\":{\"outlinewidth\":0,\"ticks\":\"\"},\"type\":\"contourcarpet\"}],\"heatmap\":[{\"colorbar\":{\"outlinewidth\":0,\"ticks\":\"\"},\"colorscale\":[[0.0,\"#0d0887\"],[0.1111111111111111,\"#46039f\"],[0.2222222222222222,\"#7201a8\"],[0.3333333333333333,\"#9c179e\"],[0.4444444444444444,\"#bd3786\"],[0.5555555555555556,\"#d8576b\"],[0.6666666666666666,\"#ed7953\"],[0.7777777777777778,\"#fb9f3a\"],[0.8888888888888888,\"#fdca26\"],[1.0,\"#f0f921\"]],\"type\":\"heatmap\"}],\"heatmapgl\":[{\"colorbar\":{\"outlinewidth\":0,\"ticks\":\"\"},\"colorscale\":[[0.0,\"#0d0887\"],[0.1111111111111111,\"#46039f\"],[0.2222222222222222,\"#7201a8\"],[0.3333333333333333,\"#9c179e\"],[0.4444444444444444,\"#bd3786\"],[0.5555555555555556,\"#d8576b\"],[0.6666666666666666,\"#ed7953\"],[0.7777777777777778,\"#fb9f3a\"],[0.8888888888888888,\"#fdca26\"],[1.0,\"#f0f921\"]],\"type\":\"heatmapgl\"}],\"histogram\":[{\"marker\":{\"pattern\":{\"fillmode\":\"overlay\",\"size\":10,\"solidity\":0.2}},\"type\":\"histogram\"}],\"histogram2d\":[{\"colorbar\":{\"outlinewidth\":0,\"ticks\":\"\"},\"colorscale\":[[0.0,\"#0d0887\"],[0.1111111111111111,\"#46039f\"],[0.2222222222222222,\"#7201a8\"],[0.3333333333333333,\"#9c179e\"],[0.4444444444444444,\"#bd3786\"],[0.5555555555555556,\"#d8576b\"],[0.6666666666666666,\"#ed7953\"],[0.7777777777777778,\"#fb9f3a\"],[0.8888888888888888,\"#fdca26\"],[1.0,\"#f0f921\"]],\"type\":\"histogram2d\"}],\"histogram2dcontour\":[{\"colorbar\":{\"outlinewidth\":0,\"ticks\":\"\"},\"colorscale\":[[0.0,\"#0d0887\"],[0.1111111111111111,\"#46039f\"],[0.2222222222222222,\"#7201a8\"],[0.3333333333333333,\"#9c179e\"],[0.4444444444444444,\"#bd3786\"],[0.5555555555555556,\"#d8576b\"],[0.6666666666666666,\"#ed7953\"],[0.7777777777777778,\"#fb9f3a\"],[0.8888888888888888,\"#fdca26\"],[1.0,\"#f0f921\"]],\"type\":\"histogram2dcontour\"}],\"mesh3d\":[{\"colorbar\":{\"outlinewidth\":0,\"ticks\":\"\"},\"type\":\"mesh3d\"}],\"parcoords\":[{\"line\":{\"colorbar\":{\"outlinewidth\":0,\"ticks\":\"\"}},\"type\":\"parcoords\"}],\"pie\":[{\"automargin\":true,\"type\":\"pie\"}],\"scatter\":[{\"marker\":{\"colorbar\":{\"outlinewidth\":0,\"ticks\":\"\"}},\"type\":\"scatter\"}],\"scatter3d\":[{\"line\":{\"colorbar\":{\"outlinewidth\":0,\"ticks\":\"\"}},\"marker\":{\"colorbar\":{\"outlinewidth\":0,\"ticks\":\"\"}},\"type\":\"scatter3d\"}],\"scattercarpet\":[{\"marker\":{\"colorbar\":{\"outlinewidth\":0,\"ticks\":\"\"}},\"type\":\"scattercarpet\"}],\"scattergeo\":[{\"marker\":{\"colorbar\":{\"outlinewidth\":0,\"ticks\":\"\"}},\"type\":\"scattergeo\"}],\"scattergl\":[{\"marker\":{\"colorbar\":{\"outlinewidth\":0,\"ticks\":\"\"}},\"type\":\"scattergl\"}],\"scattermapbox\":[{\"marker\":{\"colorbar\":{\"outlinewidth\":0,\"ticks\":\"\"}},\"type\":\"scattermapbox\"}],\"scatterpolar\":[{\"marker\":{\"colorbar\":{\"outlinewidth\":0,\"ticks\":\"\"}},\"type\":\"scatterpolar\"}],\"scatterpolargl\":[{\"marker\":{\"colorbar\":{\"outlinewidth\":0,\"ticks\":\"\"}},\"type\":\"scatterpolargl\"}],\"scatterternary\":[{\"marker\":{\"colorbar\":{\"outlinewidth\":0,\"ticks\":\"\"}},\"type\":\"scatterternary\"}],\"surface\":[{\"colorbar\":{\"outlinewidth\":0,\"ticks\":\"\"},\"colorscale\":[[0.0,\"#0d0887\"],[0.1111111111111111,\"#46039f\"],[0.2222222222222222,\"#7201a8\"],[0.3333333333333333,\"#9c179e\"],[0.4444444444444444,\"#bd3786\"],[0.5555555555555556,\"#d8576b\"],[0.6666666666666666,\"#ed7953\"],[0.7777777777777778,\"#fb9f3a\"],[0.8888888888888888,\"#fdca26\"],[1.0,\"#f0f921\"]],\"type\":\"surface\"}],\"table\":[{\"cells\":{\"fill\":{\"color\":\"#EBF0F8\"},\"line\":{\"color\":\"white\"}},\"header\":{\"fill\":{\"color\":\"#C8D4E3\"},\"line\":{\"color\":\"white\"}},\"type\":\"table\"}]},\"layout\":{\"annotationdefaults\":{\"arrowcolor\":\"#2a3f5f\",\"arrowhead\":0,\"arrowwidth\":1},\"autotypenumbers\":\"strict\",\"coloraxis\":{\"colorbar\":{\"outlinewidth\":0,\"ticks\":\"\"}},\"colorscale\":{\"diverging\":[[0,\"#8e0152\"],[0.1,\"#c51b7d\"],[0.2,\"#de77ae\"],[0.3,\"#f1b6da\"],[0.4,\"#fde0ef\"],[0.5,\"#f7f7f7\"],[0.6,\"#e6f5d0\"],[0.7,\"#b8e186\"],[0.8,\"#7fbc41\"],[0.9,\"#4d9221\"],[1,\"#276419\"]],\"sequential\":[[0.0,\"#0d0887\"],[0.1111111111111111,\"#46039f\"],[0.2222222222222222,\"#7201a8\"],[0.3333333333333333,\"#9c179e\"],[0.4444444444444444,\"#bd3786\"],[0.5555555555555556,\"#d8576b\"],[0.6666666666666666,\"#ed7953\"],[0.7777777777777778,\"#fb9f3a\"],[0.8888888888888888,\"#fdca26\"],[1.0,\"#f0f921\"]],\"sequentialminus\":[[0.0,\"#0d0887\"],[0.1111111111111111,\"#46039f\"],[0.2222222222222222,\"#7201a8\"],[0.3333333333333333,\"#9c179e\"],[0.4444444444444444,\"#bd3786\"],[0.5555555555555556,\"#d8576b\"],[0.6666666666666666,\"#ed7953\"],[0.7777777777777778,\"#fb9f3a\"],[0.8888888888888888,\"#fdca26\"],[1.0,\"#f0f921\"]]},\"colorway\":[\"#636efa\",\"#EF553B\",\"#00cc96\",\"#ab63fa\",\"#FFA15A\",\"#19d3f3\",\"#FF6692\",\"#B6E880\",\"#FF97FF\",\"#FECB52\"],\"font\":{\"color\":\"#2a3f5f\"},\"geo\":{\"bgcolor\":\"white\",\"lakecolor\":\"white\",\"landcolor\":\"#E5ECF6\",\"showlakes\":true,\"showland\":true,\"subunitcolor\":\"white\"},\"hoverlabel\":{\"align\":\"left\"},\"hovermode\":\"closest\",\"mapbox\":{\"style\":\"light\"},\"paper_bgcolor\":\"white\",\"plot_bgcolor\":\"#E5ECF6\",\"polar\":{\"angularaxis\":{\"gridcolor\":\"white\",\"linecolor\":\"white\",\"ticks\":\"\"},\"bgcolor\":\"#E5ECF6\",\"radialaxis\":{\"gridcolor\":\"white\",\"linecolor\":\"white\",\"ticks\":\"\"}},\"scene\":{\"xaxis\":{\"backgroundcolor\":\"#E5ECF6\",\"gridcolor\":\"white\",\"gridwidth\":2,\"linecolor\":\"white\",\"showbackground\":true,\"ticks\":\"\",\"zerolinecolor\":\"white\"},\"yaxis\":{\"backgroundcolor\":\"#E5ECF6\",\"gridcolor\":\"white\",\"gridwidth\":2,\"linecolor\":\"white\",\"showbackground\":true,\"ticks\":\"\",\"zerolinecolor\":\"white\"},\"zaxis\":{\"backgroundcolor\":\"#E5ECF6\",\"gridcolor\":\"white\",\"gridwidth\":2,\"linecolor\":\"white\",\"showbackground\":true,\"ticks\":\"\",\"zerolinecolor\":\"white\"}},\"shapedefaults\":{\"line\":{\"color\":\"#2a3f5f\"}},\"ternary\":{\"aaxis\":{\"gridcolor\":\"white\",\"linecolor\":\"white\",\"ticks\":\"\"},\"baxis\":{\"gridcolor\":\"white\",\"linecolor\":\"white\",\"ticks\":\"\"},\"bgcolor\":\"#E5ECF6\",\"caxis\":{\"gridcolor\":\"white\",\"linecolor\":\"white\",\"ticks\":\"\"}},\"title\":{\"x\":0.05},\"xaxis\":{\"automargin\":true,\"gridcolor\":\"white\",\"linecolor\":\"white\",\"ticks\":\"\",\"title\":{\"standoff\":15},\"zerolinecolor\":\"white\",\"zerolinewidth\":2},\"yaxis\":{\"automargin\":true,\"gridcolor\":\"white\",\"linecolor\":\"white\",\"ticks\":\"\",\"title\":{\"standoff\":15},\"zerolinecolor\":\"white\",\"zerolinewidth\":2}}},\"title\":{\"text\":\"### <b>Median R^2 (train)</b> Mean Square Error :4463.19 ###\"},\"xaxis\":{\"title\":{\"text\":\"<b>Date</b>\"}},\"yaxis\":{\"title\":{\"text\":\"<b>Price</b>\"}}},                        {\"responsive\": true}                    ).then(function(){\n",
       "                            \n",
       "var gd = document.getElementById('984eea65-ae37-42bd-a868-8ae94b2a4b4e');\n",
       "var x = new MutationObserver(function (mutations, observer) {{\n",
       "        var display = window.getComputedStyle(gd).display;\n",
       "        if (!display || display === 'none') {{\n",
       "            console.log([gd, 'removed!']);\n",
       "            Plotly.purge(gd);\n",
       "            observer.disconnect();\n",
       "        }}\n",
       "}});\n",
       "\n",
       "// Listen for the removal of the full notebook cells\n",
       "var notebookContainer = gd.closest('#notebook-container');\n",
       "if (notebookContainer) {{\n",
       "    x.observe(notebookContainer, {childList: true});\n",
       "}}\n",
       "\n",
       "// Listen for the clearing of the current output cell\n",
       "var outputEl = gd.closest('.output');\n",
       "if (outputEl) {{\n",
       "    x.observe(outputEl, {childList: true});\n",
       "}}\n",
       "\n",
       "                        })                };                });            </script>        </div>"
      ]
     },
     "metadata": {},
     "output_type": "display_data"
    },
    {
     "data": {
      "text/plain": [
       "array([[ 0.00000000e+00, -3.69895378e+00,  2.80824405e+01,\n",
       "        -2.67964533e+01,  4.15560764e+01,  5.89624357e-06,\n",
       "         7.00505939e-04, -5.15580815e-03,  4.84999931e-03,\n",
       "        -5.19427014e-03, -2.67396630e-03,  1.73344538e-02,\n",
       "        -1.51791319e-02,  3.58069335e-02, -7.37498823e-03,\n",
       "         7.95294772e-03, -6.23120150e-02, -9.41810085e-04,\n",
       "         4.27951444e-02, -1.91406860e-02]])"
      ]
     },
     "metadata": {},
     "output_type": "display_data"
    },
    {
     "data": {
      "text/plain": [
       "array([144.6013677])"
      ]
     },
     "metadata": {},
     "output_type": "display_data"
    }
   ],
   "source": [
    "y = pd.DataFrame(df_full['CloseNext'])\n",
    "X = pd.DataFrame(df_full[['real_gdp', 'consumer_spending', 'gnp', 'gdp', 'private_domestic_investment']])\n",
    "\n",
    "# Find best train-test-split based on median R^2 (test)\n",
    "med = 0\n",
    "state = 0\n",
    "med = res_df2.describe().loc['50%'].at['R^2']\n",
    "state = res_df2['R^2'].sub(med).abs().idxmin()\n",
    "\n",
    "print(f'random_state = {state}')\n",
    "X_train, X_test, y_train, y_test = train_test_split(X, y, test_size=0.25, random_state=state)\n",
    "\n",
    "poly = PolynomialFeatures(degree=2)\n",
    "poly_reg = LinearRegression()\n",
    "\n",
    "# train model\n",
    "X_ = poly.fit_transform(X_train)\n",
    "X_ = np.delete(X_,(1),axis=1)\n",
    "poly_reg.fit(X_, y_train)\n",
    "y_pred = poly_reg.predict(X_)\n",
    "# test model\n",
    "X_2 = poly.fit_transform(X_test)\n",
    "X_2 = np.delete(X_2,(1),axis=1)\n",
    "y_pred2 = poly_reg.predict(X_2)\n",
    "# whole model (train+test)\n",
    "X_3 = poly.fit_transform(X)\n",
    "X_3 = np.delete(X_3,(1),axis=1)\n",
    "y_pred3 = poly_reg.predict(X_3)\n",
    "\n",
    "print(f'Explained Variance: {poly_reg.score(X_, y_train)}')\n",
    "print(f'Train Set MSE: {mse(y_train, y_pred)}')\n",
    "print(f'Test Set MSE: {mse(y_test, y_pred2)}')\n",
    "\n",
    "fig = go.Figure()\n",
    "\n",
    "fig.add_trace(go.Scatter(x=df_full.index, y=y['CloseNext'], name=\"Actual Price\"))\n",
    "\n",
    "#fig.add_trace(go.Scatter(x=y.index, y=pd.Series(np.squeeze(y_pred3)), name=\"Predicted Price (TRAIN + TEST)\"))\n",
    "\n",
    "error = np.array(y_test) - np.array(y_pred2)\n",
    "fig.add_trace(go.Scatter(\n",
    "        x=y_test.index, y=pd.Series(np.squeeze(y_pred2)),\n",
    "        error_y=dict(\n",
    "            type='data',\n",
    "            symmetric=False,\n",
    "            array=error,\n",
    "            visible=True),\n",
    "        mode='markers',\n",
    "        name=\"Predicted Price (TEST)\"))\n",
    "\n",
    "fig.update_layout(\n",
    "    title_text='### <b>Median R^2 (train)</b> Mean Square Error :' + str(mse(y_test, y_pred2).round(2)) + ' ###'\n",
    ")\n",
    "res1 = mse(y_test, y_pred2)\n",
    "\n",
    "fig.update_xaxes(title_text=\"<b>Date</b>\")\n",
    "fig.update_yaxes(title_text=\"<b>Price</b>\")\n",
    "\n",
    "fig.show()\n",
    "\n",
    "display(poly_reg.coef_)\n",
    "display(poly_reg.intercept_)"
   ]
  },
  {
   "cell_type": "code",
   "execution_count": 13,
   "metadata": {},
   "outputs": [
    {
     "name": "stdout",
     "output_type": "stream",
     "text": [
      "random_state = 470\n",
      "Explained Variance: 0.9955722341906237\n",
      "Train Set MSE: 3052.072597062551\n",
      "Test Set MSE: 4725.396725851833\n"
     ]
    },
    {
     "data": {
      "application/vnd.plotly.v1+json": {
       "config": {
        "plotlyServerURL": "https://plot.ly"
       },
       "data": [
        {
         "name": "Actual Price",
         "type": "scatter",
         "x": [
          0,
          1,
          2,
          3,
          4,
          5,
          6,
          7,
          8,
          9,
          10,
          11,
          12,
          13,
          14,
          15,
          16,
          17,
          18,
          19,
          20,
          21,
          22,
          23,
          24,
          25,
          26,
          27,
          28,
          29,
          30,
          31,
          32,
          33,
          34,
          35,
          36,
          37,
          38,
          39,
          40,
          41,
          42,
          43,
          44,
          45,
          46,
          47,
          48,
          49,
          50,
          51,
          52,
          53,
          54,
          55,
          56,
          57,
          58,
          59,
          60,
          61,
          62,
          63,
          64,
          65,
          66,
          67,
          68,
          69,
          70,
          71,
          72,
          73,
          74,
          75,
          76,
          77,
          78,
          79,
          80,
          81,
          82,
          83,
          84,
          85,
          86,
          87,
          88,
          89,
          90,
          91,
          92,
          93,
          94,
          95,
          96,
          97,
          98,
          99,
          100,
          101,
          102,
          103,
          104,
          105,
          106,
          107,
          108,
          109,
          110,
          111,
          112,
          113,
          114,
          115,
          116,
          117,
          118,
          119,
          120,
          121,
          122,
          123,
          124,
          125,
          126,
          127,
          128,
          129,
          130,
          131,
          132,
          133,
          134,
          135,
          136,
          137,
          138,
          139,
          140,
          141,
          142,
          143,
          144,
          145,
          146,
          147,
          148,
          149,
          150,
          151,
          152,
          153,
          154,
          155,
          156,
          157,
          158,
          159,
          160,
          161,
          162,
          163,
          164,
          165,
          166,
          167,
          168,
          169,
          170,
          171,
          172,
          173,
          174,
          175,
          176,
          177,
          178,
          179,
          180,
          181,
          182,
          183,
          184,
          185,
          186,
          187,
          188,
          189,
          190,
          191,
          192,
          193,
          194,
          195,
          196,
          197,
          198,
          199,
          200,
          201,
          202,
          203,
          204,
          205,
          206,
          207,
          208,
          209,
          210,
          211,
          212,
          213,
          214,
          215,
          216,
          217,
          218,
          219,
          220,
          221,
          222,
          223,
          224,
          225,
          226,
          227,
          228,
          229,
          230,
          231,
          232,
          233,
          234,
          235,
          236,
          237,
          238,
          239,
          240,
          241,
          242,
          243,
          244,
          245,
          246,
          247,
          248,
          249,
          250,
          251,
          252,
          253,
          254,
          255,
          256,
          257,
          258,
          259,
          260,
          261,
          262,
          263,
          264,
          265,
          266,
          267,
          268,
          269,
          270,
          271,
          272,
          273,
          274,
          275,
          276,
          277,
          278,
          279,
          280,
          281,
          282,
          283
         ],
         "y": [
          18.57,
          19.816666666666663,
          21.62,
          21.636666666666667,
          22.98,
          23.19666666666667,
          23.923333333333336,
          24.046666666666667,
          24.99,
          25.58333333333333,
          25.856666666666666,
          24.433333333333334,
          23.80666666666667,
          24.703333333333333,
          26.39,
          28.886666666666667,
          31.006666666666664,
          33.96666666666667,
          36.656666666666666,
          38.96666666666667,
          43.45666666666667,
          44.44333333333333,
          45.88,
          46.85,
          47.41666666666666,
          45.77666666666666,
          44.03,
          46.84666666666666,
          45.18333333333334,
          40.92333333333334,
          41.546666666666674,
          44.25666666666667,
          48.333333333333336,
          53.00666666666666,
          55.43333333333334,
          58.24666666666667,
          58.99666666666667,
          58.56333333333333,
          55.69,
          55.70666666666667,
          55.330000000000005,
          55.68,
          63.42666666666667,
          65.50333333333333,
          67.18666666666667,
          70.49666666666667,
          69.45,
          59.873333333333335,
          57.873333333333335,
          60.626666666666665,
          65.68666666666667,
          69.99,
          71.11,
          74.08666666666666,
          77.94,
          80.50666666666666,
          83.06333333333333,
          84.67666666666666,
          87.05,
          87.21666666666665,
          87.46,
          92.15333333333336,
          91.11,
          87.31,
          79.08666666666666,
          80.32666666666667,
          87.86333333333334,
          91.24333333333334,
          95.03333333333336,
          94.59,
          90.6,
          98.57333333333334,
          99.75666666666666,
          105.21333333333332,
          100.88333333333333,
          101.62,
          93.48666666666668,
          94.33,
          88.05,
          76.92999999999999,
          81.29,
          87.53333333333335,
          97.64666666666666,
          100.76,
          97.65,
          96.77,
          105.90333333333332,
          108.11333333333334,
          109.67666666666666,
          115.43333333333334,
          113.07666666666668,
          105.39333333333332,
          106.96666666666664,
          100.6,
          95.59,
          87.86333333333334,
          71.66666666666667,
          70.81,
          80.64333333333333,
          91.21333333333332,
          86.5,
          90.15666666666668,
          101.11333333333332,
          102.03333333333336,
          103.86333333333332,
          104.15333333333332,
          100.09,
          98.34666666666668,
          97.38333333333333,
          94.09,
          88.5,
          96.53333333333336,
          102.17,
          94.65333333333336,
          99.26666666666668,
          101.25,
          107.48333333333332,
          105.30666666666666,
          109.96999999999998,
          110.59,
          123.17,
          134.58333333333334,
          132.27333333333334,
          132.20333333333335,
          123.29666666666668,
          123.59666666666664,
          115.15666666666668,
          112.64333333333332,
          115.67333333333332,
          137.63,
          148.77333333333334,
          164.82,
          164.34333333333333,
          164.96,
          159.88333333333333,
          154.59333333333333,
          161.14666666666668,
          165.63666666666668,
          180.49,
          187.07666666666668,
          187.21,
          201.09,
          225.86666666666667,
          244.57,
          240.1233333333333,
          245.1233333333333,
          283.32666666666665,
          294.15333333333336,
          323.43,
          243.0566666666667,
          261.26,
          265.66333333333336,
          268.4833333333333,
          276.7966666666667,
          293.7333333333333,
          316.0466666666667,
          348.89333333333326,
          346.5833333333333,
          333.63666666666666,
          350.01666666666665,
          328.25333333333333,
          318.81333333333333,
          362.0733333333333,
          378.7766666666666,
          390.3666666666666,
          394.92,
          408.39,
          412.8133333333333,
          418.68,
          428.58,
          444.61,
          446.97,
          456.8733333333333,
          465.3566666666666,
          464.84,
          450.56,
          465.4866666666667,
          461.77,
          486.17333333333335,
          530.9533333333334,
          569.4499999999999,
          600.9333333333333,
          640.65,
          664.64,
          659.7566666666667,
          734.3433333333332,
          778.0333333333333,
          844.9200000000001,
          933.6866666666666,
          946.8166666666666,
          1043.79,
          1112.1366666666663,
          1031.6533333333334,
          1163.8433333333337,
          1268.1133333333337,
          1336.5766666666666,
          1310.6133333333337,
          1407.0833333333333,
          1419.82,
          1442.5566666666666,
          1461.6733333333334,
          1354.8733333333332,
          1254.75,
          1243.3566666666666,
          1128.3266666666666,
          1114.99,
          1128.11,
          1044.6266666666668,
          880.9900000000001,
          900.63,
          848.3433333333332,
          951.67,
          998.0966666666668,
          1073.61,
          1134.0933333333337,
          1122.9399999999998,
          1106.8466666666666,
          1171.98,
          1188.486666666667,
          1179.8933333333332,
          1227.7733333333333,
          1234.9266666666665,
          1285.1833333333334,
          1283.6333333333332,
          1305.4399999999998,
          1398.9533333333336,
          1421.97,
          1505.4466666666667,
          1485.3366666666668,
          1499.6266666666668,
          1343.96,
          1355.3233333333335,
          1238.8566666666666,
          922.7466666666666,
          786.2800000000001,
          903.7566666666668,
          1021.7266666666666,
          1082.3066666666666,
          1115.93,
          1102.2700000000002,
          1097.3766666666668,
          1207.15,
          1313.0566666666666,
          1343.15,
          1214.1966666666667,
          1252.62,
          1362.1866666666667,
          1356.8,
          1408.8566666666666,
          1418.176666666667,
          1527.3266666666666,
          1611.53,
          1666.75,
          1803.57,
          1838.1266666666668,
          1922.5833333333333,
          1968.7766666666664,
          2048.17,
          2055.793333333333,
          2085.3366666666666,
          1998.6833333333332,
          2067.903333333333,
          1977.4033333333332,
          2087.0400000000004,
          2170.94,
          2187.93,
          2335.0766666666664,
          2406.47,
          2487.103333333333,
          2632.15,
          2726.17,
          2690.563333333333,
          2877.263333333334,
          2659.5866666666666,
          2774.33,
          2879.883333333333,
          2961.193333333333,
          3136.44,
          2921.443333333333,
          3019.01,
          3378.143333333333,
          3549.22,
          3832.76,
          4227.593333333333
         ]
        },
        {
         "error_y": {
          "array": [
           [
            34.7850997513129
           ],
           [
            11.859879495933278
           ],
           [
            -40.301363775953405
           ],
           [
            31.87698544976655
           ],
           [
            0.5297451133045605
           ],
           [
            -135.50356117639194
           ],
           [
            5.814847411660104
           ],
           [
            63.436794639578864
           ],
           [
            56.36107733059566
           ],
           [
            -75.25667278183118
           ],
           [
            -10.08975117790311
           ],
           [
            0.7862867807483553
           ],
           [
            -257.5726258014902
           ],
           [
            6.306144907401006
           ],
           [
            -67.01173646353459
           ],
           [
            -99.87900089758546
           ],
           [
            -52.12879515872862
           ],
           [
            2.2628377240332895
           ],
           [
            3.6187386670119395
           ],
           [
            149.69352199416903
           ],
           [
            182.88493240647495
           ],
           [
            -21.78937464610219
           ],
           [
            -15.636043263441053
           ],
           [
            3.6373715119457586
           ],
           [
            -3.8971792833459915
           ],
           [
            7.001558777933255
           ],
           [
            17.974759530272365
           ],
           [
            -16.249850624368037
           ],
           [
            -5.6570351152258525
           ],
           [
            -1.277299512510936
           ],
           [
            10.71154723495249
           ],
           [
            -70.47044116981147
           ],
           [
            -2.1053973867072955
           ],
           [
            -12.961309400900745
           ],
           [
            34.798902092502175
           ],
           [
            114.01680311332188
           ],
           [
            -8.78259355894761
           ],
           [
            -9.620303609805134
           ],
           [
            -8.468482590678192
           ],
           [
            -14.99139198287898
           ],
           [
            159.982701980784
           ],
           [
            15.441497371160324
           ],
           [
            15.374570383142796
           ],
           [
            -52.20358214236154
           ],
           [
            108.3883922678221
           ],
           [
            7.334272849937022
           ],
           [
            -14.362829891307285
           ],
           [
            2.720283875116479
           ],
           [
            -29.845117385917376
           ],
           [
            96.12393854143602
           ],
           [
            142.00088404630492
           ],
           [
            -54.1903305679391
           ],
           [
            -81.95057592539501
           ],
           [
            39.59595040206818
           ],
           [
            -30.467491453258617
           ],
           [
            -169.38028257746691
           ],
           [
            4.798335222090685
           ],
           [
            4.417618183111756
           ],
           [
            0.5370308261453829
           ],
           [
            -44.70063452496859
           ],
           [
            10.365573863342334
           ],
           [
            32.020141727935425
           ],
           [
            43.972749705576206
           ],
           [
            -35.22594498095532
           ],
           [
            -54.38280001000021
           ],
           [
            -0.3929115008582471
           ],
           [
            -103.10809192500051
           ],
           [
            5.2375430810621
           ],
           [
            -84.16709254265106
           ],
           [
            19.196126804108886
           ],
           [
            -1.3023083643285993
           ]
          ],
          "symmetric": false,
          "type": "data",
          "visible": true
         },
         "mode": "markers",
         "name": "Predicted Price (TEST)",
         "type": "scatter",
         "x": [
          99,
          42,
          253,
          143,
          16,
          252,
          40,
          146,
          231,
          241,
          68,
          176,
          278,
          38,
          246,
          225,
          159,
          18,
          256,
          195,
          267,
          118,
          70,
          128,
          140,
          107,
          162,
          219,
          24,
          51,
          45,
          237,
          150,
          260,
          144,
          254,
          74,
          13,
          9,
          114,
          270,
          89,
          86,
          155,
          172,
          46,
          97,
          167,
          156,
          257,
          242,
          158,
          207,
          170,
          127,
          274,
          19,
          21,
          183,
          149,
          85,
          232,
          145,
          277,
          265,
          1,
          247,
          82,
          244,
          98,
          15
         ],
         "y": [
          56.428233582020425,
          51.56678717073339,
          1843.8713637759533,
          212.69301455023344,
          30.476921553362104,
          1802.253561176392,
          49.5151525883399,
          219.8898720270878,
          1298.9622560027378,
          1282.4066727818313,
          105.12308451123647,
          464.7003798859183,
          3179.0159591348233,
          49.38385509259899,
          1429.1984031302013,
          1498.832334230919,
          402.1454618253953,
          34.39382894263338,
          1965.1579279996545,
          1186.8831446724976,
          2223.585067593525,
          131.75937464610217,
          106.23604326344105,
          112.03596182138756,
          191.107179283346,
          91.34510788873342,
          344.09857380306096,
          1196.1431839577012,
          53.07370178189251,
          71.26729951251093,
          59.78511943171418,
          1152.777107836478,
          263.3653973867073,
          2011.644642734234,
          205.32443124083113,
          1724.109863553345,
          109.66592689228094,
          34.32363694313847,
          34.05181592401152,
          114.25805864954566,
          2566.187298019216,
          99.99183596217301,
          90.52876295019053,
          368.2502488090282,
          348.4849410655112,
          62.11572715006298,
          85.17282989130729,
          410.0930494582168,
          378.73845071925064,
          1952.046061458564,
          1171.0557826203617,
          387.82699723460576,
          1126.5772425920618,
          405.01404959793183,
          143.11082478659193,
          2943.710282577467,
          34.16833144457598,
          40.02571515022157,
          664.1029691738546,
          287.7573011916353,
          86.40442613665766,
          1206.8365249387311,
          201.1505836277571,
          3171.6659449809554,
          2242.31280001,
          20.20957816752491,
          1459.9080919250005,
          92.40912358560456,
          1298.3637592093178,
          61.447206529224445,
          30.188975030995266
         ]
        }
       ],
       "layout": {
        "template": {
         "data": {
          "bar": [
           {
            "error_x": {
             "color": "#2a3f5f"
            },
            "error_y": {
             "color": "#2a3f5f"
            },
            "marker": {
             "line": {
              "color": "#E5ECF6",
              "width": 0.5
             },
             "pattern": {
              "fillmode": "overlay",
              "size": 10,
              "solidity": 0.2
             }
            },
            "type": "bar"
           }
          ],
          "barpolar": [
           {
            "marker": {
             "line": {
              "color": "#E5ECF6",
              "width": 0.5
             },
             "pattern": {
              "fillmode": "overlay",
              "size": 10,
              "solidity": 0.2
             }
            },
            "type": "barpolar"
           }
          ],
          "carpet": [
           {
            "aaxis": {
             "endlinecolor": "#2a3f5f",
             "gridcolor": "white",
             "linecolor": "white",
             "minorgridcolor": "white",
             "startlinecolor": "#2a3f5f"
            },
            "baxis": {
             "endlinecolor": "#2a3f5f",
             "gridcolor": "white",
             "linecolor": "white",
             "minorgridcolor": "white",
             "startlinecolor": "#2a3f5f"
            },
            "type": "carpet"
           }
          ],
          "choropleth": [
           {
            "colorbar": {
             "outlinewidth": 0,
             "ticks": ""
            },
            "type": "choropleth"
           }
          ],
          "contour": [
           {
            "colorbar": {
             "outlinewidth": 0,
             "ticks": ""
            },
            "colorscale": [
             [
              0,
              "#0d0887"
             ],
             [
              0.1111111111111111,
              "#46039f"
             ],
             [
              0.2222222222222222,
              "#7201a8"
             ],
             [
              0.3333333333333333,
              "#9c179e"
             ],
             [
              0.4444444444444444,
              "#bd3786"
             ],
             [
              0.5555555555555556,
              "#d8576b"
             ],
             [
              0.6666666666666666,
              "#ed7953"
             ],
             [
              0.7777777777777778,
              "#fb9f3a"
             ],
             [
              0.8888888888888888,
              "#fdca26"
             ],
             [
              1,
              "#f0f921"
             ]
            ],
            "type": "contour"
           }
          ],
          "contourcarpet": [
           {
            "colorbar": {
             "outlinewidth": 0,
             "ticks": ""
            },
            "type": "contourcarpet"
           }
          ],
          "heatmap": [
           {
            "colorbar": {
             "outlinewidth": 0,
             "ticks": ""
            },
            "colorscale": [
             [
              0,
              "#0d0887"
             ],
             [
              0.1111111111111111,
              "#46039f"
             ],
             [
              0.2222222222222222,
              "#7201a8"
             ],
             [
              0.3333333333333333,
              "#9c179e"
             ],
             [
              0.4444444444444444,
              "#bd3786"
             ],
             [
              0.5555555555555556,
              "#d8576b"
             ],
             [
              0.6666666666666666,
              "#ed7953"
             ],
             [
              0.7777777777777778,
              "#fb9f3a"
             ],
             [
              0.8888888888888888,
              "#fdca26"
             ],
             [
              1,
              "#f0f921"
             ]
            ],
            "type": "heatmap"
           }
          ],
          "heatmapgl": [
           {
            "colorbar": {
             "outlinewidth": 0,
             "ticks": ""
            },
            "colorscale": [
             [
              0,
              "#0d0887"
             ],
             [
              0.1111111111111111,
              "#46039f"
             ],
             [
              0.2222222222222222,
              "#7201a8"
             ],
             [
              0.3333333333333333,
              "#9c179e"
             ],
             [
              0.4444444444444444,
              "#bd3786"
             ],
             [
              0.5555555555555556,
              "#d8576b"
             ],
             [
              0.6666666666666666,
              "#ed7953"
             ],
             [
              0.7777777777777778,
              "#fb9f3a"
             ],
             [
              0.8888888888888888,
              "#fdca26"
             ],
             [
              1,
              "#f0f921"
             ]
            ],
            "type": "heatmapgl"
           }
          ],
          "histogram": [
           {
            "marker": {
             "pattern": {
              "fillmode": "overlay",
              "size": 10,
              "solidity": 0.2
             }
            },
            "type": "histogram"
           }
          ],
          "histogram2d": [
           {
            "colorbar": {
             "outlinewidth": 0,
             "ticks": ""
            },
            "colorscale": [
             [
              0,
              "#0d0887"
             ],
             [
              0.1111111111111111,
              "#46039f"
             ],
             [
              0.2222222222222222,
              "#7201a8"
             ],
             [
              0.3333333333333333,
              "#9c179e"
             ],
             [
              0.4444444444444444,
              "#bd3786"
             ],
             [
              0.5555555555555556,
              "#d8576b"
             ],
             [
              0.6666666666666666,
              "#ed7953"
             ],
             [
              0.7777777777777778,
              "#fb9f3a"
             ],
             [
              0.8888888888888888,
              "#fdca26"
             ],
             [
              1,
              "#f0f921"
             ]
            ],
            "type": "histogram2d"
           }
          ],
          "histogram2dcontour": [
           {
            "colorbar": {
             "outlinewidth": 0,
             "ticks": ""
            },
            "colorscale": [
             [
              0,
              "#0d0887"
             ],
             [
              0.1111111111111111,
              "#46039f"
             ],
             [
              0.2222222222222222,
              "#7201a8"
             ],
             [
              0.3333333333333333,
              "#9c179e"
             ],
             [
              0.4444444444444444,
              "#bd3786"
             ],
             [
              0.5555555555555556,
              "#d8576b"
             ],
             [
              0.6666666666666666,
              "#ed7953"
             ],
             [
              0.7777777777777778,
              "#fb9f3a"
             ],
             [
              0.8888888888888888,
              "#fdca26"
             ],
             [
              1,
              "#f0f921"
             ]
            ],
            "type": "histogram2dcontour"
           }
          ],
          "mesh3d": [
           {
            "colorbar": {
             "outlinewidth": 0,
             "ticks": ""
            },
            "type": "mesh3d"
           }
          ],
          "parcoords": [
           {
            "line": {
             "colorbar": {
              "outlinewidth": 0,
              "ticks": ""
             }
            },
            "type": "parcoords"
           }
          ],
          "pie": [
           {
            "automargin": true,
            "type": "pie"
           }
          ],
          "scatter": [
           {
            "marker": {
             "colorbar": {
              "outlinewidth": 0,
              "ticks": ""
             }
            },
            "type": "scatter"
           }
          ],
          "scatter3d": [
           {
            "line": {
             "colorbar": {
              "outlinewidth": 0,
              "ticks": ""
             }
            },
            "marker": {
             "colorbar": {
              "outlinewidth": 0,
              "ticks": ""
             }
            },
            "type": "scatter3d"
           }
          ],
          "scattercarpet": [
           {
            "marker": {
             "colorbar": {
              "outlinewidth": 0,
              "ticks": ""
             }
            },
            "type": "scattercarpet"
           }
          ],
          "scattergeo": [
           {
            "marker": {
             "colorbar": {
              "outlinewidth": 0,
              "ticks": ""
             }
            },
            "type": "scattergeo"
           }
          ],
          "scattergl": [
           {
            "marker": {
             "colorbar": {
              "outlinewidth": 0,
              "ticks": ""
             }
            },
            "type": "scattergl"
           }
          ],
          "scattermapbox": [
           {
            "marker": {
             "colorbar": {
              "outlinewidth": 0,
              "ticks": ""
             }
            },
            "type": "scattermapbox"
           }
          ],
          "scatterpolar": [
           {
            "marker": {
             "colorbar": {
              "outlinewidth": 0,
              "ticks": ""
             }
            },
            "type": "scatterpolar"
           }
          ],
          "scatterpolargl": [
           {
            "marker": {
             "colorbar": {
              "outlinewidth": 0,
              "ticks": ""
             }
            },
            "type": "scatterpolargl"
           }
          ],
          "scatterternary": [
           {
            "marker": {
             "colorbar": {
              "outlinewidth": 0,
              "ticks": ""
             }
            },
            "type": "scatterternary"
           }
          ],
          "surface": [
           {
            "colorbar": {
             "outlinewidth": 0,
             "ticks": ""
            },
            "colorscale": [
             [
              0,
              "#0d0887"
             ],
             [
              0.1111111111111111,
              "#46039f"
             ],
             [
              0.2222222222222222,
              "#7201a8"
             ],
             [
              0.3333333333333333,
              "#9c179e"
             ],
             [
              0.4444444444444444,
              "#bd3786"
             ],
             [
              0.5555555555555556,
              "#d8576b"
             ],
             [
              0.6666666666666666,
              "#ed7953"
             ],
             [
              0.7777777777777778,
              "#fb9f3a"
             ],
             [
              0.8888888888888888,
              "#fdca26"
             ],
             [
              1,
              "#f0f921"
             ]
            ],
            "type": "surface"
           }
          ],
          "table": [
           {
            "cells": {
             "fill": {
              "color": "#EBF0F8"
             },
             "line": {
              "color": "white"
             }
            },
            "header": {
             "fill": {
              "color": "#C8D4E3"
             },
             "line": {
              "color": "white"
             }
            },
            "type": "table"
           }
          ]
         },
         "layout": {
          "annotationdefaults": {
           "arrowcolor": "#2a3f5f",
           "arrowhead": 0,
           "arrowwidth": 1
          },
          "autotypenumbers": "strict",
          "coloraxis": {
           "colorbar": {
            "outlinewidth": 0,
            "ticks": ""
           }
          },
          "colorscale": {
           "diverging": [
            [
             0,
             "#8e0152"
            ],
            [
             0.1,
             "#c51b7d"
            ],
            [
             0.2,
             "#de77ae"
            ],
            [
             0.3,
             "#f1b6da"
            ],
            [
             0.4,
             "#fde0ef"
            ],
            [
             0.5,
             "#f7f7f7"
            ],
            [
             0.6,
             "#e6f5d0"
            ],
            [
             0.7,
             "#b8e186"
            ],
            [
             0.8,
             "#7fbc41"
            ],
            [
             0.9,
             "#4d9221"
            ],
            [
             1,
             "#276419"
            ]
           ],
           "sequential": [
            [
             0,
             "#0d0887"
            ],
            [
             0.1111111111111111,
             "#46039f"
            ],
            [
             0.2222222222222222,
             "#7201a8"
            ],
            [
             0.3333333333333333,
             "#9c179e"
            ],
            [
             0.4444444444444444,
             "#bd3786"
            ],
            [
             0.5555555555555556,
             "#d8576b"
            ],
            [
             0.6666666666666666,
             "#ed7953"
            ],
            [
             0.7777777777777778,
             "#fb9f3a"
            ],
            [
             0.8888888888888888,
             "#fdca26"
            ],
            [
             1,
             "#f0f921"
            ]
           ],
           "sequentialminus": [
            [
             0,
             "#0d0887"
            ],
            [
             0.1111111111111111,
             "#46039f"
            ],
            [
             0.2222222222222222,
             "#7201a8"
            ],
            [
             0.3333333333333333,
             "#9c179e"
            ],
            [
             0.4444444444444444,
             "#bd3786"
            ],
            [
             0.5555555555555556,
             "#d8576b"
            ],
            [
             0.6666666666666666,
             "#ed7953"
            ],
            [
             0.7777777777777778,
             "#fb9f3a"
            ],
            [
             0.8888888888888888,
             "#fdca26"
            ],
            [
             1,
             "#f0f921"
            ]
           ]
          },
          "colorway": [
           "#636efa",
           "#EF553B",
           "#00cc96",
           "#ab63fa",
           "#FFA15A",
           "#19d3f3",
           "#FF6692",
           "#B6E880",
           "#FF97FF",
           "#FECB52"
          ],
          "font": {
           "color": "#2a3f5f"
          },
          "geo": {
           "bgcolor": "white",
           "lakecolor": "white",
           "landcolor": "#E5ECF6",
           "showlakes": true,
           "showland": true,
           "subunitcolor": "white"
          },
          "hoverlabel": {
           "align": "left"
          },
          "hovermode": "closest",
          "mapbox": {
           "style": "light"
          },
          "paper_bgcolor": "white",
          "plot_bgcolor": "#E5ECF6",
          "polar": {
           "angularaxis": {
            "gridcolor": "white",
            "linecolor": "white",
            "ticks": ""
           },
           "bgcolor": "#E5ECF6",
           "radialaxis": {
            "gridcolor": "white",
            "linecolor": "white",
            "ticks": ""
           }
          },
          "scene": {
           "xaxis": {
            "backgroundcolor": "#E5ECF6",
            "gridcolor": "white",
            "gridwidth": 2,
            "linecolor": "white",
            "showbackground": true,
            "ticks": "",
            "zerolinecolor": "white"
           },
           "yaxis": {
            "backgroundcolor": "#E5ECF6",
            "gridcolor": "white",
            "gridwidth": 2,
            "linecolor": "white",
            "showbackground": true,
            "ticks": "",
            "zerolinecolor": "white"
           },
           "zaxis": {
            "backgroundcolor": "#E5ECF6",
            "gridcolor": "white",
            "gridwidth": 2,
            "linecolor": "white",
            "showbackground": true,
            "ticks": "",
            "zerolinecolor": "white"
           }
          },
          "shapedefaults": {
           "line": {
            "color": "#2a3f5f"
           }
          },
          "ternary": {
           "aaxis": {
            "gridcolor": "white",
            "linecolor": "white",
            "ticks": ""
           },
           "baxis": {
            "gridcolor": "white",
            "linecolor": "white",
            "ticks": ""
           },
           "bgcolor": "#E5ECF6",
           "caxis": {
            "gridcolor": "white",
            "linecolor": "white",
            "ticks": ""
           }
          },
          "title": {
           "x": 0.05
          },
          "xaxis": {
           "automargin": true,
           "gridcolor": "white",
           "linecolor": "white",
           "ticks": "",
           "title": {
            "standoff": 15
           },
           "zerolinecolor": "white",
           "zerolinewidth": 2
          },
          "yaxis": {
           "automargin": true,
           "gridcolor": "white",
           "linecolor": "white",
           "ticks": "",
           "title": {
            "standoff": 15
           },
           "zerolinecolor": "white",
           "zerolinewidth": 2
          }
         }
        },
        "title": {
         "text": "### <b>Median MSE (train)</b> Mean Square Error :4725.4 ###"
        },
        "xaxis": {
         "title": {
          "text": "<b>Date</b>"
         }
        },
        "yaxis": {
         "title": {
          "text": "<b>Price</b>"
         }
        }
       }
      },
      "text/html": [
       "<div>                            <div id=\"2449de05-7c0e-4b27-96aa-7db03fb64b59\" class=\"plotly-graph-div\" style=\"height:525px; width:100%;\"></div>            <script type=\"text/javascript\">                require([\"plotly\"], function(Plotly) {                    window.PLOTLYENV=window.PLOTLYENV || {};                                    if (document.getElementById(\"2449de05-7c0e-4b27-96aa-7db03fb64b59\")) {                    Plotly.newPlot(                        \"2449de05-7c0e-4b27-96aa-7db03fb64b59\",                        [{\"name\":\"Actual Price\",\"x\":[0,1,2,3,4,5,6,7,8,9,10,11,12,13,14,15,16,17,18,19,20,21,22,23,24,25,26,27,28,29,30,31,32,33,34,35,36,37,38,39,40,41,42,43,44,45,46,47,48,49,50,51,52,53,54,55,56,57,58,59,60,61,62,63,64,65,66,67,68,69,70,71,72,73,74,75,76,77,78,79,80,81,82,83,84,85,86,87,88,89,90,91,92,93,94,95,96,97,98,99,100,101,102,103,104,105,106,107,108,109,110,111,112,113,114,115,116,117,118,119,120,121,122,123,124,125,126,127,128,129,130,131,132,133,134,135,136,137,138,139,140,141,142,143,144,145,146,147,148,149,150,151,152,153,154,155,156,157,158,159,160,161,162,163,164,165,166,167,168,169,170,171,172,173,174,175,176,177,178,179,180,181,182,183,184,185,186,187,188,189,190,191,192,193,194,195,196,197,198,199,200,201,202,203,204,205,206,207,208,209,210,211,212,213,214,215,216,217,218,219,220,221,222,223,224,225,226,227,228,229,230,231,232,233,234,235,236,237,238,239,240,241,242,243,244,245,246,247,248,249,250,251,252,253,254,255,256,257,258,259,260,261,262,263,264,265,266,267,268,269,270,271,272,273,274,275,276,277,278,279,280,281,282,283],\"y\":[18.57,19.816666666666663,21.62,21.636666666666667,22.98,23.19666666666667,23.923333333333336,24.046666666666667,24.99,25.58333333333333,25.856666666666666,24.433333333333334,23.80666666666667,24.703333333333333,26.39,28.886666666666667,31.006666666666664,33.96666666666667,36.656666666666666,38.96666666666667,43.45666666666667,44.44333333333333,45.88,46.85,47.41666666666666,45.77666666666666,44.03,46.84666666666666,45.18333333333334,40.92333333333334,41.546666666666674,44.25666666666667,48.333333333333336,53.00666666666666,55.43333333333334,58.24666666666667,58.99666666666667,58.56333333333333,55.69,55.70666666666667,55.330000000000005,55.68,63.42666666666667,65.50333333333333,67.18666666666667,70.49666666666667,69.45,59.873333333333335,57.873333333333335,60.626666666666665,65.68666666666667,69.99,71.11,74.08666666666666,77.94,80.50666666666666,83.06333333333333,84.67666666666666,87.05,87.21666666666665,87.46,92.15333333333336,91.11,87.31,79.08666666666666,80.32666666666667,87.86333333333334,91.24333333333334,95.03333333333336,94.59,90.6,98.57333333333334,99.75666666666666,105.21333333333332,100.88333333333333,101.62,93.48666666666668,94.33,88.05,76.92999999999999,81.29,87.53333333333335,97.64666666666666,100.76,97.65,96.77,105.90333333333332,108.11333333333334,109.67666666666666,115.43333333333334,113.07666666666668,105.39333333333332,106.96666666666664,100.6,95.59,87.86333333333334,71.66666666666667,70.81,80.64333333333333,91.21333333333332,86.5,90.15666666666668,101.11333333333332,102.03333333333336,103.86333333333332,104.15333333333332,100.09,98.34666666666668,97.38333333333333,94.09,88.5,96.53333333333336,102.17,94.65333333333336,99.26666666666668,101.25,107.48333333333332,105.30666666666666,109.96999999999998,110.59,123.17,134.58333333333334,132.27333333333334,132.20333333333335,123.29666666666668,123.59666666666664,115.15666666666668,112.64333333333332,115.67333333333332,137.63,148.77333333333334,164.82,164.34333333333333,164.96,159.88333333333333,154.59333333333333,161.14666666666668,165.63666666666668,180.49,187.07666666666668,187.21,201.09,225.86666666666667,244.57,240.1233333333333,245.1233333333333,283.32666666666665,294.15333333333336,323.43,243.0566666666667,261.26,265.66333333333336,268.4833333333333,276.7966666666667,293.7333333333333,316.0466666666667,348.89333333333326,346.5833333333333,333.63666666666666,350.01666666666665,328.25333333333333,318.81333333333333,362.0733333333333,378.7766666666666,390.3666666666666,394.92,408.39,412.8133333333333,418.68,428.58,444.61,446.97,456.8733333333333,465.3566666666666,464.84,450.56,465.4866666666667,461.77,486.17333333333335,530.9533333333334,569.4499999999999,600.9333333333333,640.65,664.64,659.7566666666667,734.3433333333332,778.0333333333333,844.9200000000001,933.6866666666666,946.8166666666666,1043.79,1112.1366666666663,1031.6533333333334,1163.8433333333337,1268.1133333333337,1336.5766666666666,1310.6133333333337,1407.0833333333333,1419.82,1442.5566666666666,1461.6733333333334,1354.8733333333332,1254.75,1243.3566666666666,1128.3266666666666,1114.99,1128.11,1044.6266666666668,880.9900000000001,900.63,848.3433333333332,951.67,998.0966666666668,1073.61,1134.0933333333337,1122.9399999999998,1106.8466666666666,1171.98,1188.486666666667,1179.8933333333332,1227.7733333333333,1234.9266666666665,1285.1833333333334,1283.6333333333332,1305.4399999999998,1398.9533333333336,1421.97,1505.4466666666667,1485.3366666666668,1499.6266666666668,1343.96,1355.3233333333335,1238.8566666666666,922.7466666666666,786.2800000000001,903.7566666666668,1021.7266666666666,1082.3066666666666,1115.93,1102.2700000000002,1097.3766666666668,1207.15,1313.0566666666666,1343.15,1214.1966666666667,1252.62,1362.1866666666667,1356.8,1408.8566666666666,1418.176666666667,1527.3266666666666,1611.53,1666.75,1803.57,1838.1266666666668,1922.5833333333333,1968.7766666666664,2048.17,2055.793333333333,2085.3366666666666,1998.6833333333332,2067.903333333333,1977.4033333333332,2087.0400000000004,2170.94,2187.93,2335.0766666666664,2406.47,2487.103333333333,2632.15,2726.17,2690.563333333333,2877.263333333334,2659.5866666666666,2774.33,2879.883333333333,2961.193333333333,3136.44,2921.443333333333,3019.01,3378.143333333333,3549.22,3832.76,4227.593333333333],\"type\":\"scatter\"},{\"error_y\":{\"array\":[[34.7850997513129],[11.859879495933278],[-40.301363775953405],[31.87698544976655],[0.5297451133045605],[-135.50356117639194],[5.814847411660104],[63.436794639578864],[56.36107733059566],[-75.25667278183118],[-10.08975117790311],[0.7862867807483553],[-257.5726258014902],[6.306144907401006],[-67.01173646353459],[-99.87900089758546],[-52.12879515872862],[2.2628377240332895],[3.6187386670119395],[149.69352199416903],[182.88493240647495],[-21.78937464610219],[-15.636043263441053],[3.6373715119457586],[-3.8971792833459915],[7.001558777933255],[17.974759530272365],[-16.249850624368037],[-5.6570351152258525],[-1.277299512510936],[10.71154723495249],[-70.47044116981147],[-2.1053973867072955],[-12.961309400900745],[34.798902092502175],[114.01680311332188],[-8.78259355894761],[-9.620303609805134],[-8.468482590678192],[-14.99139198287898],[159.982701980784],[15.441497371160324],[15.374570383142796],[-52.20358214236154],[108.3883922678221],[7.334272849937022],[-14.362829891307285],[2.720283875116479],[-29.845117385917376],[96.12393854143602],[142.00088404630492],[-54.1903305679391],[-81.95057592539501],[39.59595040206818],[-30.467491453258617],[-169.38028257746691],[4.798335222090685],[4.417618183111756],[0.5370308261453829],[-44.70063452496859],[10.365573863342334],[32.020141727935425],[43.972749705576206],[-35.22594498095532],[-54.38280001000021],[-0.3929115008582471],[-103.10809192500051],[5.2375430810621],[-84.16709254265106],[19.196126804108886],[-1.3023083643285993]],\"symmetric\":false,\"type\":\"data\",\"visible\":true},\"mode\":\"markers\",\"name\":\"Predicted Price (TEST)\",\"x\":[99,42,253,143,16,252,40,146,231,241,68,176,278,38,246,225,159,18,256,195,267,118,70,128,140,107,162,219,24,51,45,237,150,260,144,254,74,13,9,114,270,89,86,155,172,46,97,167,156,257,242,158,207,170,127,274,19,21,183,149,85,232,145,277,265,1,247,82,244,98,15],\"y\":[56.428233582020425,51.56678717073339,1843.8713637759533,212.69301455023344,30.476921553362104,1802.253561176392,49.5151525883399,219.8898720270878,1298.9622560027378,1282.4066727818313,105.12308451123647,464.7003798859183,3179.0159591348233,49.38385509259899,1429.1984031302013,1498.832334230919,402.1454618253953,34.39382894263338,1965.1579279996545,1186.8831446724976,2223.585067593525,131.75937464610217,106.23604326344105,112.03596182138756,191.107179283346,91.34510788873342,344.09857380306096,1196.1431839577012,53.07370178189251,71.26729951251093,59.78511943171418,1152.777107836478,263.3653973867073,2011.644642734234,205.32443124083113,1724.109863553345,109.66592689228094,34.32363694313847,34.05181592401152,114.25805864954566,2566.187298019216,99.99183596217301,90.52876295019053,368.2502488090282,348.4849410655112,62.11572715006298,85.17282989130729,410.0930494582168,378.73845071925064,1952.046061458564,1171.0557826203617,387.82699723460576,1126.5772425920618,405.01404959793183,143.11082478659193,2943.710282577467,34.16833144457598,40.02571515022157,664.1029691738546,287.7573011916353,86.40442613665766,1206.8365249387311,201.1505836277571,3171.6659449809554,2242.31280001,20.20957816752491,1459.9080919250005,92.40912358560456,1298.3637592093178,61.447206529224445,30.188975030995266],\"type\":\"scatter\"}],                        {\"template\":{\"data\":{\"bar\":[{\"error_x\":{\"color\":\"#2a3f5f\"},\"error_y\":{\"color\":\"#2a3f5f\"},\"marker\":{\"line\":{\"color\":\"#E5ECF6\",\"width\":0.5},\"pattern\":{\"fillmode\":\"overlay\",\"size\":10,\"solidity\":0.2}},\"type\":\"bar\"}],\"barpolar\":[{\"marker\":{\"line\":{\"color\":\"#E5ECF6\",\"width\":0.5},\"pattern\":{\"fillmode\":\"overlay\",\"size\":10,\"solidity\":0.2}},\"type\":\"barpolar\"}],\"carpet\":[{\"aaxis\":{\"endlinecolor\":\"#2a3f5f\",\"gridcolor\":\"white\",\"linecolor\":\"white\",\"minorgridcolor\":\"white\",\"startlinecolor\":\"#2a3f5f\"},\"baxis\":{\"endlinecolor\":\"#2a3f5f\",\"gridcolor\":\"white\",\"linecolor\":\"white\",\"minorgridcolor\":\"white\",\"startlinecolor\":\"#2a3f5f\"},\"type\":\"carpet\"}],\"choropleth\":[{\"colorbar\":{\"outlinewidth\":0,\"ticks\":\"\"},\"type\":\"choropleth\"}],\"contour\":[{\"colorbar\":{\"outlinewidth\":0,\"ticks\":\"\"},\"colorscale\":[[0.0,\"#0d0887\"],[0.1111111111111111,\"#46039f\"],[0.2222222222222222,\"#7201a8\"],[0.3333333333333333,\"#9c179e\"],[0.4444444444444444,\"#bd3786\"],[0.5555555555555556,\"#d8576b\"],[0.6666666666666666,\"#ed7953\"],[0.7777777777777778,\"#fb9f3a\"],[0.8888888888888888,\"#fdca26\"],[1.0,\"#f0f921\"]],\"type\":\"contour\"}],\"contourcarpet\":[{\"colorbar\":{\"outlinewidth\":0,\"ticks\":\"\"},\"type\":\"contourcarpet\"}],\"heatmap\":[{\"colorbar\":{\"outlinewidth\":0,\"ticks\":\"\"},\"colorscale\":[[0.0,\"#0d0887\"],[0.1111111111111111,\"#46039f\"],[0.2222222222222222,\"#7201a8\"],[0.3333333333333333,\"#9c179e\"],[0.4444444444444444,\"#bd3786\"],[0.5555555555555556,\"#d8576b\"],[0.6666666666666666,\"#ed7953\"],[0.7777777777777778,\"#fb9f3a\"],[0.8888888888888888,\"#fdca26\"],[1.0,\"#f0f921\"]],\"type\":\"heatmap\"}],\"heatmapgl\":[{\"colorbar\":{\"outlinewidth\":0,\"ticks\":\"\"},\"colorscale\":[[0.0,\"#0d0887\"],[0.1111111111111111,\"#46039f\"],[0.2222222222222222,\"#7201a8\"],[0.3333333333333333,\"#9c179e\"],[0.4444444444444444,\"#bd3786\"],[0.5555555555555556,\"#d8576b\"],[0.6666666666666666,\"#ed7953\"],[0.7777777777777778,\"#fb9f3a\"],[0.8888888888888888,\"#fdca26\"],[1.0,\"#f0f921\"]],\"type\":\"heatmapgl\"}],\"histogram\":[{\"marker\":{\"pattern\":{\"fillmode\":\"overlay\",\"size\":10,\"solidity\":0.2}},\"type\":\"histogram\"}],\"histogram2d\":[{\"colorbar\":{\"outlinewidth\":0,\"ticks\":\"\"},\"colorscale\":[[0.0,\"#0d0887\"],[0.1111111111111111,\"#46039f\"],[0.2222222222222222,\"#7201a8\"],[0.3333333333333333,\"#9c179e\"],[0.4444444444444444,\"#bd3786\"],[0.5555555555555556,\"#d8576b\"],[0.6666666666666666,\"#ed7953\"],[0.7777777777777778,\"#fb9f3a\"],[0.8888888888888888,\"#fdca26\"],[1.0,\"#f0f921\"]],\"type\":\"histogram2d\"}],\"histogram2dcontour\":[{\"colorbar\":{\"outlinewidth\":0,\"ticks\":\"\"},\"colorscale\":[[0.0,\"#0d0887\"],[0.1111111111111111,\"#46039f\"],[0.2222222222222222,\"#7201a8\"],[0.3333333333333333,\"#9c179e\"],[0.4444444444444444,\"#bd3786\"],[0.5555555555555556,\"#d8576b\"],[0.6666666666666666,\"#ed7953\"],[0.7777777777777778,\"#fb9f3a\"],[0.8888888888888888,\"#fdca26\"],[1.0,\"#f0f921\"]],\"type\":\"histogram2dcontour\"}],\"mesh3d\":[{\"colorbar\":{\"outlinewidth\":0,\"ticks\":\"\"},\"type\":\"mesh3d\"}],\"parcoords\":[{\"line\":{\"colorbar\":{\"outlinewidth\":0,\"ticks\":\"\"}},\"type\":\"parcoords\"}],\"pie\":[{\"automargin\":true,\"type\":\"pie\"}],\"scatter\":[{\"marker\":{\"colorbar\":{\"outlinewidth\":0,\"ticks\":\"\"}},\"type\":\"scatter\"}],\"scatter3d\":[{\"line\":{\"colorbar\":{\"outlinewidth\":0,\"ticks\":\"\"}},\"marker\":{\"colorbar\":{\"outlinewidth\":0,\"ticks\":\"\"}},\"type\":\"scatter3d\"}],\"scattercarpet\":[{\"marker\":{\"colorbar\":{\"outlinewidth\":0,\"ticks\":\"\"}},\"type\":\"scattercarpet\"}],\"scattergeo\":[{\"marker\":{\"colorbar\":{\"outlinewidth\":0,\"ticks\":\"\"}},\"type\":\"scattergeo\"}],\"scattergl\":[{\"marker\":{\"colorbar\":{\"outlinewidth\":0,\"ticks\":\"\"}},\"type\":\"scattergl\"}],\"scattermapbox\":[{\"marker\":{\"colorbar\":{\"outlinewidth\":0,\"ticks\":\"\"}},\"type\":\"scattermapbox\"}],\"scatterpolar\":[{\"marker\":{\"colorbar\":{\"outlinewidth\":0,\"ticks\":\"\"}},\"type\":\"scatterpolar\"}],\"scatterpolargl\":[{\"marker\":{\"colorbar\":{\"outlinewidth\":0,\"ticks\":\"\"}},\"type\":\"scatterpolargl\"}],\"scatterternary\":[{\"marker\":{\"colorbar\":{\"outlinewidth\":0,\"ticks\":\"\"}},\"type\":\"scatterternary\"}],\"surface\":[{\"colorbar\":{\"outlinewidth\":0,\"ticks\":\"\"},\"colorscale\":[[0.0,\"#0d0887\"],[0.1111111111111111,\"#46039f\"],[0.2222222222222222,\"#7201a8\"],[0.3333333333333333,\"#9c179e\"],[0.4444444444444444,\"#bd3786\"],[0.5555555555555556,\"#d8576b\"],[0.6666666666666666,\"#ed7953\"],[0.7777777777777778,\"#fb9f3a\"],[0.8888888888888888,\"#fdca26\"],[1.0,\"#f0f921\"]],\"type\":\"surface\"}],\"table\":[{\"cells\":{\"fill\":{\"color\":\"#EBF0F8\"},\"line\":{\"color\":\"white\"}},\"header\":{\"fill\":{\"color\":\"#C8D4E3\"},\"line\":{\"color\":\"white\"}},\"type\":\"table\"}]},\"layout\":{\"annotationdefaults\":{\"arrowcolor\":\"#2a3f5f\",\"arrowhead\":0,\"arrowwidth\":1},\"autotypenumbers\":\"strict\",\"coloraxis\":{\"colorbar\":{\"outlinewidth\":0,\"ticks\":\"\"}},\"colorscale\":{\"diverging\":[[0,\"#8e0152\"],[0.1,\"#c51b7d\"],[0.2,\"#de77ae\"],[0.3,\"#f1b6da\"],[0.4,\"#fde0ef\"],[0.5,\"#f7f7f7\"],[0.6,\"#e6f5d0\"],[0.7,\"#b8e186\"],[0.8,\"#7fbc41\"],[0.9,\"#4d9221\"],[1,\"#276419\"]],\"sequential\":[[0.0,\"#0d0887\"],[0.1111111111111111,\"#46039f\"],[0.2222222222222222,\"#7201a8\"],[0.3333333333333333,\"#9c179e\"],[0.4444444444444444,\"#bd3786\"],[0.5555555555555556,\"#d8576b\"],[0.6666666666666666,\"#ed7953\"],[0.7777777777777778,\"#fb9f3a\"],[0.8888888888888888,\"#fdca26\"],[1.0,\"#f0f921\"]],\"sequentialminus\":[[0.0,\"#0d0887\"],[0.1111111111111111,\"#46039f\"],[0.2222222222222222,\"#7201a8\"],[0.3333333333333333,\"#9c179e\"],[0.4444444444444444,\"#bd3786\"],[0.5555555555555556,\"#d8576b\"],[0.6666666666666666,\"#ed7953\"],[0.7777777777777778,\"#fb9f3a\"],[0.8888888888888888,\"#fdca26\"],[1.0,\"#f0f921\"]]},\"colorway\":[\"#636efa\",\"#EF553B\",\"#00cc96\",\"#ab63fa\",\"#FFA15A\",\"#19d3f3\",\"#FF6692\",\"#B6E880\",\"#FF97FF\",\"#FECB52\"],\"font\":{\"color\":\"#2a3f5f\"},\"geo\":{\"bgcolor\":\"white\",\"lakecolor\":\"white\",\"landcolor\":\"#E5ECF6\",\"showlakes\":true,\"showland\":true,\"subunitcolor\":\"white\"},\"hoverlabel\":{\"align\":\"left\"},\"hovermode\":\"closest\",\"mapbox\":{\"style\":\"light\"},\"paper_bgcolor\":\"white\",\"plot_bgcolor\":\"#E5ECF6\",\"polar\":{\"angularaxis\":{\"gridcolor\":\"white\",\"linecolor\":\"white\",\"ticks\":\"\"},\"bgcolor\":\"#E5ECF6\",\"radialaxis\":{\"gridcolor\":\"white\",\"linecolor\":\"white\",\"ticks\":\"\"}},\"scene\":{\"xaxis\":{\"backgroundcolor\":\"#E5ECF6\",\"gridcolor\":\"white\",\"gridwidth\":2,\"linecolor\":\"white\",\"showbackground\":true,\"ticks\":\"\",\"zerolinecolor\":\"white\"},\"yaxis\":{\"backgroundcolor\":\"#E5ECF6\",\"gridcolor\":\"white\",\"gridwidth\":2,\"linecolor\":\"white\",\"showbackground\":true,\"ticks\":\"\",\"zerolinecolor\":\"white\"},\"zaxis\":{\"backgroundcolor\":\"#E5ECF6\",\"gridcolor\":\"white\",\"gridwidth\":2,\"linecolor\":\"white\",\"showbackground\":true,\"ticks\":\"\",\"zerolinecolor\":\"white\"}},\"shapedefaults\":{\"line\":{\"color\":\"#2a3f5f\"}},\"ternary\":{\"aaxis\":{\"gridcolor\":\"white\",\"linecolor\":\"white\",\"ticks\":\"\"},\"baxis\":{\"gridcolor\":\"white\",\"linecolor\":\"white\",\"ticks\":\"\"},\"bgcolor\":\"#E5ECF6\",\"caxis\":{\"gridcolor\":\"white\",\"linecolor\":\"white\",\"ticks\":\"\"}},\"title\":{\"x\":0.05},\"xaxis\":{\"automargin\":true,\"gridcolor\":\"white\",\"linecolor\":\"white\",\"ticks\":\"\",\"title\":{\"standoff\":15},\"zerolinecolor\":\"white\",\"zerolinewidth\":2},\"yaxis\":{\"automargin\":true,\"gridcolor\":\"white\",\"linecolor\":\"white\",\"ticks\":\"\",\"title\":{\"standoff\":15},\"zerolinecolor\":\"white\",\"zerolinewidth\":2}}},\"title\":{\"text\":\"### <b>Median MSE (train)</b> Mean Square Error :4725.4 ###\"},\"xaxis\":{\"title\":{\"text\":\"<b>Date</b>\"}},\"yaxis\":{\"title\":{\"text\":\"<b>Price</b>\"}}},                        {\"responsive\": true}                    ).then(function(){\n",
       "                            \n",
       "var gd = document.getElementById('2449de05-7c0e-4b27-96aa-7db03fb64b59');\n",
       "var x = new MutationObserver(function (mutations, observer) {{\n",
       "        var display = window.getComputedStyle(gd).display;\n",
       "        if (!display || display === 'none') {{\n",
       "            console.log([gd, 'removed!']);\n",
       "            Plotly.purge(gd);\n",
       "            observer.disconnect();\n",
       "        }}\n",
       "}});\n",
       "\n",
       "// Listen for the removal of the full notebook cells\n",
       "var notebookContainer = gd.closest('#notebook-container');\n",
       "if (notebookContainer) {{\n",
       "    x.observe(notebookContainer, {childList: true});\n",
       "}}\n",
       "\n",
       "// Listen for the clearing of the current output cell\n",
       "var outputEl = gd.closest('.output');\n",
       "if (outputEl) {{\n",
       "    x.observe(outputEl, {childList: true});\n",
       "}}\n",
       "\n",
       "                        })                };                });            </script>        </div>"
      ]
     },
     "metadata": {},
     "output_type": "display_data"
    },
    {
     "data": {
      "text/plain": [
       "array([[ 0.00000000e+00, -2.95172046e+00,  2.51244273e+01,\n",
       "        -2.40731433e+01,  2.74803672e+01,  9.56141748e-06,\n",
       "         7.41735814e-04, -4.59552721e-03,  4.21227914e-03,\n",
       "        -3.07246285e-03, -1.27092167e-03,  1.28371057e-02,\n",
       "        -1.27146592e-02,  3.90385024e-02, -2.31291458e-03,\n",
       "         5.04047692e-04, -6.74394414e-02,  2.21475307e-03,\n",
       "         4.37620280e-02, -3.93878284e-04]])"
      ]
     },
     "metadata": {},
     "output_type": "display_data"
    },
    {
     "data": {
      "text/plain": [
       "array([105.73725074])"
      ]
     },
     "metadata": {},
     "output_type": "display_data"
    }
   ],
   "source": [
    "y = pd.DataFrame(df_full['CloseNext'])\n",
    "X = pd.DataFrame(df_full[['real_gdp', 'consumer_spending', 'gnp', 'gdp', 'private_domestic_investment']])\n",
    "\n",
    "# Find best train-test-split based on median MSE test\n",
    "med = 0\n",
    "state = 0\n",
    "med = res_df2.describe().loc['50%'].at['MSE train']\n",
    "state = res_df2['MSE train'].sub(med).abs().idxmin()\n",
    "\n",
    "print(f'random_state = {state}')\n",
    "X_train, X_test, y_train, y_test = train_test_split(X, y, test_size=0.25, random_state=state)\n",
    "\n",
    "poly = PolynomialFeatures(degree=2)\n",
    "poly_reg = LinearRegression()\n",
    "\n",
    "# train model\n",
    "X_ = poly.fit_transform(X_train)\n",
    "X_ = np.delete(X_,(1),axis=1)\n",
    "poly_reg.fit(X_, y_train)\n",
    "y_pred = poly_reg.predict(X_)\n",
    "# test model\n",
    "X_2 = poly.fit_transform(X_test)\n",
    "X_2 = np.delete(X_2,(1),axis=1)\n",
    "y_pred2 = poly_reg.predict(X_2)\n",
    "# whole model (train+test)\n",
    "X_3 = poly.fit_transform(X)\n",
    "X_3 = np.delete(X_3,(1),axis=1)\n",
    "y_pred3 = poly_reg.predict(X_3)\n",
    "\n",
    "print(f'Explained Variance: {poly_reg.score(X_, y_train)}')\n",
    "print(f'Train Set MSE: {mse(y_train, y_pred)}')\n",
    "print(f'Test Set MSE: {mse(y_test, y_pred2)}')\n",
    "\n",
    "fig = go.Figure()\n",
    "\n",
    "fig.add_trace(go.Scatter(x=df_full.index, y=y['CloseNext'], name=\"Actual Price\"))\n",
    "\n",
    "#fig.add_trace(go.Scatter(x=y.index, y=pd.Series(np.squeeze(y_pred3)), name=\"Predicted Price (TRAIN + TEST)\"))\n",
    "\n",
    "error = np.array(y_test) - np.array(y_pred2)\n",
    "fig.add_trace(go.Scatter(\n",
    "        x=y_test.index, y=pd.Series(np.squeeze(y_pred2)),\n",
    "        error_y=dict(\n",
    "            type='data',\n",
    "            symmetric=False,\n",
    "            array=error,\n",
    "            visible=True),\n",
    "        mode='markers',\n",
    "        name=\"Predicted Price (TEST)\"))\n",
    "\n",
    "fig.update_layout(\n",
    "    title_text='### <b>Median MSE (train)</b> Mean Square Error :' + str(mse(y_test, y_pred2).round(2)) + ' ###'\n",
    ")\n",
    "res2 = mse(y_test, y_pred2)\n",
    "\n",
    "fig.update_xaxes(title_text=\"<b>Date</b>\")\n",
    "fig.update_yaxes(title_text=\"<b>Price</b>\")\n",
    "\n",
    "fig.show()\n",
    "\n",
    "display(poly_reg.coef_)\n",
    "display(poly_reg.intercept_)"
   ]
  },
  {
   "cell_type": "markdown",
   "metadata": {},
   "source": [
    "## Histogram of MSEs (LSTM vs Regression)"
   ]
  },
  {
   "cell_type": "code",
   "execution_count": 14,
   "metadata": {},
   "outputs": [
    {
     "data": {
      "application/vnd.plotly.v1+json": {
       "config": {
        "plotlyServerURL": "https://plot.ly"
       },
       "data": [
        {
         "name": "Regression MSEs",
         "opacity": 0.75,
         "type": "histogram",
         "x": [
          5601.987580274045,
          4527.341277476276,
          3478.071380818697,
          3109.400641962291,
          5141.723796925004,
          5379.139909761051,
          5573.90662502343,
          4151.244770180802,
          4737.181888459343,
          4549.014032981395,
          6568.297211638268,
          4164.284803813317,
          7909.20491763248,
          7725.869871216722,
          4517.046761948102,
          7855.5718137812355,
          7280.45350686161,
          4471.8289876383415,
          4508.384936601875,
          2778.1641638295955,
          4836.655798414973,
          4308.950829797895,
          6502.8664021029535,
          3053.1398430225963,
          5344.492566823605,
          5153.217921960305,
          6528.212979895389,
          5258.709246593406,
          8428.910410094992,
          3466.820961981806,
          5102.825744138911,
          7456.357377976292,
          4730.618444886158,
          4158.551640983165,
          4080.458105698012,
          7579.904161624573,
          8819.880405085734,
          6081.262688279418,
          5444.329053728176,
          4999.374691237553,
          5277.099062099073,
          4944.968164372522,
          3336.675458504657,
          5412.947003797374,
          4895.4047896595,
          5731.698612959103,
          2925.760972126376,
          3808.8123736977495,
          7241.770645516848,
          4121.714788711692,
          9006.221249154532,
          5406.831364200774,
          2699.7155823122603,
          8979.069793900895,
          4205.946247409107,
          7367.560404611769,
          5969.839969357757,
          9332.935392203815,
          5869.696000666648,
          7090.531046546495,
          2766.839952275923,
          7293.422278816933,
          4127.113123751059,
          6211.81985008669,
          3918.950320795792,
          8581.865637702662,
          9631.19806648553,
          4319.635470942372,
          5094.107568237192,
          5638.023340573197,
          5077.727994422233,
          7569.443028493137,
          5671.623902649114,
          3585.0833773155914,
          5690.972819112102,
          5326.738330057344,
          3142.29761894308,
          5383.526482438268,
          5315.376850472679,
          6039.2915633251805,
          2804.3102281924043,
          5819.716779933791,
          4992.19919301777,
          3535.1487206709603,
          4361.867577577559,
          4450.654910684648,
          4202.710006441517,
          7577.716003231027,
          4413.427063287498,
          6101.454960592928,
          8168.255916068622,
          7049.066820452505,
          6918.300323029487,
          4426.216485946839,
          2765.224951999701,
          3873.83547157896,
          6553.051976753802,
          3713.564209269589,
          6835.664278175421,
          4167.971779684342,
          4713.850204361759,
          5347.505475196402,
          3581.468660947226,
          7302.797220420577,
          9472.29872659776,
          3834.98682130386,
          6926.520419676909,
          5617.755625714713,
          6374.42346450269,
          3682.706534861967,
          5347.68730369251,
          6017.333463204363,
          6383.485614878156,
          5617.852906862858,
          3984.545307331698,
          4583.6597575242295,
          7417.58384912439,
          8336.554305978749,
          5141.795051001247,
          2241.9051621611297,
          5565.326005901577,
          7754.977801868449,
          5229.747542276014,
          4899.537424585446,
          4436.587348794814,
          4953.058647355089,
          3246.4418107204424,
          4216.903426162282,
          4437.459149289689,
          6265.971677125565,
          6266.722239599617,
          7701.432631281911,
          3552.164680886384,
          6440.824827183748,
          4225.930251391097,
          5505.5833075369965,
          5102.926768119069,
          5907.116085197668,
          5782.681827006203,
          5230.236708774925,
          4094.528235212092,
          10179.112048751664,
          4752.5692867431135,
          5322.707473230604,
          5058.422395015668,
          3268.619068533471,
          5398.529144402647,
          8533.261733346078,
          4881.772108496468,
          8774.975493337995,
          4587.433571711238,
          4429.877332948379,
          9087.245474942158,
          7728.244168962364,
          4132.5284506598455,
          5453.648088119564,
          8690.548853721442,
          4036.685177584193,
          7851.129671642439,
          4338.504054551574,
          5162.097610487532,
          5049.749118579708,
          4850.3484015366985,
          5083.3984835417,
          4709.982794465538,
          3261.9735964945016,
          9427.13621291126,
          4273.9701843511375,
          2878.2620518602275,
          7354.501770594086,
          5340.506176321437,
          3740.21909903821,
          5513.681315049673,
          8217.22770043771,
          6152.747125910082,
          4296.357712948358,
          7157.069522404871,
          4122.773682486571,
          6666.608597684465,
          4967.477654687724,
          5780.098729867488,
          2561.2321163576084,
          10517.531852717802,
          3575.099612310197,
          9495.410615455525,
          6398.299622354096,
          4883.444589225205,
          3537.105156860194,
          6912.297604004627,
          4873.528505126663,
          5491.02708653876,
          6843.405930726623,
          6591.35446599397,
          8510.2108693156,
          7074.893838339755,
          5420.673293392192,
          3502.8498726864577,
          2239.229532122435,
          6441.008980961448,
          4417.315548438525,
          3255.777284174968,
          2980.552045825541,
          3853.642648847893,
          5408.602983058765,
          3334.49434153025,
          5404.870974058613,
          5183.945017645261,
          6454.626386102575,
          3806.742304482128,
          5371.609657036056,
          5173.579818584691,
          8474.746087746007,
          4773.222160965183,
          3990.20468348414,
          3713.030008127696,
          4401.032034814896,
          5346.923480625438,
          5504.091501729808,
          8069.10445263677,
          5597.90193271129,
          5007.367001015315,
          8226.95425588953,
          4882.233441596367,
          8317.002194350496,
          3306.86255769108,
          4906.549584059331,
          3114.013606932885,
          4979.682483121854,
          5822.408062118323,
          5078.3902315377145,
          4861.735996134888,
          5144.25508380433,
          3513.3703837591715,
          6039.10051626764,
          3988.0604115250057,
          4653.723016893137,
          5702.854350950843,
          5258.130528777799,
          3844.665736526242,
          6069.649022570481,
          4229.146290914194,
          4241.374548441394,
          4454.148085280317,
          6641.063750992842,
          5409.65319782899,
          3186.280267783755,
          3923.812899721755,
          5301.747695740449,
          4678.694201105268,
          8743.319462693333,
          5393.059502586856,
          5213.287427079253,
          3401.411263146193,
          4557.796082915225,
          7095.4945079324025,
          8561.688620385215,
          5541.824719358856,
          10436.006144229415,
          4574.711982924343,
          4457.210605593471,
          4301.661925319116,
          7850.058675365142,
          5241.870005558355,
          5629.083797709709,
          3930.220002303646,
          4894.949958699307,
          4761.915172166545,
          9040.086041645773,
          5914.614231578379,
          5575.507389571153,
          4989.034042845017,
          5744.571467987737,
          3886.454369893292,
          4257.549270793773,
          1950.4524112212607,
          5703.448554961796,
          3997.491187565802,
          9589.118946720448,
          3882.263073873459,
          4553.358241156792,
          3118.7305343684025,
          6119.666840327029,
          3374.5216108159125,
          2898.1866339002104,
          7169.314590836297,
          3517.58031173626,
          9048.06642184848,
          4637.855053885548,
          7349.768123152768,
          4487.14833203488,
          3512.8163046199365,
          4873.033893910517,
          4694.477041647678,
          6459.676333374839,
          3884.219171824536,
          5503.807106964075,
          5628.636245219788,
          7536.28583550452,
          5020.802339090687,
          3778.739270037589,
          5425.286894924335,
          7309.335894750578,
          3703.8181696135007,
          3085.1815457211687,
          5445.191749758469,
          4804.338088350794,
          6117.4453505217725,
          4614.326404262397,
          5044.5400283152585,
          8876.400607785521,
          6029.250508039695,
          3083.263811316433,
          9923.191842579745,
          7183.673544760685,
          4737.957922969335,
          5446.52398093051,
          5703.357301513643,
          5030.676228558429,
          5232.79608777444,
          4486.407710477132,
          7171.005148567779,
          6501.066412372864,
          7393.395429303263,
          3879.8786159938218,
          6660.826607043651,
          4209.852248439021,
          4186.244069634693,
          4595.538394805988,
          3579.9781139217616,
          5299.3889161601455,
          4588.917761737968,
          4705.239824992416,
          8053.717713091716,
          4007.391811747987,
          3603.7757186153376,
          2863.9641852038258,
          6293.072654396957,
          7149.996862994629,
          4617.665161242561,
          5055.931332188759,
          9324.74036865205,
          5296.577720475213,
          5058.493790494289,
          4107.871118482426,
          4201.146028164255,
          6634.3683833208,
          2552.9502650510094,
          5376.251032514672,
          7557.573180470611,
          5603.454295171069,
          6408.784917912465,
          4352.876030311591,
          5406.020848582703,
          3474.296508720106,
          5578.058487731088,
          3493.82053427352,
          3941.762324500888,
          3986.54724913478,
          8216.237638881328,
          4313.686952677721,
          2885.90975860147,
          4526.639065960274,
          5171.917129203451,
          9624.004267339666,
          3809.381447557343,
          4555.995737700042,
          4223.734915579008,
          4164.925016289161,
          9657.28726669136,
          7617.522338689816,
          7472.82883252161,
          4607.002907019439,
          4817.119863700569,
          3790.285535640838,
          4778.007343778731,
          4814.620890541761,
          5970.230306651416,
          6734.222487017796,
          5759.972820890016,
          4721.38012132012,
          5207.691599957428,
          6723.704372510155,
          3992.23167652984,
          9159.637130676743,
          4666.330315817552,
          4133.853336082049,
          5783.003031372627,
          3868.841479658426,
          4298.194194416339,
          3839.442946841477,
          4090.411143895124,
          5687.024625111943,
          9502.782388955862,
          5753.024708759164,
          9036.60419995844,
          8723.925216583439,
          3846.720125327277,
          9100.621674608896,
          7259.261208808647,
          9444.841889276491,
          5310.987611758253,
          5038.827431130957,
          5718.122928152274,
          6429.29060393529,
          6489.274303342613,
          3264.6451669537614,
          4681.897687580198,
          7609.791072320741,
          4187.4395843401935,
          4825.18775849796,
          5782.565519045125,
          5537.846282344601,
          4654.521841461177,
          3698.345244822418,
          4631.432364608638,
          3743.248086663132,
          3261.892824286104,
          3934.6310050878,
          8528.182371971003,
          4475.360431139544,
          5161.318990283876,
          6482.381504319043,
          5419.454480538182,
          6000.40103818483,
          4013.411054878991,
          3698.178259346124,
          5278.544605471259,
          4361.582633475863,
          6346.742493647906,
          5486.780585282797,
          3132.298219330163,
          8625.504387252877,
          9594.832891928769,
          4681.304287036053,
          6417.319446758556,
          3270.181876022895,
          4683.0431543250415,
          4725.39673011144,
          5373.850032732233,
          4374.836176381376,
          3964.8134262471895,
          4940.682039242739,
          3291.880563469704,
          4908.346429651391,
          3479.159125017474,
          5456.121761732432,
          4019.784422405552,
          5944.43202256505,
          6133.857371260591,
          9619.56490593408,
          4813.60708344243,
          6562.622838543571,
          3810.985290302429,
          5293.514591800747,
          6865.795102761535,
          4917.965547533989,
          5731.497312893094,
          4902.427268655942,
          5080.775061161214,
          4807.070617252161,
          5861.278710673388,
          5318.11049409403,
          6983.232465534648,
          5042.10365230582,
          3559.233324588919,
          4285.323971796721,
          5363.084818927462,
          6033.964808106694,
          3845.7263439809935,
          7697.849439657269,
          7236.731509084314,
          3638.838324115225,
          6648.752180844882,
          3994.785639016141,
          4480.423471520336,
          4924.531023701849,
          2766.7936755844926,
          5256.3773087678055,
          6151.239055599511,
          4312.594027036261,
          4699.499423389631,
          4822.181611572663,
          7278.65107240695,
          4731.244781655814,
          10116.243912655947,
          5053.191239191408,
          4674.465281620653,
          4604.148937400714,
          5927.535022852339,
          7743.744048382356,
          3895.1290709707537,
          6912.442102564337,
          6268.966018051633,
          4026.735537159355,
          5242.223925854351,
          6762.343444227918,
          6372.30702309101,
          5180.670938576958,
          5853.042425506901,
          4574.375131572186,
          3950.260696925762,
          7883.259272464576,
          3090.475584611685,
          4692.161968210857,
          3957.018375405525,
          7712.016471406133,
          5111.79056433261,
          3766.1363033345615,
          4435.033056886688,
          4829.957343053916,
          3707.139558255697,
          5977.289084289008,
          7500.897809161831,
          6426.250517928114,
          5962.016917637854,
          4188.2875321448855,
          5015.421624492173,
          6039.84406612619,
          4704.787103459582,
          7879.707286420072,
          4436.10728822352,
          4152.832956809197,
          4437.428129868629,
          3318.0208946863067,
          5214.628709088248,
          4608.559087135421,
          5178.736202826312,
          4880.930785010441,
          3894.029262446613,
          5258.165588041468,
          4221.822049859025,
          5137.736560208416,
          5257.520702410275,
          5640.586935327641,
          3000.4146402347146,
          5162.281009691516,
          3938.6561339198665,
          8837.318394192886,
          4085.554245421096,
          5367.919544590057,
          3274.6668506813417,
          5399.139988405405,
          5438.491315406627,
          4449.418426386107,
          6203.889045769939,
          3722.959448187139,
          5479.001270487033,
          7629.405226296547,
          4682.026000429536,
          5846.423677463005,
          5293.613809359144,
          3971.070221675281,
          4304.380251842366,
          4864.9980543082975,
          4359.643041954118,
          3959.062142684519,
          5718.087093698511,
          4728.0559804537015,
          2700.9141773094057,
          7065.714881108459,
          4631.642091558787,
          4956.959636954368,
          6528.284023005015,
          4848.98548705657,
          4518.99184603046,
          5875.788667092634,
          4485.825363084358,
          5053.037196613387,
          6633.588832560141,
          3831.9467349386823,
          4564.054201674775,
          7700.854699436328,
          5827.527311839974,
          4168.239369016244,
          5987.130290597717,
          6353.603322067202,
          3411.4993887681526,
          9852.137669018122,
          5395.770684295157,
          3662.5066715761154,
          3720.8494605925,
          5296.396811447017,
          5696.771150866805,
          3168.044013606379,
          5690.446299664294,
          4568.718691940216,
          6919.862516369902,
          4535.683602190364,
          4916.304085094855,
          4381.866652420596,
          3289.2041377112428,
          5056.851899673045,
          4056.559095605979,
          3103.9070829885213,
          5054.730707495752,
          6321.583315116953,
          5042.272064850886,
          5317.168545084141,
          8443.757461513696,
          9822.677279030426,
          5894.93724608742,
          3451.8515669162766,
          3959.520991911418,
          3070.991058721969,
          3663.888087799064,
          6333.8879590634815,
          5575.298770999748,
          3073.508775564982,
          6161.912188828384,
          8819.896505887225,
          5321.310674351546,
          5615.124508068768,
          5124.179379175918,
          4579.112776049493,
          5917.24369305179,
          4700.194427890158,
          3647.4403278837194,
          2870.258008213903,
          4130.9299482877705,
          6033.100826546027,
          4369.695193057818,
          7157.493793660214,
          4259.279395170115,
          7929.726677238543,
          5817.039002664852,
          5040.873135825049,
          4831.715196725862,
          8761.91630635814,
          4595.914073072774,
          3337.7134148599,
          2565.0672811052286,
          4784.292682905772,
          2920.7174052192413,
          5892.616494317658,
          5394.56048110465,
          4032.301229590232,
          8770.692940062047,
          3876.336329654828,
          5869.3063163226,
          6746.931279200214,
          3024.639419903862,
          7833.362442449285,
          3762.621342480114,
          6099.87755824455,
          6385.839988812984,
          5040.216965747699,
          4647.390999881413,
          4128.940346928746,
          7329.862696792805,
          5782.288849798441,
          4006.889628112414,
          8385.814910542365,
          4404.364023023858,
          6183.134901875686,
          6309.020501282496,
          6750.824366083582,
          6307.944439559045,
          2045.2463726790709,
          5736.015795745224,
          9140.448236728596,
          7559.269662344777,
          6086.4675421370375,
          5388.095187426024,
          6654.3547256895545,
          6117.008375847534,
          4928.207780078524,
          2928.7174857107666,
          5919.609921981193,
          4805.138189084973,
          8219.758839330896,
          4496.406945943881,
          3168.252628383298,
          4303.923147694409,
          4584.349918677187,
          3162.417664053102,
          4820.146959229251,
          5819.707816135212,
          2988.05586930913,
          6221.50045159852,
          4078.3088040038583,
          3647.600296045873,
          6782.912803556149,
          5353.202168624811,
          3734.184173527912,
          3478.028108073278,
          5408.295346258003,
          7326.904135341776,
          4414.314183858202,
          4979.68001259333,
          2397.871413135429,
          8916.108016503993,
          5732.029421599477,
          4719.377753158715,
          7684.931441098212,
          4474.42195117375,
          5797.122809838927,
          6218.433443141648,
          3063.447893824024,
          3106.1872287384904,
          3831.8447185762047,
          4939.59043448614,
          8076.848850848192,
          5933.678066539819,
          7561.490752543797,
          4463.190729704042,
          5637.734295316838,
          4944.896644729302,
          7146.548956433051,
          5814.89268097027,
          6221.790076865197,
          3270.212555947401,
          5546.434503876303,
          4690.613815085838,
          4723.775263900415,
          3809.711825418039,
          3583.7563900053065,
          10243.291279429272,
          5573.200544880004,
          8379.28052117091,
          6943.545661212535,
          4453.241106215677,
          9922.65735599323,
          6234.199521281334,
          5185.314448892751,
          8781.041374881783,
          4986.413772959289,
          6051.279779311087,
          3754.585196184221,
          5375.1954633524,
          8861.74960044411,
          5977.602113435514,
          3611.992162160009,
          6462.169864473137,
          4125.589882095894,
          9843.458387187882,
          7820.407079479406,
          9743.165834385816,
          4501.938623106978,
          6568.436641231365,
          3465.1254751852275,
          9039.721553628891,
          2667.354322693574,
          4785.166612303347,
          5243.897947991499,
          7882.450784753254,
          3969.937122175662,
          2764.497264629271,
          4106.833204967618,
          2565.7233514613663,
          4490.214836921336,
          4346.495290752745,
          4842.410151279628,
          6807.220645999758,
          4825.90059123371,
          3018.221526138668,
          5753.084642903381,
          4308.651004432786,
          2922.9728830114605,
          4160.054798935071,
          4770.530431382102,
          7055.351335659677,
          9287.537327520582,
          8934.799071982914,
          8708.014593167198,
          10430.676768420057,
          3370.2573858159594,
          5143.268813193762,
          3570.817654143947,
          8791.42108571635,
          6687.394906166329,
          6172.897930715295,
          5362.6394349657,
          6154.7300946672985,
          9535.53255061682,
          7278.164074288226,
          5239.2721517549735,
          3868.483669026732,
          3679.99274317023,
          5793.313619564673,
          4300.004399289513,
          10355.566820428512,
          4202.24178677567,
          4501.0188297443765,
          4531.127921065678,
          9074.130977282628,
          3378.5108668940984,
          6179.646512311782,
          4732.8800539726735,
          2836.121601061027,
          7032.673045938296,
          4638.7423256195325,
          6563.848822800825,
          9854.660127261675,
          3110.2093791935067,
          3157.6256694271906,
          5783.940346615184,
          5315.278647388072,
          5699.67670417594,
          8879.108112904165,
          5016.004867397868,
          3694.280113775364,
          6550.507135803628,
          7245.14236924265,
          2851.669154712359,
          4625.064833663482,
          6247.7717216044375,
          4480.53560049254,
          4095.1884338617,
          5214.058898559052,
          8426.837702646993,
          3970.493300565313,
          5122.542933020611,
          5811.851018996256,
          5055.369964642225,
          4350.606344764452,
          2791.408988982801,
          8224.714166990116,
          3610.709192398072,
          4728.592623701515,
          2909.371904978924,
          6857.0124728828505,
          5501.199882119583,
          6793.652270834014,
          6692.31745691359,
          4835.973530920278,
          5372.72576016898,
          6995.844749777339,
          5333.070889999965,
          6573.815525117574,
          5339.8393781932655,
          4484.946092778372,
          4956.835101813364,
          5304.079295292972,
          9861.50474962459,
          5151.755862405504,
          4692.964125673407,
          5444.224819431845,
          10092.97879593338,
          6291.171495259556,
          4498.29452471872,
          4258.463291182789,
          4515.284538183266,
          5933.94553054496,
          3433.399718042176,
          6438.951627414093,
          5401.028938257525,
          3769.113699584832,
          4932.577424602141,
          6073.331326474935,
          4776.636339586644,
          3320.730370876718,
          6456.498881271888,
          9180.397283050674,
          5788.1131719721725,
          6057.407857191579,
          3962.36659111779,
          5550.935252748953,
          3719.877528431762,
          4959.141068291419,
          8622.878235429018,
          7066.770604413686,
          4572.563428059015,
          7625.683180872876,
          6547.494476846128,
          8372.047379898131,
          8220.622273647963,
          4966.002916006161,
          4121.260918519379,
          3697.375897491943,
          4238.485849083352,
          4828.380289510343,
          5669.529769632909,
          4557.455877697983,
          4332.323074033448,
          5910.567662365007,
          6346.456432125406,
          4568.023994989454,
          5659.679365199708,
          3742.491962555447,
          4305.700715857272,
          5767.93701585716,
          7701.92398291285,
          3986.9984756717386,
          8420.909535730414,
          5590.715520202297,
          4711.772410074717,
          4681.938133790141,
          5460.767552737224,
          10486.161800057758,
          3428.970435076561,
          6033.37741131424,
          3727.8885799290088,
          8347.690714385315,
          4558.866940388867,
          5044.0191847037,
          8707.048476350981,
          8916.113951995845,
          5814.265244547915,
          7012.711035623006,
          3981.233479959592,
          3198.889937233341,
          7865.459953847527,
          3768.414116927904,
          6925.098966925716,
          9663.16286103296,
          5960.910214177659,
          7182.525655417332,
          8489.85949490399,
          6880.869654041164,
          9247.519601595295,
          5208.88132125634,
          4014.449807743536,
          4531.07908600595,
          7462.007173338133,
          9476.931314711766,
          5817.445528462833,
          5190.258124380694,
          5161.115206377069,
          4268.532956790393,
          4400.768573552313,
          3812.822809713504,
          8199.956137451238,
          4209.897917592379,
          3636.3160847229456,
          7534.335239000868
         ]
        },
        {
         "name": "LSTM MSEs",
         "opacity": 0.75,
         "type": "histogram",
         "x": [
          13784.256021179228,
          15787.038723964026,
          10290.518740950614,
          13896.817178121964,
          9242.089766402956,
          11858.908939244113,
          12752.54632349582,
          13776.037066440398,
          13333.109138653384,
          16389.503951752427,
          17438.499119567285,
          13337.388968740286,
          7912.070814587196,
          9423.751059410744,
          14081.548216544044,
          13000.00353700816,
          9315.675885013876
         ],
         "yaxis": "y2"
        }
       ],
       "layout": {
        "barmode": "overlay",
        "template": {
         "data": {
          "bar": [
           {
            "error_x": {
             "color": "#2a3f5f"
            },
            "error_y": {
             "color": "#2a3f5f"
            },
            "marker": {
             "line": {
              "color": "#E5ECF6",
              "width": 0.5
             },
             "pattern": {
              "fillmode": "overlay",
              "size": 10,
              "solidity": 0.2
             }
            },
            "type": "bar"
           }
          ],
          "barpolar": [
           {
            "marker": {
             "line": {
              "color": "#E5ECF6",
              "width": 0.5
             },
             "pattern": {
              "fillmode": "overlay",
              "size": 10,
              "solidity": 0.2
             }
            },
            "type": "barpolar"
           }
          ],
          "carpet": [
           {
            "aaxis": {
             "endlinecolor": "#2a3f5f",
             "gridcolor": "white",
             "linecolor": "white",
             "minorgridcolor": "white",
             "startlinecolor": "#2a3f5f"
            },
            "baxis": {
             "endlinecolor": "#2a3f5f",
             "gridcolor": "white",
             "linecolor": "white",
             "minorgridcolor": "white",
             "startlinecolor": "#2a3f5f"
            },
            "type": "carpet"
           }
          ],
          "choropleth": [
           {
            "colorbar": {
             "outlinewidth": 0,
             "ticks": ""
            },
            "type": "choropleth"
           }
          ],
          "contour": [
           {
            "colorbar": {
             "outlinewidth": 0,
             "ticks": ""
            },
            "colorscale": [
             [
              0,
              "#0d0887"
             ],
             [
              0.1111111111111111,
              "#46039f"
             ],
             [
              0.2222222222222222,
              "#7201a8"
             ],
             [
              0.3333333333333333,
              "#9c179e"
             ],
             [
              0.4444444444444444,
              "#bd3786"
             ],
             [
              0.5555555555555556,
              "#d8576b"
             ],
             [
              0.6666666666666666,
              "#ed7953"
             ],
             [
              0.7777777777777778,
              "#fb9f3a"
             ],
             [
              0.8888888888888888,
              "#fdca26"
             ],
             [
              1,
              "#f0f921"
             ]
            ],
            "type": "contour"
           }
          ],
          "contourcarpet": [
           {
            "colorbar": {
             "outlinewidth": 0,
             "ticks": ""
            },
            "type": "contourcarpet"
           }
          ],
          "heatmap": [
           {
            "colorbar": {
             "outlinewidth": 0,
             "ticks": ""
            },
            "colorscale": [
             [
              0,
              "#0d0887"
             ],
             [
              0.1111111111111111,
              "#46039f"
             ],
             [
              0.2222222222222222,
              "#7201a8"
             ],
             [
              0.3333333333333333,
              "#9c179e"
             ],
             [
              0.4444444444444444,
              "#bd3786"
             ],
             [
              0.5555555555555556,
              "#d8576b"
             ],
             [
              0.6666666666666666,
              "#ed7953"
             ],
             [
              0.7777777777777778,
              "#fb9f3a"
             ],
             [
              0.8888888888888888,
              "#fdca26"
             ],
             [
              1,
              "#f0f921"
             ]
            ],
            "type": "heatmap"
           }
          ],
          "heatmapgl": [
           {
            "colorbar": {
             "outlinewidth": 0,
             "ticks": ""
            },
            "colorscale": [
             [
              0,
              "#0d0887"
             ],
             [
              0.1111111111111111,
              "#46039f"
             ],
             [
              0.2222222222222222,
              "#7201a8"
             ],
             [
              0.3333333333333333,
              "#9c179e"
             ],
             [
              0.4444444444444444,
              "#bd3786"
             ],
             [
              0.5555555555555556,
              "#d8576b"
             ],
             [
              0.6666666666666666,
              "#ed7953"
             ],
             [
              0.7777777777777778,
              "#fb9f3a"
             ],
             [
              0.8888888888888888,
              "#fdca26"
             ],
             [
              1,
              "#f0f921"
             ]
            ],
            "type": "heatmapgl"
           }
          ],
          "histogram": [
           {
            "marker": {
             "pattern": {
              "fillmode": "overlay",
              "size": 10,
              "solidity": 0.2
             }
            },
            "type": "histogram"
           }
          ],
          "histogram2d": [
           {
            "colorbar": {
             "outlinewidth": 0,
             "ticks": ""
            },
            "colorscale": [
             [
              0,
              "#0d0887"
             ],
             [
              0.1111111111111111,
              "#46039f"
             ],
             [
              0.2222222222222222,
              "#7201a8"
             ],
             [
              0.3333333333333333,
              "#9c179e"
             ],
             [
              0.4444444444444444,
              "#bd3786"
             ],
             [
              0.5555555555555556,
              "#d8576b"
             ],
             [
              0.6666666666666666,
              "#ed7953"
             ],
             [
              0.7777777777777778,
              "#fb9f3a"
             ],
             [
              0.8888888888888888,
              "#fdca26"
             ],
             [
              1,
              "#f0f921"
             ]
            ],
            "type": "histogram2d"
           }
          ],
          "histogram2dcontour": [
           {
            "colorbar": {
             "outlinewidth": 0,
             "ticks": ""
            },
            "colorscale": [
             [
              0,
              "#0d0887"
             ],
             [
              0.1111111111111111,
              "#46039f"
             ],
             [
              0.2222222222222222,
              "#7201a8"
             ],
             [
              0.3333333333333333,
              "#9c179e"
             ],
             [
              0.4444444444444444,
              "#bd3786"
             ],
             [
              0.5555555555555556,
              "#d8576b"
             ],
             [
              0.6666666666666666,
              "#ed7953"
             ],
             [
              0.7777777777777778,
              "#fb9f3a"
             ],
             [
              0.8888888888888888,
              "#fdca26"
             ],
             [
              1,
              "#f0f921"
             ]
            ],
            "type": "histogram2dcontour"
           }
          ],
          "mesh3d": [
           {
            "colorbar": {
             "outlinewidth": 0,
             "ticks": ""
            },
            "type": "mesh3d"
           }
          ],
          "parcoords": [
           {
            "line": {
             "colorbar": {
              "outlinewidth": 0,
              "ticks": ""
             }
            },
            "type": "parcoords"
           }
          ],
          "pie": [
           {
            "automargin": true,
            "type": "pie"
           }
          ],
          "scatter": [
           {
            "marker": {
             "colorbar": {
              "outlinewidth": 0,
              "ticks": ""
             }
            },
            "type": "scatter"
           }
          ],
          "scatter3d": [
           {
            "line": {
             "colorbar": {
              "outlinewidth": 0,
              "ticks": ""
             }
            },
            "marker": {
             "colorbar": {
              "outlinewidth": 0,
              "ticks": ""
             }
            },
            "type": "scatter3d"
           }
          ],
          "scattercarpet": [
           {
            "marker": {
             "colorbar": {
              "outlinewidth": 0,
              "ticks": ""
             }
            },
            "type": "scattercarpet"
           }
          ],
          "scattergeo": [
           {
            "marker": {
             "colorbar": {
              "outlinewidth": 0,
              "ticks": ""
             }
            },
            "type": "scattergeo"
           }
          ],
          "scattergl": [
           {
            "marker": {
             "colorbar": {
              "outlinewidth": 0,
              "ticks": ""
             }
            },
            "type": "scattergl"
           }
          ],
          "scattermapbox": [
           {
            "marker": {
             "colorbar": {
              "outlinewidth": 0,
              "ticks": ""
             }
            },
            "type": "scattermapbox"
           }
          ],
          "scatterpolar": [
           {
            "marker": {
             "colorbar": {
              "outlinewidth": 0,
              "ticks": ""
             }
            },
            "type": "scatterpolar"
           }
          ],
          "scatterpolargl": [
           {
            "marker": {
             "colorbar": {
              "outlinewidth": 0,
              "ticks": ""
             }
            },
            "type": "scatterpolargl"
           }
          ],
          "scatterternary": [
           {
            "marker": {
             "colorbar": {
              "outlinewidth": 0,
              "ticks": ""
             }
            },
            "type": "scatterternary"
           }
          ],
          "surface": [
           {
            "colorbar": {
             "outlinewidth": 0,
             "ticks": ""
            },
            "colorscale": [
             [
              0,
              "#0d0887"
             ],
             [
              0.1111111111111111,
              "#46039f"
             ],
             [
              0.2222222222222222,
              "#7201a8"
             ],
             [
              0.3333333333333333,
              "#9c179e"
             ],
             [
              0.4444444444444444,
              "#bd3786"
             ],
             [
              0.5555555555555556,
              "#d8576b"
             ],
             [
              0.6666666666666666,
              "#ed7953"
             ],
             [
              0.7777777777777778,
              "#fb9f3a"
             ],
             [
              0.8888888888888888,
              "#fdca26"
             ],
             [
              1,
              "#f0f921"
             ]
            ],
            "type": "surface"
           }
          ],
          "table": [
           {
            "cells": {
             "fill": {
              "color": "#EBF0F8"
             },
             "line": {
              "color": "white"
             }
            },
            "header": {
             "fill": {
              "color": "#C8D4E3"
             },
             "line": {
              "color": "white"
             }
            },
            "type": "table"
           }
          ]
         },
         "layout": {
          "annotationdefaults": {
           "arrowcolor": "#2a3f5f",
           "arrowhead": 0,
           "arrowwidth": 1
          },
          "autotypenumbers": "strict",
          "coloraxis": {
           "colorbar": {
            "outlinewidth": 0,
            "ticks": ""
           }
          },
          "colorscale": {
           "diverging": [
            [
             0,
             "#8e0152"
            ],
            [
             0.1,
             "#c51b7d"
            ],
            [
             0.2,
             "#de77ae"
            ],
            [
             0.3,
             "#f1b6da"
            ],
            [
             0.4,
             "#fde0ef"
            ],
            [
             0.5,
             "#f7f7f7"
            ],
            [
             0.6,
             "#e6f5d0"
            ],
            [
             0.7,
             "#b8e186"
            ],
            [
             0.8,
             "#7fbc41"
            ],
            [
             0.9,
             "#4d9221"
            ],
            [
             1,
             "#276419"
            ]
           ],
           "sequential": [
            [
             0,
             "#0d0887"
            ],
            [
             0.1111111111111111,
             "#46039f"
            ],
            [
             0.2222222222222222,
             "#7201a8"
            ],
            [
             0.3333333333333333,
             "#9c179e"
            ],
            [
             0.4444444444444444,
             "#bd3786"
            ],
            [
             0.5555555555555556,
             "#d8576b"
            ],
            [
             0.6666666666666666,
             "#ed7953"
            ],
            [
             0.7777777777777778,
             "#fb9f3a"
            ],
            [
             0.8888888888888888,
             "#fdca26"
            ],
            [
             1,
             "#f0f921"
            ]
           ],
           "sequentialminus": [
            [
             0,
             "#0d0887"
            ],
            [
             0.1111111111111111,
             "#46039f"
            ],
            [
             0.2222222222222222,
             "#7201a8"
            ],
            [
             0.3333333333333333,
             "#9c179e"
            ],
            [
             0.4444444444444444,
             "#bd3786"
            ],
            [
             0.5555555555555556,
             "#d8576b"
            ],
            [
             0.6666666666666666,
             "#ed7953"
            ],
            [
             0.7777777777777778,
             "#fb9f3a"
            ],
            [
             0.8888888888888888,
             "#fdca26"
            ],
            [
             1,
             "#f0f921"
            ]
           ]
          },
          "colorway": [
           "#636efa",
           "#EF553B",
           "#00cc96",
           "#ab63fa",
           "#FFA15A",
           "#19d3f3",
           "#FF6692",
           "#B6E880",
           "#FF97FF",
           "#FECB52"
          ],
          "font": {
           "color": "#2a3f5f"
          },
          "geo": {
           "bgcolor": "white",
           "lakecolor": "white",
           "landcolor": "#E5ECF6",
           "showlakes": true,
           "showland": true,
           "subunitcolor": "white"
          },
          "hoverlabel": {
           "align": "left"
          },
          "hovermode": "closest",
          "mapbox": {
           "style": "light"
          },
          "paper_bgcolor": "white",
          "plot_bgcolor": "#E5ECF6",
          "polar": {
           "angularaxis": {
            "gridcolor": "white",
            "linecolor": "white",
            "ticks": ""
           },
           "bgcolor": "#E5ECF6",
           "radialaxis": {
            "gridcolor": "white",
            "linecolor": "white",
            "ticks": ""
           }
          },
          "scene": {
           "xaxis": {
            "backgroundcolor": "#E5ECF6",
            "gridcolor": "white",
            "gridwidth": 2,
            "linecolor": "white",
            "showbackground": true,
            "ticks": "",
            "zerolinecolor": "white"
           },
           "yaxis": {
            "backgroundcolor": "#E5ECF6",
            "gridcolor": "white",
            "gridwidth": 2,
            "linecolor": "white",
            "showbackground": true,
            "ticks": "",
            "zerolinecolor": "white"
           },
           "zaxis": {
            "backgroundcolor": "#E5ECF6",
            "gridcolor": "white",
            "gridwidth": 2,
            "linecolor": "white",
            "showbackground": true,
            "ticks": "",
            "zerolinecolor": "white"
           }
          },
          "shapedefaults": {
           "line": {
            "color": "#2a3f5f"
           }
          },
          "ternary": {
           "aaxis": {
            "gridcolor": "white",
            "linecolor": "white",
            "ticks": ""
           },
           "baxis": {
            "gridcolor": "white",
            "linecolor": "white",
            "ticks": ""
           },
           "bgcolor": "#E5ECF6",
           "caxis": {
            "gridcolor": "white",
            "linecolor": "white",
            "ticks": ""
           }
          },
          "title": {
           "x": 0.05
          },
          "xaxis": {
           "automargin": true,
           "gridcolor": "white",
           "linecolor": "white",
           "ticks": "",
           "title": {
            "standoff": 15
           },
           "zerolinecolor": "white",
           "zerolinewidth": 2
          },
          "yaxis": {
           "automargin": true,
           "gridcolor": "white",
           "linecolor": "white",
           "ticks": "",
           "title": {
            "standoff": 15
           },
           "zerolinecolor": "white",
           "zerolinewidth": 2
          }
         }
        },
        "title": {
         "text": "<b>Histograme of MSEs</b> (Regression vs LSTM)"
        },
        "yaxis": {
         "title": {
          "text": "Count (regression)"
         }
        },
        "yaxis2": {
         "anchor": "x",
         "overlaying": "y",
         "side": "right",
         "title": {
          "text": "Count (LSTM)"
         }
        }
       }
      },
      "text/html": [
       "<div>                            <div id=\"7a392541-01db-42fb-a1c3-2ac9248be2a3\" class=\"plotly-graph-div\" style=\"height:525px; width:100%;\"></div>            <script type=\"text/javascript\">                require([\"plotly\"], function(Plotly) {                    window.PLOTLYENV=window.PLOTLYENV || {};                                    if (document.getElementById(\"7a392541-01db-42fb-a1c3-2ac9248be2a3\")) {                    Plotly.newPlot(                        \"7a392541-01db-42fb-a1c3-2ac9248be2a3\",                        [{\"name\":\"Regression MSEs\",\"x\":[5601.987580274045,4527.341277476276,3478.071380818697,3109.400641962291,5141.723796925004,5379.139909761051,5573.90662502343,4151.244770180802,4737.181888459343,4549.014032981395,6568.297211638268,4164.284803813317,7909.20491763248,7725.869871216722,4517.046761948102,7855.5718137812355,7280.45350686161,4471.8289876383415,4508.384936601875,2778.1641638295955,4836.655798414973,4308.950829797895,6502.8664021029535,3053.1398430225963,5344.492566823605,5153.217921960305,6528.212979895389,5258.709246593406,8428.910410094992,3466.820961981806,5102.825744138911,7456.357377976292,4730.618444886158,4158.551640983165,4080.458105698012,7579.904161624573,8819.880405085734,6081.262688279418,5444.329053728176,4999.374691237553,5277.099062099073,4944.968164372522,3336.675458504657,5412.947003797374,4895.4047896595,5731.698612959103,2925.760972126376,3808.8123736977495,7241.770645516848,4121.714788711692,9006.221249154532,5406.831364200774,2699.7155823122603,8979.069793900895,4205.946247409107,7367.560404611769,5969.839969357757,9332.935392203815,5869.696000666648,7090.531046546495,2766.839952275923,7293.422278816933,4127.113123751059,6211.81985008669,3918.950320795792,8581.865637702662,9631.19806648553,4319.635470942372,5094.107568237192,5638.023340573197,5077.727994422233,7569.443028493137,5671.623902649114,3585.0833773155914,5690.972819112102,5326.738330057344,3142.29761894308,5383.526482438268,5315.376850472679,6039.2915633251805,2804.3102281924043,5819.716779933791,4992.19919301777,3535.1487206709603,4361.867577577559,4450.654910684648,4202.710006441517,7577.716003231027,4413.427063287498,6101.454960592928,8168.255916068622,7049.066820452505,6918.300323029487,4426.216485946839,2765.224951999701,3873.83547157896,6553.051976753802,3713.564209269589,6835.664278175421,4167.971779684342,4713.850204361759,5347.505475196402,3581.468660947226,7302.797220420577,9472.29872659776,3834.98682130386,6926.520419676909,5617.755625714713,6374.42346450269,3682.706534861967,5347.68730369251,6017.333463204363,6383.485614878156,5617.852906862858,3984.545307331698,4583.6597575242295,7417.58384912439,8336.554305978749,5141.795051001247,2241.9051621611297,5565.326005901577,7754.977801868449,5229.747542276014,4899.537424585446,4436.587348794814,4953.058647355089,3246.4418107204424,4216.903426162282,4437.459149289689,6265.971677125565,6266.722239599617,7701.432631281911,3552.164680886384,6440.824827183748,4225.930251391097,5505.5833075369965,5102.926768119069,5907.116085197668,5782.681827006203,5230.236708774925,4094.528235212092,10179.112048751664,4752.5692867431135,5322.707473230604,5058.422395015668,3268.619068533471,5398.529144402647,8533.261733346078,4881.772108496468,8774.975493337995,4587.433571711238,4429.877332948379,9087.245474942158,7728.244168962364,4132.5284506598455,5453.648088119564,8690.548853721442,4036.685177584193,7851.129671642439,4338.504054551574,5162.097610487532,5049.749118579708,4850.3484015366985,5083.3984835417,4709.982794465538,3261.9735964945016,9427.13621291126,4273.9701843511375,2878.2620518602275,7354.501770594086,5340.506176321437,3740.21909903821,5513.681315049673,8217.22770043771,6152.747125910082,4296.357712948358,7157.069522404871,4122.773682486571,6666.608597684465,4967.477654687724,5780.098729867488,2561.2321163576084,10517.531852717802,3575.099612310197,9495.410615455525,6398.299622354096,4883.444589225205,3537.105156860194,6912.297604004627,4873.528505126663,5491.02708653876,6843.405930726623,6591.35446599397,8510.2108693156,7074.893838339755,5420.673293392192,3502.8498726864577,2239.229532122435,6441.008980961448,4417.315548438525,3255.777284174968,2980.552045825541,3853.642648847893,5408.602983058765,3334.49434153025,5404.870974058613,5183.945017645261,6454.626386102575,3806.742304482128,5371.609657036056,5173.579818584691,8474.746087746007,4773.222160965183,3990.20468348414,3713.030008127696,4401.032034814896,5346.923480625438,5504.091501729808,8069.10445263677,5597.90193271129,5007.367001015315,8226.95425588953,4882.233441596367,8317.002194350496,3306.86255769108,4906.549584059331,3114.013606932885,4979.682483121854,5822.408062118323,5078.3902315377145,4861.735996134888,5144.25508380433,3513.3703837591715,6039.10051626764,3988.0604115250057,4653.723016893137,5702.854350950843,5258.130528777799,3844.665736526242,6069.649022570481,4229.146290914194,4241.374548441394,4454.148085280317,6641.063750992842,5409.65319782899,3186.280267783755,3923.812899721755,5301.747695740449,4678.694201105268,8743.319462693333,5393.059502586856,5213.287427079253,3401.411263146193,4557.796082915225,7095.4945079324025,8561.688620385215,5541.824719358856,10436.006144229415,4574.711982924343,4457.210605593471,4301.661925319116,7850.058675365142,5241.870005558355,5629.083797709709,3930.220002303646,4894.949958699307,4761.915172166545,9040.086041645773,5914.614231578379,5575.507389571153,4989.034042845017,5744.571467987737,3886.454369893292,4257.549270793773,1950.4524112212607,5703.448554961796,3997.491187565802,9589.118946720448,3882.263073873459,4553.358241156792,3118.7305343684025,6119.666840327029,3374.5216108159125,2898.1866339002104,7169.314590836297,3517.58031173626,9048.06642184848,4637.855053885548,7349.768123152768,4487.14833203488,3512.8163046199365,4873.033893910517,4694.477041647678,6459.676333374839,3884.219171824536,5503.807106964075,5628.636245219788,7536.28583550452,5020.802339090687,3778.739270037589,5425.286894924335,7309.335894750578,3703.8181696135007,3085.1815457211687,5445.191749758469,4804.338088350794,6117.4453505217725,4614.326404262397,5044.5400283152585,8876.400607785521,6029.250508039695,3083.263811316433,9923.191842579745,7183.673544760685,4737.957922969335,5446.52398093051,5703.357301513643,5030.676228558429,5232.79608777444,4486.407710477132,7171.005148567779,6501.066412372864,7393.395429303263,3879.8786159938218,6660.826607043651,4209.852248439021,4186.244069634693,4595.538394805988,3579.9781139217616,5299.3889161601455,4588.917761737968,4705.239824992416,8053.717713091716,4007.391811747987,3603.7757186153376,2863.9641852038258,6293.072654396957,7149.996862994629,4617.665161242561,5055.931332188759,9324.74036865205,5296.577720475213,5058.493790494289,4107.871118482426,4201.146028164255,6634.3683833208,2552.9502650510094,5376.251032514672,7557.573180470611,5603.454295171069,6408.784917912465,4352.876030311591,5406.020848582703,3474.296508720106,5578.058487731088,3493.82053427352,3941.762324500888,3986.54724913478,8216.237638881328,4313.686952677721,2885.90975860147,4526.639065960274,5171.917129203451,9624.004267339666,3809.381447557343,4555.995737700042,4223.734915579008,4164.925016289161,9657.28726669136,7617.522338689816,7472.82883252161,4607.002907019439,4817.119863700569,3790.285535640838,4778.007343778731,4814.620890541761,5970.230306651416,6734.222487017796,5759.972820890016,4721.38012132012,5207.691599957428,6723.704372510155,3992.23167652984,9159.637130676743,4666.330315817552,4133.853336082049,5783.003031372627,3868.841479658426,4298.194194416339,3839.442946841477,4090.411143895124,5687.024625111943,9502.782388955862,5753.024708759164,9036.60419995844,8723.925216583439,3846.720125327277,9100.621674608896,7259.261208808647,9444.841889276491,5310.987611758253,5038.827431130957,5718.122928152274,6429.29060393529,6489.274303342613,3264.6451669537614,4681.897687580198,7609.791072320741,4187.4395843401935,4825.18775849796,5782.565519045125,5537.846282344601,4654.521841461177,3698.345244822418,4631.432364608638,3743.248086663132,3261.892824286104,3934.6310050878,8528.182371971003,4475.360431139544,5161.318990283876,6482.381504319043,5419.454480538182,6000.40103818483,4013.411054878991,3698.178259346124,5278.544605471259,4361.582633475863,6346.742493647906,5486.780585282797,3132.298219330163,8625.504387252877,9594.832891928769,4681.304287036053,6417.319446758556,3270.181876022895,4683.0431543250415,4725.39673011144,5373.850032732233,4374.836176381376,3964.8134262471895,4940.682039242739,3291.880563469704,4908.346429651391,3479.159125017474,5456.121761732432,4019.784422405552,5944.43202256505,6133.857371260591,9619.56490593408,4813.60708344243,6562.622838543571,3810.985290302429,5293.514591800747,6865.795102761535,4917.965547533989,5731.497312893094,4902.427268655942,5080.775061161214,4807.070617252161,5861.278710673388,5318.11049409403,6983.232465534648,5042.10365230582,3559.233324588919,4285.323971796721,5363.084818927462,6033.964808106694,3845.7263439809935,7697.849439657269,7236.731509084314,3638.838324115225,6648.752180844882,3994.785639016141,4480.423471520336,4924.531023701849,2766.7936755844926,5256.3773087678055,6151.239055599511,4312.594027036261,4699.499423389631,4822.181611572663,7278.65107240695,4731.244781655814,10116.243912655947,5053.191239191408,4674.465281620653,4604.148937400714,5927.535022852339,7743.744048382356,3895.1290709707537,6912.442102564337,6268.966018051633,4026.735537159355,5242.223925854351,6762.343444227918,6372.30702309101,5180.670938576958,5853.042425506901,4574.375131572186,3950.260696925762,7883.259272464576,3090.475584611685,4692.161968210857,3957.018375405525,7712.016471406133,5111.79056433261,3766.1363033345615,4435.033056886688,4829.957343053916,3707.139558255697,5977.289084289008,7500.897809161831,6426.250517928114,5962.016917637854,4188.2875321448855,5015.421624492173,6039.84406612619,4704.787103459582,7879.707286420072,4436.10728822352,4152.832956809197,4437.428129868629,3318.0208946863067,5214.628709088248,4608.559087135421,5178.736202826312,4880.930785010441,3894.029262446613,5258.165588041468,4221.822049859025,5137.736560208416,5257.520702410275,5640.586935327641,3000.4146402347146,5162.281009691516,3938.6561339198665,8837.318394192886,4085.554245421096,5367.919544590057,3274.6668506813417,5399.139988405405,5438.491315406627,4449.418426386107,6203.889045769939,3722.959448187139,5479.001270487033,7629.405226296547,4682.026000429536,5846.423677463005,5293.613809359144,3971.070221675281,4304.380251842366,4864.9980543082975,4359.643041954118,3959.062142684519,5718.087093698511,4728.0559804537015,2700.9141773094057,7065.714881108459,4631.642091558787,4956.959636954368,6528.284023005015,4848.98548705657,4518.99184603046,5875.788667092634,4485.825363084358,5053.037196613387,6633.588832560141,3831.9467349386823,4564.054201674775,7700.854699436328,5827.527311839974,4168.239369016244,5987.130290597717,6353.603322067202,3411.4993887681526,9852.137669018122,5395.770684295157,3662.5066715761154,3720.8494605925,5296.396811447017,5696.771150866805,3168.044013606379,5690.446299664294,4568.718691940216,6919.862516369902,4535.683602190364,4916.304085094855,4381.866652420596,3289.2041377112428,5056.851899673045,4056.559095605979,3103.9070829885213,5054.730707495752,6321.583315116953,5042.272064850886,5317.168545084141,8443.757461513696,9822.677279030426,5894.93724608742,3451.8515669162766,3959.520991911418,3070.991058721969,3663.888087799064,6333.8879590634815,5575.298770999748,3073.508775564982,6161.912188828384,8819.896505887225,5321.310674351546,5615.124508068768,5124.179379175918,4579.112776049493,5917.24369305179,4700.194427890158,3647.4403278837194,2870.258008213903,4130.9299482877705,6033.100826546027,4369.695193057818,7157.493793660214,4259.279395170115,7929.726677238543,5817.039002664852,5040.873135825049,4831.715196725862,8761.91630635814,4595.914073072774,3337.7134148599,2565.0672811052286,4784.292682905772,2920.7174052192413,5892.616494317658,5394.56048110465,4032.301229590232,8770.692940062047,3876.336329654828,5869.3063163226,6746.931279200214,3024.639419903862,7833.362442449285,3762.621342480114,6099.87755824455,6385.839988812984,5040.216965747699,4647.390999881413,4128.940346928746,7329.862696792805,5782.288849798441,4006.889628112414,8385.814910542365,4404.364023023858,6183.134901875686,6309.020501282496,6750.824366083582,6307.944439559045,2045.2463726790709,5736.015795745224,9140.448236728596,7559.269662344777,6086.4675421370375,5388.095187426024,6654.3547256895545,6117.008375847534,4928.207780078524,2928.7174857107666,5919.609921981193,4805.138189084973,8219.758839330896,4496.406945943881,3168.252628383298,4303.923147694409,4584.349918677187,3162.417664053102,4820.146959229251,5819.707816135212,2988.05586930913,6221.50045159852,4078.3088040038583,3647.600296045873,6782.912803556149,5353.202168624811,3734.184173527912,3478.028108073278,5408.295346258003,7326.904135341776,4414.314183858202,4979.68001259333,2397.871413135429,8916.108016503993,5732.029421599477,4719.377753158715,7684.931441098212,4474.42195117375,5797.122809838927,6218.433443141648,3063.447893824024,3106.1872287384904,3831.8447185762047,4939.59043448614,8076.848850848192,5933.678066539819,7561.490752543797,4463.190729704042,5637.734295316838,4944.896644729302,7146.548956433051,5814.89268097027,6221.790076865197,3270.212555947401,5546.434503876303,4690.613815085838,4723.775263900415,3809.711825418039,3583.7563900053065,10243.291279429272,5573.200544880004,8379.28052117091,6943.545661212535,4453.241106215677,9922.65735599323,6234.199521281334,5185.314448892751,8781.041374881783,4986.413772959289,6051.279779311087,3754.585196184221,5375.1954633524,8861.74960044411,5977.602113435514,3611.992162160009,6462.169864473137,4125.589882095894,9843.458387187882,7820.407079479406,9743.165834385816,4501.938623106978,6568.436641231365,3465.1254751852275,9039.721553628891,2667.354322693574,4785.166612303347,5243.897947991499,7882.450784753254,3969.937122175662,2764.497264629271,4106.833204967618,2565.7233514613663,4490.214836921336,4346.495290752745,4842.410151279628,6807.220645999758,4825.90059123371,3018.221526138668,5753.084642903381,4308.651004432786,2922.9728830114605,4160.054798935071,4770.530431382102,7055.351335659677,9287.537327520582,8934.799071982914,8708.014593167198,10430.676768420057,3370.2573858159594,5143.268813193762,3570.817654143947,8791.42108571635,6687.394906166329,6172.897930715295,5362.6394349657,6154.7300946672985,9535.53255061682,7278.164074288226,5239.2721517549735,3868.483669026732,3679.99274317023,5793.313619564673,4300.004399289513,10355.566820428512,4202.24178677567,4501.0188297443765,4531.127921065678,9074.130977282628,3378.5108668940984,6179.646512311782,4732.8800539726735,2836.121601061027,7032.673045938296,4638.7423256195325,6563.848822800825,9854.660127261675,3110.2093791935067,3157.6256694271906,5783.940346615184,5315.278647388072,5699.67670417594,8879.108112904165,5016.004867397868,3694.280113775364,6550.507135803628,7245.14236924265,2851.669154712359,4625.064833663482,6247.7717216044375,4480.53560049254,4095.1884338617,5214.058898559052,8426.837702646993,3970.493300565313,5122.542933020611,5811.851018996256,5055.369964642225,4350.606344764452,2791.408988982801,8224.714166990116,3610.709192398072,4728.592623701515,2909.371904978924,6857.0124728828505,5501.199882119583,6793.652270834014,6692.31745691359,4835.973530920278,5372.72576016898,6995.844749777339,5333.070889999965,6573.815525117574,5339.8393781932655,4484.946092778372,4956.835101813364,5304.079295292972,9861.50474962459,5151.755862405504,4692.964125673407,5444.224819431845,10092.97879593338,6291.171495259556,4498.29452471872,4258.463291182789,4515.284538183266,5933.94553054496,3433.399718042176,6438.951627414093,5401.028938257525,3769.113699584832,4932.577424602141,6073.331326474935,4776.636339586644,3320.730370876718,6456.498881271888,9180.397283050674,5788.1131719721725,6057.407857191579,3962.36659111779,5550.935252748953,3719.877528431762,4959.141068291419,8622.878235429018,7066.770604413686,4572.563428059015,7625.683180872876,6547.494476846128,8372.047379898131,8220.622273647963,4966.002916006161,4121.260918519379,3697.375897491943,4238.485849083352,4828.380289510343,5669.529769632909,4557.455877697983,4332.323074033448,5910.567662365007,6346.456432125406,4568.023994989454,5659.679365199708,3742.491962555447,4305.700715857272,5767.93701585716,7701.92398291285,3986.9984756717386,8420.909535730414,5590.715520202297,4711.772410074717,4681.938133790141,5460.767552737224,10486.161800057758,3428.970435076561,6033.37741131424,3727.8885799290088,8347.690714385315,4558.866940388867,5044.0191847037,8707.048476350981,8916.113951995845,5814.265244547915,7012.711035623006,3981.233479959592,3198.889937233341,7865.459953847527,3768.414116927904,6925.098966925716,9663.16286103296,5960.910214177659,7182.525655417332,8489.85949490399,6880.869654041164,9247.519601595295,5208.88132125634,4014.449807743536,4531.07908600595,7462.007173338133,9476.931314711766,5817.445528462833,5190.258124380694,5161.115206377069,4268.532956790393,4400.768573552313,3812.822809713504,8199.956137451238,4209.897917592379,3636.3160847229456,7534.335239000868],\"type\":\"histogram\",\"opacity\":0.75},{\"name\":\"LSTM MSEs\",\"x\":[13784.256021179228,15787.038723964026,10290.518740950614,13896.817178121964,9242.089766402956,11858.908939244113,12752.54632349582,13776.037066440398,13333.109138653384,16389.503951752427,17438.499119567285,13337.388968740286,7912.070814587196,9423.751059410744,14081.548216544044,13000.00353700816,9315.675885013876],\"yaxis\":\"y2\",\"type\":\"histogram\",\"opacity\":0.75}],                        {\"template\":{\"data\":{\"bar\":[{\"error_x\":{\"color\":\"#2a3f5f\"},\"error_y\":{\"color\":\"#2a3f5f\"},\"marker\":{\"line\":{\"color\":\"#E5ECF6\",\"width\":0.5},\"pattern\":{\"fillmode\":\"overlay\",\"size\":10,\"solidity\":0.2}},\"type\":\"bar\"}],\"barpolar\":[{\"marker\":{\"line\":{\"color\":\"#E5ECF6\",\"width\":0.5},\"pattern\":{\"fillmode\":\"overlay\",\"size\":10,\"solidity\":0.2}},\"type\":\"barpolar\"}],\"carpet\":[{\"aaxis\":{\"endlinecolor\":\"#2a3f5f\",\"gridcolor\":\"white\",\"linecolor\":\"white\",\"minorgridcolor\":\"white\",\"startlinecolor\":\"#2a3f5f\"},\"baxis\":{\"endlinecolor\":\"#2a3f5f\",\"gridcolor\":\"white\",\"linecolor\":\"white\",\"minorgridcolor\":\"white\",\"startlinecolor\":\"#2a3f5f\"},\"type\":\"carpet\"}],\"choropleth\":[{\"colorbar\":{\"outlinewidth\":0,\"ticks\":\"\"},\"type\":\"choropleth\"}],\"contour\":[{\"colorbar\":{\"outlinewidth\":0,\"ticks\":\"\"},\"colorscale\":[[0.0,\"#0d0887\"],[0.1111111111111111,\"#46039f\"],[0.2222222222222222,\"#7201a8\"],[0.3333333333333333,\"#9c179e\"],[0.4444444444444444,\"#bd3786\"],[0.5555555555555556,\"#d8576b\"],[0.6666666666666666,\"#ed7953\"],[0.7777777777777778,\"#fb9f3a\"],[0.8888888888888888,\"#fdca26\"],[1.0,\"#f0f921\"]],\"type\":\"contour\"}],\"contourcarpet\":[{\"colorbar\":{\"outlinewidth\":0,\"ticks\":\"\"},\"type\":\"contourcarpet\"}],\"heatmap\":[{\"colorbar\":{\"outlinewidth\":0,\"ticks\":\"\"},\"colorscale\":[[0.0,\"#0d0887\"],[0.1111111111111111,\"#46039f\"],[0.2222222222222222,\"#7201a8\"],[0.3333333333333333,\"#9c179e\"],[0.4444444444444444,\"#bd3786\"],[0.5555555555555556,\"#d8576b\"],[0.6666666666666666,\"#ed7953\"],[0.7777777777777778,\"#fb9f3a\"],[0.8888888888888888,\"#fdca26\"],[1.0,\"#f0f921\"]],\"type\":\"heatmap\"}],\"heatmapgl\":[{\"colorbar\":{\"outlinewidth\":0,\"ticks\":\"\"},\"colorscale\":[[0.0,\"#0d0887\"],[0.1111111111111111,\"#46039f\"],[0.2222222222222222,\"#7201a8\"],[0.3333333333333333,\"#9c179e\"],[0.4444444444444444,\"#bd3786\"],[0.5555555555555556,\"#d8576b\"],[0.6666666666666666,\"#ed7953\"],[0.7777777777777778,\"#fb9f3a\"],[0.8888888888888888,\"#fdca26\"],[1.0,\"#f0f921\"]],\"type\":\"heatmapgl\"}],\"histogram\":[{\"marker\":{\"pattern\":{\"fillmode\":\"overlay\",\"size\":10,\"solidity\":0.2}},\"type\":\"histogram\"}],\"histogram2d\":[{\"colorbar\":{\"outlinewidth\":0,\"ticks\":\"\"},\"colorscale\":[[0.0,\"#0d0887\"],[0.1111111111111111,\"#46039f\"],[0.2222222222222222,\"#7201a8\"],[0.3333333333333333,\"#9c179e\"],[0.4444444444444444,\"#bd3786\"],[0.5555555555555556,\"#d8576b\"],[0.6666666666666666,\"#ed7953\"],[0.7777777777777778,\"#fb9f3a\"],[0.8888888888888888,\"#fdca26\"],[1.0,\"#f0f921\"]],\"type\":\"histogram2d\"}],\"histogram2dcontour\":[{\"colorbar\":{\"outlinewidth\":0,\"ticks\":\"\"},\"colorscale\":[[0.0,\"#0d0887\"],[0.1111111111111111,\"#46039f\"],[0.2222222222222222,\"#7201a8\"],[0.3333333333333333,\"#9c179e\"],[0.4444444444444444,\"#bd3786\"],[0.5555555555555556,\"#d8576b\"],[0.6666666666666666,\"#ed7953\"],[0.7777777777777778,\"#fb9f3a\"],[0.8888888888888888,\"#fdca26\"],[1.0,\"#f0f921\"]],\"type\":\"histogram2dcontour\"}],\"mesh3d\":[{\"colorbar\":{\"outlinewidth\":0,\"ticks\":\"\"},\"type\":\"mesh3d\"}],\"parcoords\":[{\"line\":{\"colorbar\":{\"outlinewidth\":0,\"ticks\":\"\"}},\"type\":\"parcoords\"}],\"pie\":[{\"automargin\":true,\"type\":\"pie\"}],\"scatter\":[{\"marker\":{\"colorbar\":{\"outlinewidth\":0,\"ticks\":\"\"}},\"type\":\"scatter\"}],\"scatter3d\":[{\"line\":{\"colorbar\":{\"outlinewidth\":0,\"ticks\":\"\"}},\"marker\":{\"colorbar\":{\"outlinewidth\":0,\"ticks\":\"\"}},\"type\":\"scatter3d\"}],\"scattercarpet\":[{\"marker\":{\"colorbar\":{\"outlinewidth\":0,\"ticks\":\"\"}},\"type\":\"scattercarpet\"}],\"scattergeo\":[{\"marker\":{\"colorbar\":{\"outlinewidth\":0,\"ticks\":\"\"}},\"type\":\"scattergeo\"}],\"scattergl\":[{\"marker\":{\"colorbar\":{\"outlinewidth\":0,\"ticks\":\"\"}},\"type\":\"scattergl\"}],\"scattermapbox\":[{\"marker\":{\"colorbar\":{\"outlinewidth\":0,\"ticks\":\"\"}},\"type\":\"scattermapbox\"}],\"scatterpolar\":[{\"marker\":{\"colorbar\":{\"outlinewidth\":0,\"ticks\":\"\"}},\"type\":\"scatterpolar\"}],\"scatterpolargl\":[{\"marker\":{\"colorbar\":{\"outlinewidth\":0,\"ticks\":\"\"}},\"type\":\"scatterpolargl\"}],\"scatterternary\":[{\"marker\":{\"colorbar\":{\"outlinewidth\":0,\"ticks\":\"\"}},\"type\":\"scatterternary\"}],\"surface\":[{\"colorbar\":{\"outlinewidth\":0,\"ticks\":\"\"},\"colorscale\":[[0.0,\"#0d0887\"],[0.1111111111111111,\"#46039f\"],[0.2222222222222222,\"#7201a8\"],[0.3333333333333333,\"#9c179e\"],[0.4444444444444444,\"#bd3786\"],[0.5555555555555556,\"#d8576b\"],[0.6666666666666666,\"#ed7953\"],[0.7777777777777778,\"#fb9f3a\"],[0.8888888888888888,\"#fdca26\"],[1.0,\"#f0f921\"]],\"type\":\"surface\"}],\"table\":[{\"cells\":{\"fill\":{\"color\":\"#EBF0F8\"},\"line\":{\"color\":\"white\"}},\"header\":{\"fill\":{\"color\":\"#C8D4E3\"},\"line\":{\"color\":\"white\"}},\"type\":\"table\"}]},\"layout\":{\"annotationdefaults\":{\"arrowcolor\":\"#2a3f5f\",\"arrowhead\":0,\"arrowwidth\":1},\"autotypenumbers\":\"strict\",\"coloraxis\":{\"colorbar\":{\"outlinewidth\":0,\"ticks\":\"\"}},\"colorscale\":{\"diverging\":[[0,\"#8e0152\"],[0.1,\"#c51b7d\"],[0.2,\"#de77ae\"],[0.3,\"#f1b6da\"],[0.4,\"#fde0ef\"],[0.5,\"#f7f7f7\"],[0.6,\"#e6f5d0\"],[0.7,\"#b8e186\"],[0.8,\"#7fbc41\"],[0.9,\"#4d9221\"],[1,\"#276419\"]],\"sequential\":[[0.0,\"#0d0887\"],[0.1111111111111111,\"#46039f\"],[0.2222222222222222,\"#7201a8\"],[0.3333333333333333,\"#9c179e\"],[0.4444444444444444,\"#bd3786\"],[0.5555555555555556,\"#d8576b\"],[0.6666666666666666,\"#ed7953\"],[0.7777777777777778,\"#fb9f3a\"],[0.8888888888888888,\"#fdca26\"],[1.0,\"#f0f921\"]],\"sequentialminus\":[[0.0,\"#0d0887\"],[0.1111111111111111,\"#46039f\"],[0.2222222222222222,\"#7201a8\"],[0.3333333333333333,\"#9c179e\"],[0.4444444444444444,\"#bd3786\"],[0.5555555555555556,\"#d8576b\"],[0.6666666666666666,\"#ed7953\"],[0.7777777777777778,\"#fb9f3a\"],[0.8888888888888888,\"#fdca26\"],[1.0,\"#f0f921\"]]},\"colorway\":[\"#636efa\",\"#EF553B\",\"#00cc96\",\"#ab63fa\",\"#FFA15A\",\"#19d3f3\",\"#FF6692\",\"#B6E880\",\"#FF97FF\",\"#FECB52\"],\"font\":{\"color\":\"#2a3f5f\"},\"geo\":{\"bgcolor\":\"white\",\"lakecolor\":\"white\",\"landcolor\":\"#E5ECF6\",\"showlakes\":true,\"showland\":true,\"subunitcolor\":\"white\"},\"hoverlabel\":{\"align\":\"left\"},\"hovermode\":\"closest\",\"mapbox\":{\"style\":\"light\"},\"paper_bgcolor\":\"white\",\"plot_bgcolor\":\"#E5ECF6\",\"polar\":{\"angularaxis\":{\"gridcolor\":\"white\",\"linecolor\":\"white\",\"ticks\":\"\"},\"bgcolor\":\"#E5ECF6\",\"radialaxis\":{\"gridcolor\":\"white\",\"linecolor\":\"white\",\"ticks\":\"\"}},\"scene\":{\"xaxis\":{\"backgroundcolor\":\"#E5ECF6\",\"gridcolor\":\"white\",\"gridwidth\":2,\"linecolor\":\"white\",\"showbackground\":true,\"ticks\":\"\",\"zerolinecolor\":\"white\"},\"yaxis\":{\"backgroundcolor\":\"#E5ECF6\",\"gridcolor\":\"white\",\"gridwidth\":2,\"linecolor\":\"white\",\"showbackground\":true,\"ticks\":\"\",\"zerolinecolor\":\"white\"},\"zaxis\":{\"backgroundcolor\":\"#E5ECF6\",\"gridcolor\":\"white\",\"gridwidth\":2,\"linecolor\":\"white\",\"showbackground\":true,\"ticks\":\"\",\"zerolinecolor\":\"white\"}},\"shapedefaults\":{\"line\":{\"color\":\"#2a3f5f\"}},\"ternary\":{\"aaxis\":{\"gridcolor\":\"white\",\"linecolor\":\"white\",\"ticks\":\"\"},\"baxis\":{\"gridcolor\":\"white\",\"linecolor\":\"white\",\"ticks\":\"\"},\"bgcolor\":\"#E5ECF6\",\"caxis\":{\"gridcolor\":\"white\",\"linecolor\":\"white\",\"ticks\":\"\"}},\"title\":{\"x\":0.05},\"xaxis\":{\"automargin\":true,\"gridcolor\":\"white\",\"linecolor\":\"white\",\"ticks\":\"\",\"title\":{\"standoff\":15},\"zerolinecolor\":\"white\",\"zerolinewidth\":2},\"yaxis\":{\"automargin\":true,\"gridcolor\":\"white\",\"linecolor\":\"white\",\"ticks\":\"\",\"title\":{\"standoff\":15},\"zerolinecolor\":\"white\",\"zerolinewidth\":2}}},\"yaxis2\":{\"title\":{\"text\":\"Count (LSTM)\"},\"anchor\":\"x\",\"overlaying\":\"y\",\"side\":\"right\"},\"yaxis\":{\"title\":{\"text\":\"Count (regression)\"}},\"barmode\":\"overlay\",\"title\":{\"text\":\"<b>Histograme of MSEs</b> (Regression vs LSTM)\"}},                        {\"responsive\": true}                    ).then(function(){\n",
       "                            \n",
       "var gd = document.getElementById('7a392541-01db-42fb-a1c3-2ac9248be2a3');\n",
       "var x = new MutationObserver(function (mutations, observer) {{\n",
       "        var display = window.getComputedStyle(gd).display;\n",
       "        if (!display || display === 'none') {{\n",
       "            console.log([gd, 'removed!']);\n",
       "            Plotly.purge(gd);\n",
       "            observer.disconnect();\n",
       "        }}\n",
       "}});\n",
       "\n",
       "// Listen for the removal of the full notebook cells\n",
       "var notebookContainer = gd.closest('#notebook-container');\n",
       "if (notebookContainer) {{\n",
       "    x.observe(notebookContainer, {childList: true});\n",
       "}}\n",
       "\n",
       "// Listen for the clearing of the current output cell\n",
       "var outputEl = gd.closest('.output');\n",
       "if (outputEl) {{\n",
       "    x.observe(outputEl, {childList: true});\n",
       "}}\n",
       "\n",
       "                        })                };                });            </script>        </div>"
      ]
     },
     "metadata": {},
     "output_type": "display_data"
    }
   ],
   "source": [
    "fig = go.Figure()\n",
    "fig.add_trace(go.Histogram(x=res_df2['MSE test'], name='Regression MSEs'))\n",
    "fig.add_trace(go.Histogram(x=res_df['MSE'], name='LSTM MSEs', yaxis='y2'))\n",
    "\n",
    "# Create axis objects\n",
    "fig.update_layout(\n",
    "    xaxis=dict(),\n",
    "    yaxis=dict(\n",
    "        title=\"Count (regression)\"\n",
    "    ),\n",
    "    yaxis2=dict(\n",
    "        title=\"Count (LSTM)\",\n",
    "        anchor=\"x\",\n",
    "        overlaying=\"y\",\n",
    "        side=\"right\"\n",
    "    )\n",
    ")\n",
    "\n",
    "# Overlay both histograms\n",
    "fig.update_layout(barmode='overlay')\n",
    "# Reduce opacity to see both histograms\n",
    "fig.update_traces(opacity=0.75)\n",
    "\n",
    "fig.update_layout(\n",
    "    title_text='<b>Histograme of MSEs</b> (Regression vs LSTM)'\n",
    ")\n",
    "\n",
    "fig.show()"
   ]
  },
  {
   "cell_type": "markdown",
   "metadata": {},
   "source": [
    "## Comparing the 2 Model's Reliability"
   ]
  },
  {
   "cell_type": "markdown",
   "metadata": {},
   "source": [
    "### a) Comparing Median MSE Values"
   ]
  },
  {
   "cell_type": "code",
   "execution_count": 27,
   "metadata": {},
   "outputs": [
    {
     "name": "stdout",
     "output_type": "stream",
     "text": [
      "- LSTM median 'MSE' = \u001b[1m13333.1\u001b[0m\n",
      "- Regression average MSE (test) from 'R^2' & 'MSE train' = \u001b[1m4594.3\u001b[0m\n",
      "From the 2 values above, we see that the regression's MSE is \u001b[1m65.5%\u001b[0m less than LSTM's.\n"
     ]
    }
   ],
   "source": [
    "class color:\n",
    "   PURPLE = '\\033[95m'\n",
    "   CYAN = '\\033[96m'\n",
    "   DARKCYAN = '\\033[36m'\n",
    "   BLUE = '\\033[94m'\n",
    "   GREEN = '\\033[92m'\n",
    "   YELLOW = '\\033[93m'\n",
    "   RED = '\\033[91m'\n",
    "   BOLD = '\\033[1m'\n",
    "   UNDERLINE = '\\033[4m'\n",
    "   END = '\\033[0m'\n",
    "\n",
    "print(\"- LSTM median 'MSE' = \" + color.BOLD + f\"{res0.round(1)}\" + color.END)\n",
    "print(\"- Regression average MSE (test) from 'R^2' & 'MSE train' = \" + color.BOLD + f\"{((res1+res2)/2).round(1)}\" + color.END)\n",
    "print(\"From the 2 values above, we see that the regression's MSE is \" + color.BOLD + f\"{((res0 - (res1+res2)/2) / res0 * 100).round(1)}%\" + color.END + \" less than LSTM's.\")"
   ]
  },
  {
   "cell_type": "markdown",
   "metadata": {},
   "source": [
    "### b) Hypothesis Testing (Welch T Test)"
   ]
  },
  {
   "cell_type": "code",
   "execution_count": 22,
   "metadata": {},
   "outputs": [
    {
     "name": "stdout",
     "output_type": "stream",
     "text": [
      "p-value:  5.756720798857384e-09\n"
     ]
    }
   ],
   "source": [
    "reg_df = pd.read_csv(\"results/regression_results.csv\")\n",
    "reg = reg_df['MSE test']\n",
    "lstm = pd.read_csv(\"results/lstm_results.csv\")\n",
    "lstm.drop('Unnamed: 0', inplace=True, axis=1)\n",
    "from scipy import stats\n",
    "p_value = stats.ttest_ind(reg, lstm, equal_var = False)\n",
    "print(\"p-value: \", p_value[1][1])"
   ]
  },
  {
   "cell_type": "markdown",
   "metadata": {},
   "source": [
    "Let h0= \"both means are equal\", h1= \"lstm mean is higher than reg\", p value of test statistic is 5.756720798857384e-09, so at a <b>99%</b> confidence level we reject the null hypothesis."
   ]
  },
  {
   "cell_type": "markdown",
   "metadata": {},
   "source": [
    "# 2. Intelligent Decision"
   ]
  },
  {
   "cell_type": "markdown",
   "metadata": {},
   "source": [
    "## Conclusion"
   ]
  },
  {
   "cell_type": "markdown",
   "metadata": {},
   "source": [
    "#### Regression model performs much better than LSTM because it doesn't assume that the past indicates the future. <br> It puts more emphasis on understanding the relationship between economic situation and sentiments to stock prices."
   ]
  },
  {
   "cell_type": "markdown",
   "metadata": {},
   "source": [
    "## Recommendations"
   ]
  },
  {
   "cell_type": "markdown",
   "metadata": {},
   "source": [
    "1) Design a predictive model that takes both past trends and current economic situations as predictors <br> \n",
    "2) Try using weekly/daily data instead of quarterly/monthly data for more precise results i.e. quarterly/monthly data (e.g. GDP) can be converted to weekly/daily data by repeating the same values within the same quarter/month <br> \n",
    "3) Try testing model on other index funds or stocks to see how versatile it is<br>\n",
    "4) Bring in market sentiment indicators i.e NLP tools that scrapes and convert news headlines to measurable market/economic parameters, using that as an additional predictor <br>\n",
    "5) Use a simpler model whenever possible <br>\n",
    " - less time and resources means we are able to run more tests model e.g. we could run 1000 regressions in less than 15sec, but 20 LSTMs would already take 20-30min <br>\n",
    " - being able to run more tests allows us to better assess and refine model e.g. our good old regression ended up outperforming LSTM by a large margin <br>\n"
   ]
  },
  {
   "cell_type": "markdown",
   "metadata": {},
   "source": [
    "6) Always de-trend to ensure correlation is not a result of general trend <br>\n",
    "7) Select only top-most correlated features to avoid overfitting"
   ]
  }
 ],
 "metadata": {
  "interpreter": {
   "hash": "8393fb9997f2a05ac4160099d52961a5f0f6ca85cce011f9102be47b67de7d6a"
  },
  "kernelspec": {
   "display_name": "Python 3 (ipykernel)",
   "language": "python",
   "name": "python3"
  },
  "language_info": {
   "codemirror_mode": {
    "name": "ipython",
    "version": 3
   },
   "file_extension": ".py",
   "mimetype": "text/x-python",
   "name": "python",
   "nbconvert_exporter": "python",
   "pygments_lexer": "ipython3",
   "version": "3.9.5"
  }
 },
 "nbformat": 4,
 "nbformat_minor": 2
}
